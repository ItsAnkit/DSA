{
 "cells": [
  {
   "cell_type": "markdown",
   "metadata": {},
   "source": [
    "##### Infix to postfix conversion"
   ]
  },
  {
   "cell_type": "code",
   "execution_count": 149,
   "metadata": {
    "scrolled": true
   },
   "outputs": [
    {
     "name": "stdout",
     "output_type": "stream",
     "text": [
      "abcd^e-fgh*+^*+i-"
     ]
    }
   ],
   "source": [
    "import pdb\n",
    "class Conversion:\n",
    "    def __init__(self, str):\n",
    "        self.stack = []\n",
    "        self.size = len(str)\n",
    "        self.str = str\n",
    "        self.result = []\n",
    "        self.precedence = {'+': 1, '-': 1, \"*\": 2, \"/\": 2, \"^\": 3}\n",
    "        \n",
    "    def isEmpty(self):\n",
    "        return True if len(self.stack) == 0 else False\n",
    "\n",
    "    def isFull(self):\n",
    "        return True if len(self.stack) == self.size else False\n",
    "    \n",
    "    def isOperand(self, ch):\n",
    "        return ch.isalpha()\n",
    "    \n",
    "    def isOperator(self, ch):\n",
    "        return ch in self.precedence.keys()\n",
    "    \n",
    "    def stackNotEmpty(self):\n",
    "        return len(self.stack) > 0\n",
    "               \n",
    "    def convert(self):\n",
    "        for i in range(self.size):\n",
    "            if self.isOperand(self.str[i]):\n",
    "                print(self.str[i], end=\"\")\n",
    "            elif self.str[i] == \"(\":\n",
    "                self.stack.append(self.str[i])\n",
    "                \n",
    "            elif str[i] == \")\":\n",
    "                while self.stackNotEmpty() and self.stack[-1] != \"(\":\n",
    "                    print(self.stack.pop(), end=\"\")\n",
    "                # pop opening bracket from stack\n",
    "                if self.stack[-1] == \"(\":\n",
    "                    self.stack.pop()\n",
    "            else:\n",
    "                # Pop if stck top has higher precedence than current char\n",
    "                while self.stackNotEmpty() and self.stack[-1] != \"(\" and self.precedence[self.stack[-1]] >= self.precedence[self.str[i]]:\n",
    "                    print(self.stack.pop(), end=\"\")\n",
    "                self.stack.append(self.str[i])\n",
    "                \n",
    "        while self.stackNotEmpty():\n",
    "            print(self.stack.pop(), end=\"\")\n",
    "        \n",
    "str = \"a+b*(c^d-e)^(f+g*h)-i\"\n",
    "converter = Conversion(str)\n",
    "converter.convert()"
   ]
  },
  {
   "cell_type": "markdown",
   "metadata": {},
   "source": [
    "### Max points with same slope in 2D plane."
   ]
  },
  {
   "cell_type": "code",
   "execution_count": 115,
   "metadata": {},
   "outputs": [],
   "source": [
    "# compute overlapping points\n",
    "# compute vertical points\n",
    "# compute points on same slope\n",
    "\n",
    "def max_points(points):\n",
    "    size = len(points)\n",
    "    if size < 2:\n",
    "        return size\n",
    "    maxPoint = 0\n",
    "\n",
    "    for i in range(size):\n",
    "        slope_dict = {}\n",
    "        current_max, verticalPoints, overlappingPoints = 0, 0, 0\n",
    "        for j in range(i+1, size):\n",
    "            if (points[i] == points[j]):\n",
    "                overlappingPoints += 1\n",
    "            elif points[i][0] == points[j][0]:\n",
    "                verticalPoints += 1\n",
    "            else:\n",
    "                y_diff = points[j][1] - points[i][1]\n",
    "                x_diff = points[j][0] - points[i][0]\n",
    "                gcd = find_gcd(x_diff, y_diff)\n",
    "                y_diff = y_diff / gcd\n",
    "                x_diff = x_diff / gcd\n",
    "                pair = str(x_diff) + str(y_diff)\n",
    "                if pair in slope_dict:\n",
    "                    slope_dict[pair] = slope_dict[pair] + 1\n",
    "                else:\n",
    "                    slope_dict[pair] = 1\n",
    "                current_max = max(current_max, slope_dict[pair])\n",
    "            # pick max among verticalPoints and slope count in dictionary\n",
    "            current_max = max(current_max, verticalPoints)\n",
    "        \n",
    "        maxPoint = max(maxPoint, current_max + overlappingPoints + 1)\n",
    "    return maxPoint\n",
    "\n",
    "\n",
    "def find_gcd(x, y):\n",
    "    if y == 0:\n",
    "        return x\n",
    "    return gcd(y, (x%y))\n",
    "   "
   ]
  },
  {
   "cell_type": "code",
   "execution_count": 13,
   "metadata": {},
   "outputs": [
    {
     "name": "stdout",
     "output_type": "stream",
     "text": [
      "4\n"
     ]
    }
   ],
   "source": [
    "p = [[-1, 1], [0, 0], [1, 1], [2, 2], [3, 3], [3, 4]]\n",
    "print(max_points(p))"
   ]
  },
  {
   "cell_type": "markdown",
   "metadata": {},
   "source": [
    "#### Submatrix sum"
   ]
  },
  {
   "cell_type": "code",
   "execution_count": 24,
   "metadata": {},
   "outputs": [],
   "source": [
    "def process(mat, r, c):\n",
    "    aux = [[0 for i in range(c)] for j in range(r)]\n",
    "    \n",
    "    # store first row\n",
    "    for j in range(c):\n",
    "        aux[0][j] = mat[0][j]\n",
    "\n",
    "    # store column wise sum\n",
    "    for j in range(c):\n",
    "        sum = mat[0][j]\n",
    "        for i in range(1, r):\n",
    "            sum += mat[i][j]\n",
    "            aux[i][j] = sum\n",
    "        \n",
    "    # store row wise sum\n",
    "    for i in range(r):\n",
    "        sum = aux[i][0]\n",
    "        for j in range(1, c):\n",
    "            sum += aux[i][j]\n",
    "            aux[i][j] = sum\n",
    "    return aux\n",
    "\n",
    "\n",
    "def submatrix_sum(mat, aux, rs, re, cs, ce):\n",
    "    rows = len(arr)\n",
    "    cols = len(arr[0])\n",
    "    print(aux[re][ce], aux[rs - 1][ce], aux[re][cs - 1], aux[rs][cs])\n",
    "    if re >= rs and re < rows and rs >= 0 and ce >= cs and ce < cols and cs >= 0:\n",
    "        sum = aux[re][ce] - aux[rs - 1][ce] - aux[re][cs - 1] + aux[rs - 1][cs - 1]\n",
    "        print(sum)\n",
    "    else:\n",
    "        print(-1)\n"
   ]
  },
  {
   "cell_type": "code",
   "execution_count": 23,
   "metadata": {},
   "outputs": [
    {
     "name": "stdout",
     "output_type": "stream",
     "text": [
      "[1, 3, 6, 10, 16]\n",
      "[6, 11, 22, 27, 35]\n",
      "[10, 21, 39, 49, 62]\n",
      "[12, 27, 53, 72, 89]\n",
      "72 10 12 11\n",
      "51\n"
     ]
    }
   ],
   "source": [
    "arr = [[1, 2, 3, 4, 6],\n",
    "       [5, 3, 8, 1, 2],\n",
    "       [4, 6, 7, 5, 5],\n",
    "       [2, 4, 8, 9, 4]]\n",
    "\n",
    "pre_process = process(arr, 4, 5)\n",
    "for i in range(4):\n",
    "    print(pre_process[i])\n",
    "submatrix_sum(arr, pre_process, 1, 3, 1, 3)\n",
    "# len(arr[0])"
   ]
  },
  {
   "cell_type": "code",
   "execution_count": 97,
   "metadata": {},
   "outputs": [
    {
     "data": {
      "text/plain": [
       "4"
      ]
     },
     "execution_count": 97,
     "metadata": {},
     "output_type": "execute_result"
    }
   ],
   "source": [
    "a= [1,2,3,4]\n",
    "a[-1]"
   ]
  },
  {
   "cell_type": "code",
   "execution_count": 87,
   "metadata": {},
   "outputs": [],
   "source": [
    "import sys\n",
    "import time\n",
    "\n",
    "def merge_k_sorted_arrays(mat):\n",
    "    size = len(mat)\n",
    "    res = []\n",
    "    while (len(mat) > 0):\n",
    "        row = 0\n",
    "        min_val = sys.maxsize\n",
    "        for i in range(len(mat)):\n",
    "            if len(mat[i]) > 0 and mat[i][0] < min_val:\n",
    "                min_val = mat[i][0]\n",
    "                row = i\n",
    "        res.append(min_val)\n",
    "        if len(mat[row]) == 1:\n",
    "            mat.pop(row)\n",
    "        else:\n",
    "            mat[row].pop(0)\n",
    "    return res\n"
   ]
  },
  {
   "cell_type": "code",
   "execution_count": 88,
   "metadata": {},
   "outputs": [
    {
     "name": "stdout",
     "output_type": "stream",
     "text": [
      "[1, 2, 3, 4, 5, 6, 8, 9, 9, 11]\n",
      "Rime computed:  0.0005292892456054688\n"
     ]
    }
   ],
   "source": [
    "a = [[1,5,9], [3,4,11], [2, 6, 8,9]]\n",
    "start = time.time()\n",
    "res = merge_k_sorted_arrays(a)\n",
    "print(res)\n",
    "end = time.time()\n",
    "print(\"Rime computed: \", end - start)"
   ]
  },
  {
   "cell_type": "code",
   "execution_count": 84,
   "metadata": {},
   "outputs": [
    {
     "data": {
      "text/plain": [
       "9223372036854775807"
      ]
     },
     "execution_count": 84,
     "metadata": {},
     "output_type": "execute_result"
    }
   ],
   "source": [
    "a = [41, 31, 30, 57]\n",
    "key = 30\n",
    "[item for item in a if item not in [key]]"
   ]
  },
  {
   "cell_type": "code",
   "execution_count": 154,
   "metadata": {},
   "outputs": [
    {
     "data": {
      "text/plain": [
       "'1245'"
      ]
     },
     "execution_count": 154,
     "metadata": {},
     "output_type": "execute_result"
    }
   ],
   "source": [
    "a = \"12345\"\n",
    "a[:2] + a[3:]"
   ]
  },
  {
   "cell_type": "code",
   "execution_count": 9,
   "metadata": {},
   "outputs": [
    {
     "data": {
      "text/plain": [
       "2"
      ]
     },
     "execution_count": 9,
     "metadata": {},
     "output_type": "execute_result"
    }
   ],
   "source": [
    "import bisect\n",
    "a = [1,2,3,4,5]\n",
    "bisect.bisect_right(a, 2)"
   ]
  },
  {
   "cell_type": "code",
   "execution_count": 12,
   "metadata": {},
   "outputs": [
    {
     "data": {
      "text/plain": [
       "['1', '2', '3']"
      ]
     },
     "execution_count": 12,
     "metadata": {},
     "output_type": "execute_result"
    }
   ],
   "source": [
    "list(map(str, [1,2,3]))"
   ]
  },
  {
   "cell_type": "code",
   "execution_count": 15,
   "metadata": {},
   "outputs": [
    {
     "data": {
      "text/plain": [
       "'1 2'"
      ]
     },
     "execution_count": 15,
     "metadata": {},
     "output_type": "execute_result"
    }
   ],
   "source": [
    "\" \".join(['1', '2'])"
   ]
  },
  {
   "cell_type": "code",
   "execution_count": 25,
   "metadata": {},
   "outputs": [
    {
     "name": "stdout",
     "output_type": "stream",
     "text": [
      "0\n"
     ]
    }
   ],
   "source": []
  },
  {
   "cell_type": "markdown",
   "metadata": {},
   "source": [
    "#### BST from postorder traversal as well as preorder traversal"
   ]
  },
  {
   "cell_type": "code",
   "execution_count": 1,
   "metadata": {},
   "outputs": [
    {
     "name": "stdout",
     "output_type": "stream",
     "text": [
      "10 ---\n",
      "1 5 7 10 40 50 \n",
      "10 ---\n",
      "1 5 7 10 40 50 "
     ]
    }
   ],
   "source": [
    "import pdb\n",
    "\n",
    "class Node:\n",
    "    def __init__(self, data = 0):\n",
    "        self.data = data\n",
    "        self.right = None\n",
    "        self.left = None\n",
    "        \n",
    "def construct_BST_from_postorder(arr):\n",
    "    root = Node(arr[-1])\n",
    "    stack = [root]\n",
    "    starter = len(arr) - 2\n",
    "    for i in range(starter, -1, -1):\n",
    "        new_node = Node(arr[i])\n",
    "        last_possible_node = stack[-1]\n",
    "        # if node smaller than stack top, pop until stack is empty or you find last greater node\n",
    "        # if element is greater than stack top then, we won't pop any element\n",
    "        while (stack and arr[i] < stack[-1].data):\n",
    "            last_possible_node = stack.pop()\n",
    "    \n",
    "        if arr[i] > last_possible_node.data:  \n",
    "            last_possible_node.right = new_node    \n",
    "        else:\n",
    "            last_possible_node.left = new_node\n",
    "        stack.append(new_node)\n",
    "            \n",
    "    return root\n",
    "\n",
    "def construct_BST_from_preorder(arr):\n",
    "    root = Node(arr[0])\n",
    "    stack = [root]\n",
    "    length = len(arr)\n",
    "    for i in range(1, length):\n",
    "        new_node = Node(arr[i])\n",
    "        last_possible_node = stack[-1]\n",
    "        # if node smaller than stack top, pop until stack is empty or you find last greater node\n",
    "        # if element is greater than stack top then, we won't pop any element\n",
    "        while (stack and arr[i] > stack[-1].data):\n",
    "            last_possible_node = stack.pop()\n",
    "    \n",
    "        if arr[i] > last_possible_node.data:  \n",
    "            last_possible_node.right = new_node    \n",
    "        else:\n",
    "            last_possible_node.left = new_node\n",
    "        stack.append(new_node)\n",
    "            \n",
    "    return root\n",
    "    \n",
    "def inorder_print(node):\n",
    "    if node is None:\n",
    "        return\n",
    "    inorder_print(node.left)\n",
    "    print(node.data, end = \" \")\n",
    "    inorder_print(node.right)\n",
    "\n",
    "    \n",
    "# from postorder traversal\n",
    "post = [1, 7, 5, 50, 40, 10]\n",
    "bst_root = construct_BST_from_postorder(post)\n",
    "print(bst_root.data, \"---\")\n",
    "inorder_print(bst_root)\n",
    "print()\n",
    "\n",
    "# from preorder traversal\n",
    "pre = [10, 5, 1, 7, 40, 50] \n",
    "bst_root = construct_BST_from_preorder(pre)\n",
    "print(bst_root.data, \"---\")\n",
    "inorder_print(bst_root)"
   ]
  },
  {
   "cell_type": "markdown",
   "metadata": {},
   "source": [
    "### check if subtree of another tree"
   ]
  },
  {
   "cell_type": "code",
   "execution_count": 4,
   "metadata": {},
   "outputs": [
    {
     "name": "stdout",
     "output_type": "stream",
     "text": [
      "True\n"
     ]
    }
   ],
   "source": [
    "class Node:\n",
    "    def __init__(self, data):\n",
    "        self.data = data\n",
    "        self.left = None\n",
    "        self.right = None\n",
    "        \n",
    "def isSame(root1, root2):\n",
    "    if root1 is None and root2 is None:\n",
    "        return True\n",
    "    # check if either one of them is not None as they bypassed last condition\n",
    "    if root1 is None or root2 is None:\n",
    "        return False\n",
    "    return root1.data == root2.data and isSame(root1.left, root2.left) and isSame(root1.right, root2.right)\n",
    "\n",
    "def check(T, S):\n",
    "    # Base cases\n",
    "    if S is None:\n",
    "        return True\n",
    "    if T is None:\n",
    "        return False\n",
    "\n",
    "    ### First way\n",
    "    if isSame(T, S):\n",
    "        return True\n",
    "    \n",
    "    ####### Another way, use isIdentical()\n",
    "    \n",
    "    return check(T.left, S) or check(T.right, S)\n",
    "\n",
    "def isIdentical(node1, node2):\n",
    "    arr1 = []\n",
    "    arr2 = []\n",
    "    preorder(node1, arr1)\n",
    "    preorder(node2, arr2)\n",
    "    return arr1 == arr2\n",
    "\n",
    "def preorder(node, arr):\n",
    "    if node is None:\n",
    "        return\n",
    "    preorder(node.left, arr)\n",
    "    arr.append(node.data)\n",
    "    preorder(node.right, arr)\n",
    "\n",
    "T = Node(10)\n",
    "T.right = Node(15)\n",
    "T.left = Node(4)\n",
    "T.left.left = Node(3)\n",
    "T.left.right = Node(8)\n",
    "T.left.left.left = Node(1)\n",
    "T.left.left.right = Node(4)\n",
    "T.right.left = Node(12)\n",
    "\n",
    "S = Node(3)\n",
    "S.left = Node(1)\n",
    "S.right = Node(4)\n",
    "# S.left.left = Node(0)\n",
    "\n",
    "print(check(T, S))"
   ]
  },
  {
   "cell_type": "markdown",
   "metadata": {},
   "source": [
    "#### make all elements of repsective rows and column of matrix as 1 for cell valued 1"
   ]
  },
  {
   "cell_type": "code",
   "execution_count": 107,
   "metadata": {},
   "outputs": [
    {
     "name": "stdout",
     "output_type": "stream",
     "text": [
      "[1, 1, 1]\n",
      "[1, 1, 1]\n",
      "[1, 1, 0]\n"
     ]
    }
   ],
   "source": [
    "import pdb\n",
    "\n",
    "def convert(arr, rows, cols):\n",
    "    row_flag = True\n",
    "    col_flag = True\n",
    "     \n",
    "    for i in range(rows):\n",
    "        for j in range(cols):\n",
    "            if i == 0 and arr[i][j] == 1:\n",
    "                row_flag = True\n",
    "            if j == 0 and arr[i][j] == 1:\n",
    "                col_flag = True\n",
    "            \n",
    "            # set it's respective cells in first row and column as 1\n",
    "            if arr[i][j] == 1:\n",
    "                arr[0][j] = 1\n",
    "                arr[i][0] = 1\n",
    "\n",
    "    # handle submatrix\n",
    "    for i in range(1, rows):\n",
    "        for j in range(1, cols):\n",
    "            if arr[0][j] == 1 or arr[i][0] == 1:\n",
    "                arr[i][j] = 1 \n",
    "    \n",
    "    if row_flag == True:\n",
    "        for i in range(0, rows):\n",
    "            arr[i][0] = 1\n",
    "    \n",
    "    if col_flag == True:\n",
    "        for j in range(0, cols):\n",
    "            arr[0][j] = 1\n",
    "                \n",
    "arr = [[1, 0, 0], [0, 1, 0], [0, 0, 0]]\n",
    "size = 3\n",
    "convert(arr, 3, 3)\n",
    "for i in range(size):\n",
    "    print(arr[i])"
   ]
  },
  {
   "cell_type": "markdown",
   "metadata": {},
   "source": [
    "#### heap sort"
   ]
  },
  {
   "cell_type": "code",
   "execution_count": 42,
   "metadata": {},
   "outputs": [
    {
     "name": "stdout",
     "output_type": "stream",
     "text": [
      "[11, 7, 9, 5, 3, 8, 1, 4]\n",
      "[1, 3, 4, 5, 7, 8, 9, 11]\n"
     ]
    }
   ],
   "source": [
    "# heap application in k largest elements in array\n",
    "\n",
    "import math\n",
    "\n",
    "def max_heapify(arr, i, heapsize):\n",
    "    # O(lgn)\n",
    "    l = 2*i + 1\n",
    "    r = 2*i + 2\n",
    "    largest = i\n",
    "    if l < heapsize and arr[l] > arr[largest]:\n",
    "        largest = l\n",
    "    if r < heapsize and arr[r] > arr[largest]:\n",
    "        largest = r\n",
    "    if largest != i:\n",
    "        arr[largest], arr[i] = arr[i], arr[largest]\n",
    "        max_heapify(arr, largest, heapsize)\n",
    "    \n",
    "\n",
    "def heap_sort(arr):\n",
    "    length = len(arr)\n",
    "    heapsize = length\n",
    "    # build max heap\n",
    "    # we are considering length/2 as we have to consider it's left and right child i.e., 2i + 1 and 2i + 2\n",
    "    # so elements are after length/2 doesn't have any left and right child for heapify procedure\n",
    "    for i in range(length//2 - 1, -1, -1):\n",
    "        max_heapify(arr, i, heapsize)\n",
    "    \n",
    "    # O(n)\n",
    "    for i in range(length - 1, 0, -1):\n",
    "        # replace max element at root with the last heap element\n",
    "        arr[i], arr[0] = arr[0], arr[i]\n",
    "        heapsize = i\n",
    "        max_heapify(arr, 0, heapsize)\n",
    "        \n",
    "arr = [9, 5, 1, 4, 3, 8, 11, 7]\n",
    "heap_sort(arr)\n",
    "print(arr)"
   ]
  },
  {
   "cell_type": "markdown",
   "metadata": {},
   "source": [
    "#### Trie implementation for finding strings which are not prefixes"
   ]
  },
  {
   "cell_type": "code",
   "execution_count": 6,
   "metadata": {},
   "outputs": [
    {
     "name": "stdout",
     "output_type": "stream",
     "text": [
      "apple\n",
      "there\n",
      "xyz\n"
     ]
    }
   ],
   "source": [
    "import pdb\n",
    "\n",
    "class TrieNode:\n",
    "    def __init__(self):\n",
    "        self.children = [None] * 26\n",
    "        self.isStringEnd = False\n",
    "\n",
    "def insert_node(key, node):\n",
    "    for i in range(len(key)):\n",
    "        index = ord(key[i]) - 97\n",
    "        if node.children[index] is None:\n",
    "            node.children[index] = TrieNode()\n",
    "        node = node.children[index]\n",
    "\n",
    "    # check for prefix\n",
    "    for i in range(26):\n",
    "        if node.children[i]:\n",
    "            break\n",
    "\n",
    "    # it's reference array is empty and reached end of String\n",
    "    if i == 25:\n",
    "        node.isStringEnd = True\n",
    "\n",
    "def display(node, arr, level):\n",
    "    if node.isStringEnd:\n",
    "        arr[level:] = \"\"\n",
    "        print(\"\".join(arr))\n",
    "\n",
    "    # We go through one char at a time and proceed with word of that letter by incrementing level and accrodngly storing it in array \n",
    "    for i in range(26):\n",
    "        if node.children[i] is not None:\n",
    "            char = chr(97 + i)\n",
    "            arr[level] = char\n",
    "            display(node.children[i], arr, level + 1)\n",
    "\n",
    "keys = [\"apple\", \"app\", \"there\", \"the\", \"xyz\"]\n",
    "\n",
    "root = TrieNode()\n",
    "\n",
    "for key in keys:\n",
    "    insert_node(key, root)\n",
    "\n",
    "level = 0\n",
    "arr = [\"\"] * 50\n",
    "display(root, arr, level)"
   ]
  },
  {
   "cell_type": "markdown",
   "metadata": {},
   "source": [
    "### inversion count"
   ]
  },
  {
   "cell_type": "code",
   "execution_count": 43,
   "metadata": {},
   "outputs": [
    {
     "data": {
      "text/plain": [
       "2"
      ]
     },
     "execution_count": 43,
     "metadata": {},
     "output_type": "execute_result"
    }
   ],
   "source": [
    "def calc_triplets_count(arr, len):\n",
    "    triplets_count = 0\n",
    "    arr.sort()\n",
    "    for current in range(len):\n",
    "        next_ind = current + 1\n",
    "        second_next = next_ind + 1\n",
    "        while (second_next < (len - 1)):\n",
    "            if (arr[current] + arr[next_ind] < arr[second_next]):\n",
    "                if ((second_next - next_ind) == 1):\n",
    "                    second_next += 1\n",
    "                else:\n",
    "                    next_ind += 1\n",
    "            elif (arr[current] + arr[next_ind] == arr[second_next]):\n",
    "                triplets_count +=1\n",
    "                second_next += 1\n",
    "            else:\n",
    "                second_next += 1\n",
    "    return triplets_count\n",
    "\n",
    "a = [1,2,3,4,5]\n",
    "calc_triplets_count(a, len(a))\n",
    "\n",
    "\n",
    "\n",
    "def calc_triplets_count(arr):\n",
    "    length = len(arr)\n",
    "    triplets_count = 0\n",
    "    arr.sort()\n",
    "    for current in range(length):\n",
    "        next_ind = current + 1\n",
    "        second_next = next_ind + 1\n",
    "        while (second_next < (length - 1)):\n",
    "            try:\n",
    "                if (arr[current] + arr[next_ind] < arr[second_next]):\n",
    "                    if ((second_next - next_ind) == 1):\n",
    "                        second_next += 1\n",
    "                    else:\n",
    "                        next_ind += 1\n",
    "                elif (arr[current] + arr[next_ind] == arr[second_next]):\n",
    "                    triplets_count +=1\n",
    "                    second_next += 1\n",
    "                else:\n",
    "                    second_next += 1t\n",
    "            except:\n",
    "                pdb.set_trace()\n",
    "    if triplets_count == 0:\n",
    "        triplets_count = -1\n",
    "    return triplets_count + 1\n",
    "\n",
    "\n",
    "num_testcases = int(input())\n",
    "for i in range(num_testcases):\n",
    "    length = int(input())\n",
    "    input_arr = list(filter(None, input().split()))\n",
    "    final_arr = list(map(int, input_arr))\n",
    "    print(calc_triplets_count(final_arr))"
   ]
  },
  {
   "cell_type": "markdown",
   "metadata": {},
   "source": [
    "### Merge arrays"
   ]
  },
  {
   "cell_type": "code",
   "execution_count": 47,
   "metadata": {},
   "outputs": [
    {
     "name": "stdout",
     "output_type": "stream",
     "text": [
      "[1, 3, 5, 7] [0, 2, 6, 8, 9]\n",
      "[0, 3, 5, 7] [1, 2, 6, 8, 9]\n",
      "[0, 1, 5, 7] [2, 3, 6, 8, 9]\n",
      "[0, 1, 2, 7] [3, 5, 6, 8, 9]\n"
     ]
    },
    {
     "data": {
      "text/plain": [
       "[0, 1, 2, 3, 5, 6, 7, 8, 9]"
      ]
     },
     "execution_count": 47,
     "metadata": {},
     "output_type": "execute_result"
    }
   ],
   "source": [
    "import pdb\n",
    "\n",
    "def merge_arrays(arr1, arr2, size1, size2):\n",
    "    for first_ctr in range(size1):\n",
    "        second_ctr = 0\n",
    "        print(arr1, arr2)\n",
    "        if (arr1[first_ctr] <= arr2[second_ctr]):\n",
    "            first_ctr += 1\n",
    "        else:\n",
    "            temp = arr1[first_ctr]\n",
    "            arr1[first_ctr] = arr2[second_ctr]\n",
    "            # arr2[second_ctr] = temp\n",
    "#             current_sec_ctr = second_ctr\n",
    "            second_ctr += 1\n",
    "            while ((second_ctr < size2) and (arr2[second_ctr] < temp)):\n",
    "                arr2[second_ctr - 1] = arr2[second_ctr]\n",
    "                second_ctr += 1\n",
    "            arr2[second_ctr - 1] = temp \n",
    "    return arr1 + arr2\n",
    "\n",
    "arr1 = [1, 3, 5, 7]\n",
    "arr2 = [0, 2, 6, 8, 9]\n",
    "\n",
    "merge_arrays(arr1, arr2, len(arr1), len(arr2))"
   ]
  },
  {
   "cell_type": "markdown",
   "metadata": {},
   "source": [
    "#### String permutations"
   ]
  },
  {
   "cell_type": "code",
   "execution_count": 48,
   "metadata": {},
   "outputs": [
    {
     "name": "stdout",
     "output_type": "stream",
     "text": [
      "CAB\n",
      "ACB\n"
     ]
    }
   ],
   "source": [
    "import pdb\n",
    "\n",
    "def permute(str, start, end):\n",
    "    if (start == end):\n",
    "        print(\"\".join(str))\n",
    "    else:\n",
    "        while (start <= end):\n",
    "            str[start], str[end] = str[end], str[start]\n",
    "            permute(str, start + 1, end)\n",
    "            str[start], str[end] = str[end], str[start]\n",
    "            start += 1\n",
    "            \n",
    "str = ['A', 'B', 'C']\n",
    "permute(str, 0, 2)"
   ]
  },
  {
   "cell_type": "markdown",
   "metadata": {},
   "source": [
    "#### modify binary tree to get preorder traversal using right pointers"
   ]
  },
  {
   "cell_type": "code",
   "execution_count": 9,
   "metadata": {},
   "outputs": [
    {
     "name": "stdout",
     "output_type": "stream",
     "text": [
      "10 8 3 1 5 2 "
     ]
    }
   ],
   "source": [
    "class Node:\n",
    "    def __init__(self, data):\n",
    "        self.data = data\n",
    "        self.right = None\n",
    "        self.left = None\n",
    "    \n",
    "def modify(node):\n",
    "    if node is None:\n",
    "        return\n",
    "\n",
    "    stack = [node]\n",
    "    prev = None\n",
    "    \n",
    "    while len(stack):\n",
    "        node = stack.pop()\n",
    "        \n",
    "        # as we are using stack, left child will be at top\n",
    "        if node.right:\n",
    "            stack.append(node.right)\n",
    "        if node.left:\n",
    "            stack.append(node.left)\n",
    "            \n",
    "        # we will move node to right of prev node\n",
    "        if prev is not None:\n",
    "            prev.right = node\n",
    "             \n",
    "        # make current node as prev\n",
    "        prev = node\n",
    "        \n",
    "node = Node(10)\n",
    "node.right = Node(2)\n",
    "node.left = Node(8)\n",
    "node.left.left = Node(3)\n",
    "node.left.right = Node(5)\n",
    "node.left.left.left = Node(1)\n",
    "\n",
    "modify(node)\n",
    "\n",
    "while node is not None:\n",
    "    print(node.data, end = \" \")\n",
    "    node = node.right"
   ]
  },
  {
   "cell_type": "code",
   "execution_count": 63,
   "metadata": {},
   "outputs": [
    {
     "name": "stdout",
     "output_type": "stream",
     "text": [
      "3\n",
      "0.0004391670227050781\n"
     ]
    }
   ],
   "source": [
    "from time import time\n",
    "\n",
    "def modular_exponentiation(num, power, mod_val):\n",
    "    res = num\n",
    "    while power > 1:\n",
    "        res = (res%mod_val * num%mod_val)\n",
    "        power -= 1\n",
    "    print(res%mod_val)\n",
    "     \n",
    "      \n",
    "s = time()\n",
    "modular_exponentiation(50, 100, 13)\n",
    "e = time()\n",
    "print(e-s)"
   ]
  },
  {
   "cell_type": "code",
   "execution_count": 84,
   "metadata": {},
   "outputs": [
    {
     "data": {
      "text/plain": [
       "20.0"
      ]
     },
     "execution_count": 84,
     "metadata": {},
     "output_type": "execute_result"
    }
   ],
   "source": [
    "def binomial_coefficient(n, k):\n",
    "    # pick smaller one among k and n - k\n",
    "    if k > n - k:\n",
    "        k = n - k\n",
    "        \n",
    "    res = 1\n",
    "    for i in range(k):\n",
    "        res = res * (n - i)\n",
    "        res = res / (i + 1)\n",
    "    return res\n",
    "\n",
    "binomial_coefficient(6, 3)"
   ]
  },
  {
   "cell_type": "markdown",
   "metadata": {},
   "source": [
    "##### Rotten oranges"
   ]
  },
  {
   "cell_type": "code",
   "execution_count": 37,
   "metadata": {},
   "outputs": [
    {
     "name": "stdout",
     "output_type": "stream",
     "text": [
      "2\n"
     ]
    }
   ],
   "source": [
    "import pdb\n",
    "\n",
    "def queue_insert(mat, queue, rows, cols, visited):\n",
    "    for i in range(rows):\n",
    "        for j in range(cols):\n",
    "            if mat[i][j] == 2 and visited[i][j] == False:\n",
    "                queue.append([i, j])\n",
    "    queue.append([-1, -1])\n",
    "\n",
    "def neighbor_rot(mat, pos, rows, cols, visited, queue, changedFlag):\n",
    "    i = pos[0]\n",
    "    j = pos[1]\n",
    "    \n",
    "    row_nbr = [-1, 0, 0, 1]\n",
    "    col_nbr = [0, -1, 1, 0]\n",
    "\n",
    "    for k in range(4):\n",
    "        row = i + row_nbr[k]\n",
    "        col = j + col_nbr[k]\n",
    "        if row >=0 and row < rows and col >= 0 and col < cols and visited[row][col] == False and mat[row][col] == 1:\n",
    "            visited[row][col] = True\n",
    "            changedFlag = True\n",
    "            mat[row][col] = 2\n",
    "            queue.append([row, col])\n",
    "    return changedFlag\n",
    "    \n",
    "def rotten_oranges(mat, rows, cols):\n",
    "    queue = []\n",
    "    visited = [[False for i in range(cols)] for j in range(rows)]\n",
    "    queue_insert(mat, queue, rows, cols, visited)\n",
    "    count = 0\n",
    "    changedFlag = False\n",
    "\n",
    "    while len(queue) > 0:\n",
    "        if queue[0] == [-1, -1]:\n",
    "            if changedFlag:\n",
    "                count += 1\n",
    "            changedFlag = False\n",
    "            queue.pop(0)\n",
    "            if len(queue) == 0:\n",
    "                break\n",
    "            queue.append([-1, -1])\n",
    "        else:\n",
    "            changedFlag = neighbor_rot(mat, queue[0], rows, cols, visited, queue, changedFlag)\n",
    "            queue.pop(0)\n",
    "        \n",
    "    # if all oranges are not rotten\n",
    "    for i in range(rows):\n",
    "        for j in range(cols):\n",
    "            if mat[i][j] == 1:\n",
    "                return -1\n",
    "                \n",
    "    return count\n",
    "\n",
    "mat = [[2, 1, 0, 2, 1], \n",
    "       [1, 0, 1, 2, 1], \n",
    "       [1, 0, 0, 2, 1]]\n",
    "\n",
    "mat1 = [[2, 1, 0, 2, 1],\n",
    "        [0, 0, 1, 2, 1],\n",
    "        [1, 0, 0, 2, 1]]\n",
    "    \n",
    "print(rotten_oranges(mat, 3, 5))"
   ]
  },
  {
   "cell_type": "markdown",
   "metadata": {},
   "source": [
    "#### merge without extra space"
   ]
  },
  {
   "cell_type": "code",
   "execution_count": 54,
   "metadata": {},
   "outputs": [
    {
     "name": "stdout",
     "output_type": "stream",
     "text": [
      "[1, 2, 3, 5, 8, 9]\n",
      "[10, 13, 15, 20]\n"
     ]
    }
   ],
   "source": [
    "def merge_wo_extra_space(arr1, arr2):\n",
    "    for i in range(len(arr1)):\n",
    "        print(arr1, arr2)\n",
    "        j = 0\n",
    "        if arr1[i] > arr2[j]:\n",
    "            temp = arr2[j]\n",
    "            while arr2[j] < arr1[i] and j < len(arr2) - 1:\n",
    "                arr2[j] = arr2[j + 1]\n",
    "                j += 1\n",
    "            if j == len(arr2) - 1 and arr2[j] < arr1[i]:\n",
    "                arr2[j] = arr1[i]\n",
    "            else:\n",
    "                arr2[j - 1] = arr1[i]\n",
    "            arr1[i] = temp\n",
    "    \n",
    "    print(arr1)\n",
    "    print(arr2)\n",
    "    \n",
    "    \n",
    "def correct_merge_wo_extra_space(arr1, arr2, size1, size2):\n",
    "    for j in range(size2 - 1, -1, -1):\n",
    "        last = arr1[size1 - 1]\n",
    "        \n",
    "        i = size1 - 2\n",
    "        while i >=0 and arr1[i] > arr2[j]:\n",
    "            arr1[i + 1] = arr1[i]\n",
    "            i -= 1\n",
    "        \n",
    "        if i != size1-2 or last > arr2[j]:\n",
    "            arr1[i + 1] = arr2[j]\n",
    "            arr2[j] = last\n",
    "\n",
    "arr1 = [1, 5, 9, 10, 15, 20]\n",
    "arr2 = [2, 3, 8, 13]\n",
    "correct_merge_wo_extra_space(arr1, arr2, 6, 4)\n",
    "print(arr1)\n",
    "print(arr2)"
   ]
  },
  {
   "cell_type": "code",
   "execution_count": 14,
   "metadata": {},
   "outputs": [
    {
     "name": "stdout",
     "output_type": "stream",
     "text": [
      "3\n",
      "7\n"
     ]
    }
   ],
   "source": [
    "from heapq import heappush, heappop, heapify\n",
    "\n",
    "# class Item:\n",
    "#     def __init__(self, data, priority): \n",
    "#         self.data = data\n",
    "#         self.priority = priority\n",
    "#     end\n",
    "    \n",
    "class MinHeap:\n",
    "    def __init__(self):\n",
    "        self.heap = []\n",
    "    \n",
    "    def insert(self, data):\n",
    "        heappush(self.heap, data)\n",
    "    \n",
    "    def parent(self, i):\n",
    "        return i // 2\n",
    "    \n",
    "    def extractMin(self):\n",
    "        heappop(self.heap) \n",
    "    \n",
    "    def get_min(self):\n",
    "        return self.heap[0]\n",
    "    \n",
    "    def delete(self, i):\n",
    "        self.heap[i] = float(\"-inf\")\n",
    "        heapify(self.heap)\n",
    "        self.extractMin()\n",
    "    \n",
    "heap = MinHeap()\n",
    "heap.insert(10)\n",
    "heap.insert(4)\n",
    "heap.insert(13)\n",
    "heap.insert(7)\n",
    "heap.insert(3)\n",
    "print(heap.get_min())\n",
    "heap.delete(0)\n",
    "heap.delete(0)\n",
    "print(heap.get_min())\n",
    "    "
   ]
  },
  {
   "cell_type": "code",
   "execution_count": 18,
   "metadata": {},
   "outputs": [
    {
     "name": "stdout",
     "output_type": "stream",
     "text": [
      "e\n"
     ]
    }
   ],
   "source": [
    "class PriorityQueue:\n",
    "    def __init__(self):\n",
    "        self.heap = []\n",
    "        \n",
    "    def get_max(self):\n",
    "        return self.heap[0][1]   \n",
    "        \n",
    "    def insert(self, data):\n",
    "        self.heap.append(data)\n",
    "        self.build_heap()\n",
    "        \n",
    "    def build_heap(self):\n",
    "        heap_size = len(self.heap)\n",
    "        for i in range(heap_size//2 - 1, -1, -1):\n",
    "            self.heapify(i, heap_size)\n",
    "        \n",
    "    def heapify(self, i, heap_size):\n",
    "        left = 2 * i + 1\n",
    "        right = 2 * i + 2\n",
    "        largest = i\n",
    "        if left < heap_size and self.heap[left][0] > self.heap[i][0]:\n",
    "            largest = left\n",
    "        if right < heap_size and self.heap[right][0] > self.heap[i][0]:\n",
    "            largest = right\n",
    "        if largest != i:\n",
    "            self.heap[i], self.heap[largest] = self.heap[largest], self.heap[i]\n",
    "            self.heapify(largest, heap_size)\n",
    "        \n",
    "    def pop(self):\n",
    "        if (len(self.heap) == 0):\n",
    "            return -1\n",
    "        else:\n",
    "            self.heap.pop(0)\n",
    "            self.build_heap()\n",
    "    \n",
    "pq = PriorityQueue()\n",
    "pq.insert([1, \"a\"])\n",
    "pq.insert([4, \"b\"])\n",
    "\n",
    "pq.insert([7, \"c\"])\n",
    "pq.insert([6, \"d\"])\n",
    "pq.insert([5, \"e\"])\n",
    "pq.insert([3, \"f\"])\n",
    "pq.insert([2, \"g\"])\n",
    "\n",
    "pq.pop()\n",
    "pq.pop()\n",
    "print(pq.get_max())"
   ]
  },
  {
   "cell_type": "code",
   "execution_count": 11,
   "metadata": {},
   "outputs": [
    {
     "name": "stdout",
     "output_type": "stream",
     "text": [
      "32\n"
     ]
    }
   ],
   "source": [
    "# kth smallest in matrix\n",
    "from sys import maxsize\n",
    "\n",
    "class HeapNode:\n",
    "    def __init__(self, val, row, col):\n",
    "        self.val = val\n",
    "        self.row = row\n",
    "        self.col = col\n",
    "        \n",
    "def min_heapify(harr, i, heap_size):\n",
    "    left = 2*i + 1\n",
    "    right = 2*i + 2\n",
    "    smallest = i\n",
    "    if left < heap_size and harr[left].val < harr[smallest].val:\n",
    "        smallest = left\n",
    "    if right < heap_size and harr[right].val < harr[smallest].val:\n",
    "        smallest = right\n",
    "    if smallest != i:\n",
    "        harr[i], harr[smallest] = harr[smallest], harr[i]\n",
    "        min_heapify(harr, smallest, heap_size)\n",
    "    \n",
    "def build_heap(harr, heap_size):\n",
    "    i = (heap_size - 1) // 2\n",
    "    while i >= 0:\n",
    "        min_heapify(harr, i, heap_size)\n",
    "        i -= 1\n",
    "    \n",
    "def kth_smallest_in_matrix(matrix, size, k):\n",
    "    if k <= 0 and k > size * size:\n",
    "        return maxsize\n",
    "    harr = [0] * size\n",
    "    \n",
    "    # build heap for first row...\n",
    "    for i in range(size):\n",
    "        harr[i] = HeapNode(matrix[0][i], 0, i)    \n",
    "    build_heap(harr, size)\n",
    "    \n",
    "    h_root = HeapNode(0, 0, 0)\n",
    "    j\n",
    "    for i in range(k): \n",
    "        h_root = harr[0]\n",
    "        \n",
    "        node_val = matrix[h_root.row + 1][h_root.col] if h_root.row < (size - 1) else maxsize\n",
    "        \n",
    "        harr[0] = HeapNode(node_val, h_root.row + 1, h_root.col)\n",
    "        min_heapify(harr, 0, size)\n",
    "        \n",
    "    return h_root.val\n",
    "        \n",
    "matrix = [[10, 20, 30, 40],  \n",
    "          [15, 25, 35, 45],  \n",
    "          [25, 29, 37, 48], \n",
    "          [32, 33, 39, 50]] \n",
    "print(kth_smallest_in_matrix(matrix, 4, 8))"
   ]
  },
  {
   "cell_type": "markdown",
   "metadata": {},
   "source": [
    "#### Maximum sum of subarray modulo m"
   ]
  },
  {
   "cell_type": "code",
   "execution_count": 2,
   "metadata": {},
   "outputs": [
    {
     "name": "stdout",
     "output_type": "stream",
     "text": [
      "3 0 [0]\n",
      "1 3 [0, 3]\n",
      "3 0 [0, 3, 1]\n",
      "5 0 [0, 3, 1]\n",
      "2 5 [0, 3, 1, 5]\n"
     ]
    },
    {
     "data": {
      "text/plain": [
       "5"
      ]
     },
     "execution_count": 2,
     "metadata": {},
     "output_type": "execute_result"
    }
   ],
   "source": [
    "def max_sum_subarray_modulo_m(arr, m):\n",
    "    maximum = 0\n",
    "    prefix_sum = 0\n",
    "    store = [0]\n",
    "    \n",
    "    for i in range(len(arr)):\n",
    "        prefix_sum = (prefix_sum + arr[i]) % m\n",
    "        maximum = max(maximum, prefix_sum)\n",
    "        \n",
    "        iterator = 0\n",
    "        for ele in store:\n",
    "            # look for subarray sum greater already present in store\n",
    "            if ele >= prefix_sum + 1:\n",
    "                iterator = ele\n",
    "\n",
    "        print(prefix_sum, iterator, store, end = \"\\n\")        \n",
    "        if iterator != 0:\n",
    "            maximum = max(maximum, m + prefix_sum - iterator)\n",
    "        if prefix_sum not in store:\n",
    "            store.append(prefix_sum)\n",
    "\n",
    "    return maximum\n",
    "\n",
    "\n",
    "arr = [3, 5, 9, 9, 4]\n",
    "max_sum_subarray_modulo_m(arr, 7)"
   ]
  },
  {
   "cell_type": "markdown",
   "metadata": {},
   "source": [
    "### Search element in rotated array"
   ]
  },
  {
   "cell_type": "code",
   "execution_count": 38,
   "metadata": {},
   "outputs": [
    {
     "name": "stdout",
     "output_type": "stream",
     "text": [
      "6\n"
     ]
    }
   ],
   "source": [
    "\n",
    "def rotated_array_pivot(arr):\n",
    "    low = 0\n",
    "    high = len(arr) - 1\n",
    "\n",
    "    if high == low:\n",
    "        return low\n",
    "    \n",
    "    while low < high:\n",
    "        mid = (low + high) // 2\n",
    "        if arr[mid] > arr[mid + 1]:\n",
    "            return mid\n",
    "        if arr[mid] < arr[mid - 1]:\n",
    "            return mid - 1\n",
    "        if arr[mid] <= arr[low]:\n",
    "            high = mid - 1\n",
    "        else:\n",
    "            low = mid + 1\n",
    "    \n",
    "def bsearch(arr, value):\n",
    "    low = 0\n",
    "    high = len(arr) - 1\n",
    "    while low <= high:\n",
    "        mid = (low + high) // 2\n",
    "        if arr[mid] > value:\n",
    "            high = mid - 1\n",
    "        elif arr[mid] < value:\n",
    "            low = mid + 1\n",
    "        else:\n",
    "            return mid\n",
    "    return -1\n",
    "    \n",
    "def rotated_array_search(arr, value):\n",
    "    pivot = rotated_array_pivot(arr)\n",
    "    if value >= arr[0] and value <= arr[pivot]:\n",
    "        return bsearch(arr[0:pivot + 1], value)\n",
    "    else:\n",
    "        return pivot + bsearch(arr[pivot:], value)\n",
    "    \n",
    "            \n",
    "arr = [5, 6, 7, 8, 9, 10, 1, 2, 3]\n",
    "value = 1\n",
    "print(rotated_array_search(arr, value))"
   ]
  },
  {
   "cell_type": "code",
   "execution_count": 1,
   "metadata": {},
   "outputs": [
    {
     "data": {
      "text/plain": [
       "-1"
      ]
     },
     "execution_count": 1,
     "metadata": {},
     "output_type": "execute_result"
    }
   ],
   "source": [
    "def equillibrium(arr, length):\n",
    "    low = 0\n",
    "    high = length - 1\n",
    "    if length == 1:\n",
    "        return 1\n",
    "    end_sum = arr[high]\n",
    "    front_sum = arr[low]\n",
    "    diff = end_sum - front_sum\n",
    "    while (high > low):\n",
    "        if (high - low == 1 and diff == 0):\n",
    "            return high + 1\n",
    "        diff = end_sum - front_sum\n",
    "        if diff > 0:\n",
    "            low += 1\n",
    "            front_sum += arr[low]\n",
    "        else:\n",
    "            high -= 1\n",
    "            end_sum += arr[high]\n",
    "    return -1\n",
    "\n",
    "b = [32, 2]\n",
    "equillibrium(b, 2)\n",
    "    \n"
   ]
  },
  {
   "cell_type": "code",
   "execution_count": null,
   "metadata": {},
   "outputs": [],
   "source": [
    "def findWater(arr, n): \n",
    "  \n",
    "    # initialize output \n",
    "    result = 0\n",
    "       \n",
    "    # maximum element on left and right \n",
    "    left_max = 0\n",
    "    right_max = 0\n",
    "       \n",
    "    # indices to traverse the array \n",
    "    lo = 0\n",
    "    hi = n-1\n",
    "       \n",
    "    while(lo <= hi):  \n",
    "      \n",
    "        if(arr[lo] < arr[hi]): \n",
    "          \n",
    "            if(arr[lo] > left_max): \n",
    "  \n",
    "                # update max in left \n",
    "                left_max = arr[lo] \n",
    "            else: \n",
    "  \n",
    "                # water on curr element = max - curr \n",
    "                result += left_max - arr[lo] \n",
    "            lo+= 1\n",
    "          \n",
    "        else: \n",
    "          \n",
    "            if(arr[hi] > right_max): \n",
    "                # update right maximum \n",
    "                right_max = arr[hi] \n",
    "            else: \n",
    "                result += right_max - arr[hi] \n",
    "            hi-= 1\n",
    "          \n",
    "    return result \n",
    "\n",
    "def trapped_water(arr, length):\n",
    "    low = 0\n",
    "    high = length - 1\n",
    "    water_trapped = 0\n",
    "    left_max = 0\n",
    "    right_max = 0\n",
    "    \n",
    "    while (high >= low):\n",
    "        if (arr[high] > arr[low]):\n",
    "            if (arr[low] > left_max):\n",
    "                left_max = arr[low]\n",
    "            else:\n",
    "                water_trapped += left_max - arr[low] \n",
    "            low += 1\n",
    "        else:\n",
    "            if (arr[high] > right_max):\n",
    "                right_max = arr[high]\n",
    "            else:\n",
    "                water_trapped += right_max - arr[high]\n",
    "            high -= 1\n",
    "        \n",
    "    return water_trapped\n",
    "\n",
    "n = 10\n",
    "arr = [1, 1, 5, 2, 7, 6, 1, 4, 2, 3]\n",
    "# findWater(arr, n)\n",
    "trapped_water(arr, n)"
   ]
  }
 ],
 "metadata": {
  "kernelspec": {
   "display_name": "Python 3",
   "language": "python",
   "name": "python3"
  },
  "language_info": {
   "codemirror_mode": {
    "name": "ipython",
    "version": 3
   },
   "file_extension": ".py",
   "mimetype": "text/x-python",
   "name": "python",
   "nbconvert_exporter": "python",
   "pygments_lexer": "ipython3",
   "version": "3.7.3"
  }
 },
 "nbformat": 4,
 "nbformat_minor": 2
}
