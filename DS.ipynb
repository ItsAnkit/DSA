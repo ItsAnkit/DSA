{
 "cells": [
  {
   "cell_type": "markdown",
   "metadata": {},
   "source": [
    "##### Infix to postfix conversion"
   ]
  },
  {
   "cell_type": "code",
   "execution_count": 149,
   "metadata": {
    "scrolled": true
   },
   "outputs": [
    {
     "name": "stdout",
     "output_type": "stream",
     "text": [
      "abcd^e-fgh*+^*+i-"
     ]
    }
   ],
   "source": [
    "import pdb\n",
    "class Conversion:\n",
    "    def __init__(self, str):\n",
    "        self.stack = []\n",
    "        self.size = len(str)\n",
    "        self.str = str\n",
    "        self.result = []\n",
    "        self.precedence = {'+': 1, '-': 1, \"*\": 2, \"/\": 2, \"^\": 3}\n",
    "        \n",
    "    def isEmpty(self):\n",
    "        return True if len(self.stack) == 0 else False\n",
    "\n",
    "    def isFull(self):\n",
    "        return True if len(self.stack) == self.size else False\n",
    "    \n",
    "    def isOperand(self, ch):\n",
    "        return ch.isalpha()\n",
    "    \n",
    "    def isOperator(self, ch):\n",
    "        return ch in self.precedence.keys()\n",
    "    \n",
    "    def stackNotEmpty(self):\n",
    "        return len(self.stack) > 0\n",
    "               \n",
    "    def convert(self):\n",
    "        for i in range(self.size):\n",
    "            if self.isOperand(self.str[i]):\n",
    "                print(self.str[i], end=\"\")\n",
    "            elif self.str[i] == \"(\":\n",
    "                self.stack.append(self.str[i])\n",
    "                \n",
    "            elif str[i] == \")\":\n",
    "                while self.stackNotEmpty() and self.stack[-1] != \"(\":\n",
    "                    print(self.stack.pop(), end=\"\")\n",
    "                # pop opening bracket from stack\n",
    "                if self.stack[-1] == \"(\":\n",
    "                    self.stack.pop()\n",
    "            else:\n",
    "                # Pop if stck top has higher precedence than current char\n",
    "                while self.stackNotEmpty() and self.stack[-1] != \"(\" and self.precedence[self.stack[-1]] >= self.precedence[self.str[i]]:\n",
    "                    print(self.stack.pop(), end=\"\")\n",
    "                self.stack.append(self.str[i])\n",
    "                \n",
    "        while self.stackNotEmpty():\n",
    "            print(self.stack.pop(), end=\"\")\n",
    "        \n",
    "str = \"a+b*(c^d-e)^(f+g*h)-i\"\n",
    "converter = Conversion(str)\n",
    "converter.convert()"
   ]
  },
  {
   "cell_type": "markdown",
   "metadata": {},
   "source": [
    "### Max points with same slope in 2D plane."
   ]
  },
  {
   "cell_type": "code",
   "execution_count": 115,
   "metadata": {},
   "outputs": [],
   "source": [
    "# compute overlapping points\n",
    "# compute vertical points\n",
    "# compute points on same slope\n",
    "\n",
    "def max_points(points):\n",
    "    size = len(points)\n",
    "    if size < 2:\n",
    "        return size\n",
    "    maxPoint = 0\n",
    "\n",
    "    for i in range(size):\n",
    "        slope_dict = {}\n",
    "        current_max, verticalPoints, overlappingPoints = 0, 0, 0\n",
    "        for j in range(i+1, size):\n",
    "            if (points[i] == points[j]):\n",
    "                overlappingPoints += 1\n",
    "            elif points[i][0] == points[j][0]:\n",
    "                verticalPoints += 1\n",
    "            else:\n",
    "                y_diff = points[j][1] - points[i][1]\n",
    "                x_diff = points[j][0] - points[i][0]\n",
    "                gcd = find_gcd(x_diff, y_diff)\n",
    "                y_diff = y_diff / gcd\n",
    "                x_diff = x_diff / gcd\n",
    "                pair = str(x_diff) + '*' + str(y_diff)\n",
    "                if pair in slope_dict:\n",
    "                    slope_dict[pair] = slope_dict[pair] + 1\n",
    "                else:\n",
    "                    slope_dict[pair] = 1\n",
    "                current_max = max(current_max, slope_dict[pair])\n",
    "            # pick max among verticalPoints and slope count in dictionary\n",
    "            current_max = max(current_max, verticalPoints)\n",
    "        \n",
    "        maxPoint = max(maxPoint, current_max + overlappingPoints + 1)\n",
    "    return maxPoint\n",
    "\n",
    "\n",
    "def find_gcd(x, y):\n",
    "    if y == 0:\n",
    "        return x\n",
    "    return gcd(y, (x%y))\n",
    "\n",
    "p = [[-1, 1], [0, 0], [1, 1], [2, 2], [3, 3], [3, 4]]\n",
    "print(max_points(p))\n",
    "   "
   ]
  },
  {
   "cell_type": "code",
   "execution_count": 37,
   "metadata": {},
   "outputs": [
    {
     "name": "stdout",
     "output_type": "stream",
     "text": [
      "[0, 1, 4, 9, 14, 15, 26, 27, 28, 54, 55, 59, 63, 66, 68, 70, 71, 73, 74, 86, 87, 91]\n",
      "[560, 248] [0, 16] [630, 277] [-280, -100] [-70, -13] [-700, -274] [-420, -158] [-420, -158] [-350, -129] [-280, -100] [700, 306] [350, 161] [-140, -42] [140, 74] [-350, -129] [-630, -245] [700, 306] [0, 16] [-70, -13] [210, 103] [700, 306] [560, 248] "
     ]
    },
    {
     "data": {
      "text/plain": [
       "98"
      ]
     },
     "execution_count": 37,
     "metadata": {},
     "output_type": "execute_result"
    }
   ],
   "source": [
    "from collections import defaultdict\n",
    "import math\n",
    "\n",
    "def maxPoints(points):\n",
    "    if len(points) < 3:\n",
    "        return len(points)\n",
    "\n",
    "    line_dict = defaultdict(list)\n",
    "\n",
    "    for i in range(len(points)-1):\n",
    "        for j in range(i+1, len(points)):\n",
    "            x_diff = points[i][0] - points[j][0]\n",
    "            y_diff = points[i][1] - points[j][1]\n",
    "            if x_diff == 0:\n",
    "                slope = float('inf')\n",
    "                intercept = points[i][0]\n",
    "\n",
    "            else:\n",
    "                slope = get_coprime(y_diff, x_diff)\n",
    "\n",
    "                intercept = get_coprime(points[i][1]*x_diff - y_diff*points[i][0], x_diff)\n",
    "            # add points i and j into the dictionary with (slope, intercept) as key\n",
    "            line_dict[(slope, intercept)].extend([i, j])\n",
    "\n",
    "    for line in line_dict:\n",
    "        if len(set(line_dict[line])) == 22:\n",
    "            print(\"wewew\", line_dict[line])\n",
    "        line_dict[line] = len(set(line_dict[line]))\n",
    "        \n",
    "    return line_dict[max(line_dict, key=lambda x: line_dict[x])]\n",
    "\n",
    "def get_coprime(a, b):\n",
    "    # denominator can not be zero, numerator can be zero\n",
    "    # if numerator is zero, we do not care about denominator, so set it zero.\n",
    "    if a == 0:\n",
    "        return (0, 0)\n",
    "    # since a/b == -a/-b, we need avoid it.\n",
    "    if a < 0 and b < 0:\n",
    "        a, b = -a, -b\n",
    "    gcd = math.gcd(a, b)\n",
    "    return (a // gcd, b // gcd)\n",
    "\n",
    "\n",
    "p = [[560,248],[0,16],[30,250],[950,187],[630,277],[950,187],[-212,-268],[-287,-222],[53,37],[-280,-100],[-1,-14],[-5,4],[-35,-387],[-95,11],[-70,-13],[-700,-274],[-95,11],[-2,-33],[3,62],[-4,-47],[106,98],[-7,-65],[-8,-71],[-8,-147],[5,5],[-5,-90],[-420,-158],[-420,-158],[-350,-129],[-475,-53],[-4,-47],[-380,-37],[0,-24],[35,299],[-8,-71],[-2,-6],[8,25],[6,13],[-106,-146],[53,37],[-7,-128],[-5,-1],[-318,-390],[-15,-191],[-665,-85],[318,342],[7,138],[-570,-69],[-9,-4],[0,-9],[1,-7],[-51,23],[4,1],[-7,5],[-280,-100],[700,306],[0,-23],[-7,-4],[-246,-184],[350,161],[-424,-512],[35,299],[0,-24],[-140,-42],[-760,-101],[-9,-9],[140,74],[-285,-21],[-350,-129],[-6,9],[-630,-245],[700,306],[1,-17],[0,16],[-70,-13],[1,24],[-328,-260],[-34,26],[7,-5],[-371,-451],[-570,-69],[0,27],[-7,-65],[-9,-166],[-475,-53],[-68,20],[210,103],[700,306],[7,-6],[-3,-52],[-106,-146],[560,248],[10,6],[6,119],[0,2],[-41,6],[7,19],[30,250]]\n",
    "# maxPoints(p)\n",
    "\n",
    "\n",
    "\n",
    "a = [0, 1, 0, 4, 0, 9, 0, 14, 0, 15, 0, 26, 0, 27, 0, 28, 0, 54, 0, 55, 0, 59, 0, 63, 0, 66, 0, 68, 0, 70, 0, 71, 0, 73, 0, 74, 0, 86, 0, 87, 1, 4, 1, 9, 1, 14, 1, 15, 1, 26, 1, 27, 1, 28, 1, 54, 1, 55, 1, 59, 1, 63, 1, 66, 1, 68, 1, 70, 1, 71, 1, 74, 1, 86, 1, 87, 1, 91, 4, 9, 4, 14, 4, 15, 4, 26, 4, 27, 4, 28, 4, 54, 4, 55, 4, 59, 4, 63, 4, 66, 4, 68, 4, 70, 4, 71, 4, 73, 4, 74, 4, 86, 4, 87, 4, 91, 9, 14, 9, 15, 9, 26, 9, 27, 9, 28, 9, 55, 9, 59, 9, 63, 9, 66, 9, 68, 9, 70, 9, 71, 9, 73, 9, 74, 9, 86, 9, 87, 9, 91, 14, 15, 14, 26, 14, 27, 14, 28, 14, 54, 14, 55, 14, 59, 14, 63, 14, 66, 14, 68, 14, 70, 14, 71, 14, 73, 14, 86, 14, 87, 14, 91, 15, 26, 15, 27, 15, 28, 15, 54, 15, 55, 15, 59, 15, 63, 15, 66, 15, 68, 15, 70, 15, 71, 15, 73, 15, 74, 15, 86, 15, 87, 15, 91, 26, 28, 26, 54, 26, 55, 26, 59, 26, 63, 26, 66, 26, 68, 26, 70, 26, 71, 26, 73, 26, 74, 26, 86, 26, 87, 26, 91, 27, 28, 27, 54, 27, 55, 27, 59, 27, 63, 27, 66, 27, 68, 27, 70, 27, 71, 27, 73, 27, 74, 27, 86, 27, 87, 27, 91, 28, 54, 28, 55, 28, 59, 28, 63, 28, 66, 28, 70, 28, 71, 28, 73, 28, 74, 28, 86, 28, 87, 28, 91, 54, 55, 54, 59, 54, 63, 54, 66, 54, 68, 54, 70, 54, 71, 54, 73, 54, 74, 54, 86, 54, 87, 54, 91, 55, 59, 55, 63, 55, 66, 55, 68, 55, 70, 55, 73, 55, 74, 55, 86, 55, 91, 59, 63, 59, 66, 59, 68, 59, 70, 59, 71, 59, 73, 59, 74, 59, 86, 59, 87, 59, 91, 63, 66, 63, 68, 63, 70, 63, 71, 63, 73, 63, 74, 63, 86, 63, 87, 63, 91, 66, 68, 66, 70, 66, 71, 66, 73, 66, 74, 66, 86, 66, 87, 66, 91, 68, 70, 68, 71, 68, 73, 68, 74, 68, 86, 68, 87, 68, 91, 70, 71, 70, 73, 70, 74, 70, 86, 70, 87, 70, 91, 71, 73, 71, 74, 71, 86, 71, 91, 73, 74, 73, 86, 73, 87, 73, 91, 74, 86, 74, 87, 74, 91, 86, 87, 86, 91, 87, 91]\n",
    "x = list(set(a))\n",
    "print(x)\n",
    "for i in range(len(x)):\n",
    "    print(p[x[i]], end=\" \")\n",
    "    \n",
    "len(p)\n"
   ]
  },
  {
   "cell_type": "markdown",
   "metadata": {},
   "source": [
    "#### Submatrix sum"
   ]
  },
  {
   "cell_type": "code",
   "execution_count": 24,
   "metadata": {},
   "outputs": [],
   "source": [
    "def process(mat, r, c):\n",
    "    aux = [[0 for i in range(c)] for j in range(r)]\n",
    "    \n",
    "    # store first row\n",
    "    for j in range(c):\n",
    "        aux[0][j] = mat[0][j]\n",
    "\n",
    "    # store column wise sum\n",
    "    for j in range(c):\n",
    "        sum = mat[0][j]\n",
    "        for i in range(1, r):\n",
    "            sum += mat[i][j]\n",
    "            aux[i][j] = sum\n",
    "        \n",
    "    # store row wise sum\n",
    "    for i in range(r):\n",
    "        sum = aux[i][0]\n",
    "        for j in range(1, c):\n",
    "            sum += aux[i][j]\n",
    "            aux[i][j] = sum\n",
    "    return aux\n",
    "\n",
    "def submatrix_sum(mat, aux, rs, re, cs, ce):\n",
    "    rows = len(arr)\n",
    "    cols = len(arr[0])\n",
    "    print(aux[re][ce], aux[rs - 1][ce], aux[re][cs - 1], aux[rs][cs])\n",
    "    if re >= rs and re < rows and rs >= 0 and ce >= cs and ce < cols and cs >= 0:\n",
    "        sum = aux[re][ce] - aux[rs - 1][ce] - aux[re][cs - 1] + aux[rs - 1][cs - 1]\n",
    "        print(sum)\n",
    "    else:\n",
    "        print(-1)\n"
   ]
  },
  {
   "cell_type": "code",
   "execution_count": 23,
   "metadata": {},
   "outputs": [
    {
     "name": "stdout",
     "output_type": "stream",
     "text": [
      "[1, 3, 6, 10, 16]\n",
      "[6, 11, 22, 27, 35]\n",
      "[10, 21, 39, 49, 62]\n",
      "[12, 27, 53, 72, 89]\n",
      "72 10 12 11\n",
      "51\n"
     ]
    }
   ],
   "source": [
    "arr = [[1, 2, 3, 4, 6],\n",
    "       [5, 3, 8, 1, 2],\n",
    "       [4, 6, 7, 5, 5],\n",
    "       [2, 4, 8, 9, 4]]\n",
    "\n",
    "pre_process = process(arr, 4, 5)\n",
    "for i in range(4):\n",
    "    print(pre_process[i])\n",
    "submatrix_sum(arr, pre_process, 1, 3, 1, 3)\n",
    "# len(arr[0])"
   ]
  },
  {
   "cell_type": "code",
   "execution_count": 97,
   "metadata": {},
   "outputs": [
    {
     "data": {
      "text/plain": [
       "4"
      ]
     },
     "execution_count": 97,
     "metadata": {},
     "output_type": "execute_result"
    }
   ],
   "source": [
    "a= [1,2,3,4]\n",
    "a[-1]"
   ]
  },
  {
   "cell_type": "code",
   "execution_count": 87,
   "metadata": {},
   "outputs": [],
   "source": [
    "import sys\n",
    "import time\n",
    "\n",
    "def merge_k_sorted_arrays(mat):\n",
    "    size = len(mat)\n",
    "    res = []\n",
    "    while (len(mat) > 0):\n",
    "        row = 0\n",
    "        min_val = sys.maxsize\n",
    "        for i in range(len(mat)):\n",
    "            if len(mat[i]) > 0 and mat[i][0] < min_val:\n",
    "                min_val = mat[i][0]\n",
    "                row = i\n",
    "        res.append(min_val)\n",
    "        # pop whole array if finished else, pop first element\n",
    "        if len(mat[row]) == 1:\n",
    "            mat.pop(row)\n",
    "        else:\n",
    "            mat[row].pop(0)\n",
    "    return res\n"
   ]
  },
  {
   "cell_type": "code",
   "execution_count": 88,
   "metadata": {},
   "outputs": [
    {
     "name": "stdout",
     "output_type": "stream",
     "text": [
      "[1, 2, 3, 4, 5, 6, 8, 9, 9, 11]\n",
      "Rime computed:  0.0005292892456054688\n"
     ]
    }
   ],
   "source": [
    "a = [[1,5,9], [3,4,11], [2, 6, 8,9]]\n",
    "start = time.time()\n",
    "res = merge_k_sorted_arrays(a)\n",
    "print(res)\n",
    "end = time.time()\n",
    "print(\"Time computed: \", end - start)"
   ]
  },
  {
   "cell_type": "code",
   "execution_count": 84,
   "metadata": {},
   "outputs": [
    {
     "data": {
      "text/plain": [
       "9223372036854775807"
      ]
     },
     "execution_count": 84,
     "metadata": {},
     "output_type": "execute_result"
    }
   ],
   "source": [
    "a = [41, 31, 30, 57]\n",
    "key = 30\n",
    "[item for item in a if item not in [key]]"
   ]
  },
  {
   "cell_type": "code",
   "execution_count": 154,
   "metadata": {},
   "outputs": [
    {
     "data": {
      "text/plain": [
       "'1245'"
      ]
     },
     "execution_count": 154,
     "metadata": {},
     "output_type": "execute_result"
    }
   ],
   "source": [
    "a = \"12345\"\n",
    "a[:2] + a[3:]"
   ]
  },
  {
   "cell_type": "code",
   "execution_count": 9,
   "metadata": {},
   "outputs": [
    {
     "data": {
      "text/plain": [
       "2"
      ]
     },
     "execution_count": 9,
     "metadata": {},
     "output_type": "execute_result"
    }
   ],
   "source": [
    "import bisect\n",
    "a = [1,2,3,4,5]\n",
    "bisect.bisect_right(a, 2)"
   ]
  },
  {
   "cell_type": "markdown",
   "metadata": {},
   "source": [
    "#### BST from postorder traversal as well as preorder traversal"
   ]
  },
  {
   "cell_type": "code",
   "execution_count": 1,
   "metadata": {},
   "outputs": [
    {
     "name": "stdout",
     "output_type": "stream",
     "text": [
      "10 ---\n",
      "1 5 7 10 40 50 \n",
      "10 ---\n",
      "1 5 7 10 40 50 "
     ]
    }
   ],
   "source": [
    "import pdb\n",
    "\n",
    "class Node:\n",
    "    def __init__(self, data = 0):\n",
    "        self.data = data\n",
    "        self.right = None\n",
    "        self.left = None\n",
    "        \n",
    "        \n",
    "def construct_BST_from_postorder(arr):\n",
    "    root = Node(arr[-1])\n",
    "    stack = [root]\n",
    "    starter = len(arr) - 2\n",
    "    for i in range(starter, -1, -1):\n",
    "        new_node = Node(arr[i])\n",
    "        last_possible_node = stack[-1]\n",
    "        # if node smaller than stack top, pop until stack is empty or you find last greater node\n",
    "        # if element is greater than stack top then, we won't pop any element\n",
    "        while (stack and arr[i] < stack[-1].data):\n",
    "            last_possible_node = stack.pop()\n",
    "    \n",
    "        if arr[i] > last_possible_node.data:  \n",
    "            last_possible_node.right = new_node    \n",
    "        else:\n",
    "            last_possible_node.left = new_node\n",
    "        stack.append(new_node)\n",
    "            \n",
    "    return root\n",
    "\n",
    "\n",
    "def construct_BST_from_preorder(arr):\n",
    "    root = Node(arr[0])\n",
    "    stack = [root]\n",
    "    length = len(arr)\n",
    "    for i in range(1, length):\n",
    "        new_node = Node(arr[i])\n",
    "        last_possible_node = stack[-1]\n",
    "        # if node smaller than stack top, pop until stack is empty or you find last greater node\n",
    "        # if element is greater than stack top then, we won't pop any element\n",
    "        while (stack and arr[i] > stack[-1].data):\n",
    "            last_possible_node = stack.pop()\n",
    "    \n",
    "        if arr[i] > last_possible_node.data:  \n",
    "            last_possible_node.right = new_node    \n",
    "        else:\n",
    "            last_possible_node.left = new_node\n",
    "        stack.append(new_node)\n",
    "            \n",
    "    return root\n",
    "    \n",
    "def inorder_print(node):\n",
    "    if node is None:\n",
    "        return\n",
    "    inorder_print(node.left)\n",
    "    print(node.data, end = \" \")\n",
    "    inorder_print(node.right)\n",
    "\n",
    "    \n",
    "# from postorder traversal\n",
    "post = [1, 7, 5, 50, 40, 10]\n",
    "bst_root = construct_BST_from_postorder(post)\n",
    "print(bst_root.data, \"---\")\n",
    "inorder_print(bst_root)\n",
    "print()\n",
    "\n",
    "# from preorder traversal\n",
    "pre = [10, 5, 1, 7, 40, 50] \n",
    "bst_root = construct_BST_from_preorder(pre)\n",
    "print(bst_root.data, \"---\")\n",
    "inorder_print(bst_root)"
   ]
  },
  {
   "cell_type": "markdown",
   "metadata": {},
   "source": [
    "### check if subtree of another tree"
   ]
  },
  {
   "cell_type": "code",
   "execution_count": 1,
   "metadata": {},
   "outputs": [
    {
     "name": "stdout",
     "output_type": "stream",
     "text": [
      "True\n",
      "False\n"
     ]
    }
   ],
   "source": [
    "class Node:\n",
    "    def __init__(self, data):\n",
    "        self.data = data\n",
    "        self.left = None\n",
    "        self.right = None\n",
    "        \n",
    "def isSame(root1, root2):\n",
    "    if root1 is None and root2 is None:\n",
    "        return True\n",
    "    # check if either one of them is not None as they bypassed last condition\n",
    "    if root1 is None or root2 is None:\n",
    "        return False\n",
    "    return root1.data == root2.data and isSame(root1.left, root2.left) and isSame(root1.right, root2.right)\n",
    "\n",
    "def check(T, S):\n",
    "    # Base cases\n",
    "    if S is None:\n",
    "        return True\n",
    "    if T is None:\n",
    "        return False\n",
    "\n",
    "    ### First way\n",
    "    if isSame(T, S):\n",
    "        return True\n",
    "    ####### Another way, use isIdentical()\n",
    "    \n",
    "    return check(T.left, S) or check(T.right, S)\n",
    "\n",
    "def isIdentical(node1, node2):\n",
    "    arr1 = []\n",
    "    arr2 = []\n",
    "    preorder(node1, arr1)\n",
    "    preorder(node2, arr2)\n",
    "    return arr1 == arr2\n",
    "\n",
    "def preorder(node, arr):\n",
    "    if node is None:\n",
    "        return\n",
    "    preorder(node.left, arr)\n",
    "    arr.append(node.data)\n",
    "    preorder(node.right, arr)\n",
    "\n",
    "T = Node(10)\n",
    "T.right = Node(15)\n",
    "T.left = Node(4)\n",
    "T.left.left = Node(3)\n",
    "T.left.right = Node(8)\n",
    "T.left.left.left = Node(1)\n",
    "T.left.left.right = Node(4)\n",
    "T.right.left = Node(12)\n",
    "\n",
    "S = Node(3)\n",
    "S.left = Node(1)\n",
    "S.right = Node(4)\n",
    "# S.left.left = Node(0)\n",
    "\n",
    "print(check(T, S))\n",
    "print(isSame(T, S))"
   ]
  },
  {
   "cell_type": "markdown",
   "metadata": {},
   "source": [
    "#### make all elements of repsective rows and column of matrix as 1 for cell valued 1"
   ]
  },
  {
   "cell_type": "code",
   "execution_count": 107,
   "metadata": {},
   "outputs": [
    {
     "name": "stdout",
     "output_type": "stream",
     "text": [
      "[1, 1, 1]\n",
      "[1, 1, 1]\n",
      "[1, 1, 0]\n"
     ]
    }
   ],
   "source": [
    "import pdb\n",
    "\n",
    "def convert(arr, rows, cols):\n",
    "    row_flag = True\n",
    "    col_flag = True\n",
    "     \n",
    "    for i in range(rows):\n",
    "        for j in range(cols):\n",
    "            if i == 0 and arr[i][j] == 1:\n",
    "                row_flag = True\n",
    "            if j == 0 and arr[i][j] == 1:\n",
    "                col_flag = True\n",
    "            \n",
    "            # set it's respective cells in first row and column as 1\n",
    "            if arr[i][j] == 1:\n",
    "                arr[0][j] = 1\n",
    "                arr[i][0] = 1\n",
    "\n",
    "    # handle submatrix\n",
    "    for i in range(1, rows):\n",
    "        for j in range(1, cols):\n",
    "            if arr[0][j] == 1 or arr[i][0] == 1:\n",
    "                arr[i][j] = 1 \n",
    "    \n",
    "    if row_flag == True:\n",
    "        for i in range(0, rows):\n",
    "            arr[i][0] = 1\n",
    "    \n",
    "    if col_flag == True:\n",
    "        for j in range(0, cols):\n",
    "            arr[0][j] = 1\n",
    "                \n",
    "arr = [[1, 0, 0], [0, 1, 0], [0, 0, 0]]\n",
    "size = 3\n",
    "convert(arr, 3, 3)\n",
    "for i in range(size):\n",
    "    print(arr[i])"
   ]
  },
  {
   "cell_type": "markdown",
   "metadata": {},
   "source": [
    "### inversion count"
   ]
  },
  {
   "cell_type": "code",
   "execution_count": 43,
   "metadata": {},
   "outputs": [
    {
     "data": {
      "text/plain": [
       "2"
      ]
     },
     "execution_count": 43,
     "metadata": {},
     "output_type": "execute_result"
    }
   ],
   "source": [
    "def calc_triplets_count(arr, len):\n",
    "    triplets_count = 0\n",
    "    arr.sort()\n",
    "    for current in range(len):\n",
    "        next_ind = current + 1\n",
    "        second_next = next_ind + 1\n",
    "        while (second_next < (len - 1)):\n",
    "            if (arr[current] + arr[next_ind] < arr[second_next]):\n",
    "                if ((second_next - next_ind) == 1):\n",
    "                    second_next += 1\n",
    "                else:\n",
    "                    next_ind += 1\n",
    "            elif (arr[current] + arr[next_ind] == arr[second_next]):\n",
    "                triplets_count +=1\n",
    "                second_next += 1\n",
    "            else:\n",
    "                second_next += 1\n",
    "    return triplets_count\n",
    "\n",
    "a = [1,2,3,4,5]\n",
    "calc_triplets_count(a, len(a))\n",
    "\n",
    "\n",
    "\n",
    "def calc_triplets_count(arr):\n",
    "    length = len(arr)\n",
    "    triplets_count = 0\n",
    "    arr.sort()\n",
    "    for current in range(length):\n",
    "        next_ind = current + 1\n",
    "        second_next = next_ind + 1\n",
    "        while (second_next < (length - 1)):\n",
    "            try:\n",
    "                if (arr[current] + arr[next_ind] < arr[second_next]):\n",
    "                    if ((second_next - next_ind) == 1):\n",
    "                        second_next += 1\n",
    "                    else:\n",
    "                        next_ind += 1\n",
    "                elif (arr[current] + arr[next_ind] == arr[second_next]):\n",
    "                    triplets_count +=1\n",
    "                    second_next += 1\n",
    "                else:\n",
    "                    second_next += 1t\n",
    "            except:\n",
    "                pdb.set_trace()\n",
    "    if triplets_count == 0:\n",
    "        triplets_count = -1\n",
    "    return triplets_count + 1\n",
    "\n",
    "\n",
    "num_testcases = int(input())\n",
    "for i in range(num_testcases):\n",
    "    length = int(input())\n",
    "    input_arr = list(filter(None, input().split()))\n",
    "    final_arr = list(map(int, input_arr))\n",
    "    print(calc_triplets_count(final_arr))"
   ]
  },
  {
   "cell_type": "markdown",
   "metadata": {},
   "source": [
    "### Merge arrays"
   ]
  },
  {
   "cell_type": "code",
   "execution_count": 47,
   "metadata": {},
   "outputs": [
    {
     "name": "stdout",
     "output_type": "stream",
     "text": [
      "[1, 3, 5, 7] [0, 2, 6, 8, 9]\n",
      "[0, 3, 5, 7] [1, 2, 6, 8, 9]\n",
      "[0, 1, 5, 7] [2, 3, 6, 8, 9]\n",
      "[0, 1, 2, 7] [3, 5, 6, 8, 9]\n"
     ]
    },
    {
     "data": {
      "text/plain": [
       "[0, 1, 2, 3, 5, 6, 7, 8, 9]"
      ]
     },
     "execution_count": 47,
     "metadata": {},
     "output_type": "execute_result"
    }
   ],
   "source": [
    "import pdb\n",
    "\n",
    "def merge_arrays(arr1, arr2, size1, size2):\n",
    "    for first_ctr in range(size1):\n",
    "        second_ctr = 0\n",
    "        print(arr1, arr2)\n",
    "        if (arr1[first_ctr] <= arr2[second_ctr]):\n",
    "            first_ctr += 1\n",
    "        else:\n",
    "            temp = arr1[first_ctr]\n",
    "            arr1[first_ctr] = arr2[second_ctr]\n",
    "            # arr2[second_ctr] = temp\n",
    "#             current_sec_ctr = second_ctr\n",
    "            second_ctr += 1\n",
    "            while ((second_ctr < size2) and (arr2[second_ctr] < temp)):\n",
    "                arr2[second_ctr - 1] = arr2[second_ctr]\n",
    "                second_ctr += 1\n",
    "            arr2[second_ctr - 1] = temp \n",
    "    return arr1 + arr2\n",
    "\n",
    "arr1 = [1, 3, 5, 7]\n",
    "arr2 = [0, 2, 6, 8, 9]\n",
    "\n",
    "merge_arrays(arr1, arr2, len(arr1), len(arr2))"
   ]
  },
  {
   "cell_type": "markdown",
   "metadata": {},
   "source": [
    "#### String permutations"
   ]
  },
  {
   "cell_type": "code",
   "execution_count": 2,
   "metadata": {},
   "outputs": [
    {
     "name": "stdout",
     "output_type": "stream",
     "text": [
      "CAB\n",
      "CAB\n",
      "CAB\n",
      "CAB\n",
      "CAB\n",
      "CAB\n"
     ]
    },
    {
     "data": {
      "text/plain": [
       "[1, 999, 3]"
      ]
     },
     "execution_count": 2,
     "metadata": {},
     "output_type": "execute_result"
    }
   ],
   "source": [
    "import pdb\n",
    "#O(n * n!)\n",
    "\n",
    "def permute(str, start, end):\n",
    "    if (start == end):\n",
    "        print(\"\".join(str))\n",
    "    else:\n",
    "        for i in range(start, end + 1):\n",
    "            str[start], str[end] = str[end], str[start]\n",
    "            permute(str, start + 1, end)\n",
    "            str[start], str[end] = str[end], str[start]\n",
    "\n",
    "            \n",
    "str = ['A', 'B', 'C']\n",
    "permute(str, 0, 2)\n",
    "\n",
    "\n",
    "# def f(a):\n",
    "#     a[1] = 999\n",
    "    \n",
    "# a = [1,2,3]\n",
    "# f(a)\n",
    "# a"
   ]
  },
  {
   "cell_type": "markdown",
   "metadata": {},
   "source": [
    "#### modify binary tree to get preorder traversal using right pointers"
   ]
  },
  {
   "cell_type": "code",
   "execution_count": 9,
   "metadata": {},
   "outputs": [
    {
     "name": "stdout",
     "output_type": "stream",
     "text": [
      "10 8 3 1 5 2 "
     ]
    }
   ],
   "source": [
    "class Node:\n",
    "    def __init__(self, data):\n",
    "        self.data = data\n",
    "        self.right = None\n",
    "        self.left = None\n",
    "    \n",
    "def modify(node):\n",
    "    if node is None:\n",
    "        return\n",
    "\n",
    "    stack = [node]\n",
    "    prev = None\n",
    "    \n",
    "    while len(stack):\n",
    "        node = stack.pop()\n",
    "        \n",
    "        # as we are using stack, left child will be at top\n",
    "        if node.right:\n",
    "            stack.append(node.right)\n",
    "        if node.left:\n",
    "            stack.append(node.left)\n",
    "            \n",
    "        # we will move node to right of prev node\n",
    "        if prev is not None:\n",
    "            prev.right = node\n",
    "             \n",
    "        # make current node as prev\n",
    "        prev = node\n",
    "        \n",
    "node = Node(10)\n",
    "node.right = Node(2)\n",
    "node.left = Node(8)\n",
    "node.left.left = Node(3)\n",
    "node.left.right = Node(5)\n",
    "node.left.left.left = Node(1)\n",
    "\n",
    "modify(node)\n",
    "\n",
    "while node is not None:\n",
    "    print(node.data, end = \" \")\n",
    "    node = node.right"
   ]
  },
  {
   "cell_type": "code",
   "execution_count": 63,
   "metadata": {},
   "outputs": [
    {
     "name": "stdout",
     "output_type": "stream",
     "text": [
      "3\n",
      "0.0004391670227050781\n"
     ]
    }
   ],
   "source": [
    "from time import time\n",
    "\n",
    "# (ab) mod p = ( (a mod p) (b mod p) ) mod p \n",
    "# (A + B) mod C = (A mod C + B mod C) mod C\n",
    "\n",
    "def modular_exponentiation(num, power, mod_val):\n",
    "    res = num\n",
    "    while power > 1:\n",
    "        res = (res%mod_val * num%mod_val)\n",
    "        power -= 1\n",
    "    print(res%mod_val)\n",
    "     \n",
    "        \n",
    "s = time()\n",
    "modular_exponentiation(50, 100, 13)\n",
    "e = time()\n",
    "print(e-s)"
   ]
  },
  {
   "cell_type": "code",
   "execution_count": 84,
   "metadata": {},
   "outputs": [
    {
     "data": {
      "text/plain": [
       "20.0"
      ]
     },
     "execution_count": 84,
     "metadata": {},
     "output_type": "execute_result"
    }
   ],
   "source": [
    "def binomial_coefficient(n, k):\n",
    "    # pick smaller one among k and n - k\n",
    "    if k > n - k:\n",
    "        k = n - k\n",
    "        \n",
    "    res = 1\n",
    "    for i in range(k):\n",
    "        res = res * (n - i)\n",
    "        res = res / (i + 1)\n",
    "    return res\n",
    "\n",
    "binomial_coefficient(6, 3)"
   ]
  },
  {
   "cell_type": "markdown",
   "metadata": {},
   "source": [
    "##### Rotten oranges"
   ]
  },
  {
   "cell_type": "code",
   "execution_count": 37,
   "metadata": {},
   "outputs": [
    {
     "name": "stdout",
     "output_type": "stream",
     "text": [
      "2\n"
     ]
    }
   ],
   "source": [
    "import pdb\n",
    "\n",
    "def queue_insert(mat, queue, rows, cols, visited):\n",
    "    for i in range(rows):\n",
    "        for j in range(cols):\n",
    "            if mat[i][j] == 2 and visited[i][j] == False:\n",
    "                queue.append([i, j])\n",
    "    queue.append([-1, -1])\n",
    "\n",
    "def neighbor_rot(mat, pos, rows, cols, visited, queue, changedFlag):\n",
    "    i = pos[0]\n",
    "    j = pos[1]\n",
    "    \n",
    "    row_nbr = [-1, 0, 0, 1]\n",
    "    col_nbr = [0, -1, 1, 0]\n",
    "\n",
    "    for k in range(4):\n",
    "        row = i + row_nbr[k]\n",
    "        col = j + col_nbr[k]\n",
    "        if row >=0 and row < rows and col >= 0 and col < cols and visited[row][col] == False and mat[row][col] == 1:\n",
    "            visited[row][col] = True\n",
    "            changedFlag = True\n",
    "            mat[row][col] = 2\n",
    "            queue.append([row, col])\n",
    "    return changedFlag\n",
    "    \n",
    "def rotten_oranges(mat, rows, cols):\n",
    "    queue = []\n",
    "    visited = [[False for i in range(cols)] for j in range(rows)]\n",
    "    queue_insert(mat, queue, rows, cols, visited)\n",
    "    count = 0\n",
    "    changedFlag = False\n",
    "\n",
    "    while len(queue) > 0:\n",
    "        if queue[0] == [-1, -1]:\n",
    "            if changedFlag:\n",
    "                count += 1\n",
    "            changedFlag = False\n",
    "            queue.pop(0)\n",
    "            if len(queue) == 0:\n",
    "                break\n",
    "            queue.append([-1, -1])\n",
    "        else:\n",
    "            changedFlag = neighbor_rot(mat, queue[0], rows, cols, visited, queue, changedFlag)\n",
    "            queue.pop(0)\n",
    "        \n",
    "    # if all oranges are not rotten\n",
    "    for i in range(rows):\n",
    "        for j in range(cols):\n",
    "            if mat[i][j] == 1:\n",
    "                return -1\n",
    "                \n",
    "    return count\n",
    "\n",
    "mat = [[2, 1, 0, 2, 1], \n",
    "       [1, 0, 1, 2, 1], \n",
    "       [1, 0, 0, 2, 1]]\n",
    "\n",
    "mat1 = [[2, 1, 0, 2, 1],\n",
    "        [0, 0, 1, 2, 1],\n",
    "        [1, 0, 0, 2, 1]]\n",
    "    \n",
    "print(rotten_oranges(mat, 3, 5))"
   ]
  },
  {
   "cell_type": "markdown",
   "metadata": {},
   "source": [
    "#### merge without extra space"
   ]
  },
  {
   "cell_type": "code",
   "execution_count": 54,
   "metadata": {},
   "outputs": [
    {
     "name": "stdout",
     "output_type": "stream",
     "text": [
      "[1, 2, 3, 5, 8, 9]\n",
      "[10, 13, 15, 20]\n"
     ]
    }
   ],
   "source": [
    "def merge_wo_extra_space(arr1, arr2):\n",
    "    for i in range(len(arr1)):\n",
    "        print(arr1, arr2)\n",
    "        j = 0\n",
    "        if arr1[i] > arr2[j]:\n",
    "            temp = arr2[j]\n",
    "            while arr2[j] < arr1[i] and j < len(arr2) - 1:\n",
    "                arr2[j] = arr2[j + 1]\n",
    "                j += 1\n",
    "            if j == len(arr2) - 1 and arr2[j] < arr1[i]:\n",
    "                arr2[j] = arr1[i]\n",
    "            else:\n",
    "                arr2[j - 1] = arr1[i]\n",
    "            arr1[i] = temp\n",
    "    \n",
    "    print(arr1)\n",
    "    print(arr2)\n",
    "    \n",
    "    \n",
    "def correct_merge_wo_extra_space(arr1, arr2, size1, size2):\n",
    "    for j in range(size2 - 1, -1, -1):\n",
    "        last = arr1[size1 - 1]\n",
    "        \n",
    "        i = size1 - 2\n",
    "        while i >=0 and arr1[i] > arr2[j]:\n",
    "            arr1[i + 1] = arr1[i]\n",
    "            i -= 1\n",
    "        \n",
    "        if i != size1-2 or last > arr2[j]:\n",
    "            arr1[i + 1] = arr2[j]\n",
    "            arr2[j] = last\n",
    "\n",
    "arr1 = [1, 5, 9, 10, 15, 20]\n",
    "arr2 = [2, 3, 8, 13]\n",
    "correct_merge_wo_extra_space(arr1, arr2, 6, 4)\n",
    "print(arr1)\n",
    "print(arr2)"
   ]
  },
  {
   "cell_type": "code",
   "execution_count": 11,
   "metadata": {},
   "outputs": [
    {
     "name": "stdout",
     "output_type": "stream",
     "text": [
      "32\n"
     ]
    }
   ],
   "source": []
  },
  {
   "cell_type": "markdown",
   "metadata": {},
   "source": [
    "#### Maximum sum of subarray modulo m"
   ]
  },
  {
   "cell_type": "code",
   "execution_count": 2,
   "metadata": {},
   "outputs": [
    {
     "name": "stdout",
     "output_type": "stream",
     "text": [
      "3 0 [0]\n",
      "1 3 [0, 3]\n",
      "3 0 [0, 3, 1]\n",
      "5 0 [0, 3, 1]\n",
      "2 5 [0, 3, 1, 5]\n"
     ]
    },
    {
     "data": {
      "text/plain": [
       "5"
      ]
     },
     "execution_count": 2,
     "metadata": {},
     "output_type": "execute_result"
    }
   ],
   "source": [
    "def max_sum_subarray_modulo_m(arr, m):\n",
    "    maximum = 0\n",
    "    prefix_sum = 0\n",
    "    store = [0]\n",
    "    \n",
    "    for i in range(len(arr)):\n",
    "        prefix_sum = (prefix_sum + arr[i]) % m\n",
    "        maximum = max(maximum, prefix_sum)\n",
    "        \n",
    "        iterator = 0\n",
    "        for ele in store:\n",
    "            # look for subarray sum greater already present in store\n",
    "            if ele >= prefix_sum + 1:\n",
    "                iterator = ele\n",
    "\n",
    "        print(prefix_sum, iterator, store, end = \"\\n\")        \n",
    "        if iterator != 0:\n",
    "            maximum = max(maximum, m + prefix_sum - iterator)\n",
    "        if prefix_sum not in store:\n",
    "            store.append(prefix_sum)\n",
    "\n",
    "    return maximum\n",
    "\n",
    "\n",
    "arr = [3, 5, 9, 9, 4]\n",
    "max_sum_subarray_modulo_m(arr, 7)"
   ]
  },
  {
   "cell_type": "markdown",
   "metadata": {},
   "source": [
    "### Search element in rotated array"
   ]
  },
  {
   "cell_type": "code",
   "execution_count": 38,
   "metadata": {},
   "outputs": [
    {
     "name": "stdout",
     "output_type": "stream",
     "text": [
      "6\n"
     ]
    }
   ],
   "source": [
    "\n",
    "def rotated_array_pivot(arr):\n",
    "    low = 0\n",
    "    high = len(arr) - 1\n",
    "\n",
    "    if high == low:\n",
    "        return low\n",
    "    \n",
    "    while low < high:\n",
    "        mid = (low + high) // 2\n",
    "        if arr[mid] > arr[mid + 1]:\n",
    "            return mid\n",
    "        if arr[mid] < arr[mid - 1]:\n",
    "            return mid - 1\n",
    "        if arr[mid] <= arr[low]:\n",
    "            high = mid - 1\n",
    "        else:\n",
    "            low = mid + 1\n",
    "    \n",
    "def bsearch(arr, value):\n",
    "    low = 0\n",
    "    high = len(arr) - 1\n",
    "    while low <= high:\n",
    "        mid = (low + high) // 2\n",
    "        if arr[mid] > value:\n",
    "            high = mid - 1\n",
    "        elif arr[mid] < value:\n",
    "            low = mid + 1\n",
    "        else:\n",
    "            return mid\n",
    "    return -1\n",
    "    \n",
    "def rotated_array_search(arr, value):\n",
    "    pivot = rotated_array_pivot(arr)\n",
    "    if value >= arr[0] and value <= arr[pivot]:\n",
    "        return bsearch(arr[0:pivot + 1], value)\n",
    "    else:\n",
    "        return pivot + bsearch(arr[pivot:], value)\n",
    "    \n",
    "            \n",
    "arr = [5, 6, 7, 8, 9, 10, 1, 2, 3]\n",
    "value = 1\n",
    "print(rotated_array_search(arr, value))"
   ]
  },
  {
   "cell_type": "code",
   "execution_count": 1,
   "metadata": {},
   "outputs": [
    {
     "data": {
      "text/plain": [
       "-1"
      ]
     },
     "execution_count": 1,
     "metadata": {},
     "output_type": "execute_result"
    }
   ],
   "source": [
    "def equillibrium(arr, length):\n",
    "    low = 0\n",
    "    high = length - 1\n",
    "    if length == 1:\n",
    "        return 1\n",
    "    end_sum = arr[high]\n",
    "    front_sum = arr[low]\n",
    "    diff = end_sum - front_sum\n",
    "    while (high > low):\n",
    "        if (high - low == 1 and diff == 0):\n",
    "            return high + 1\n",
    "        diff = end_sum - front_sum\n",
    "        if diff > 0:\n",
    "            low += 1\n",
    "            front_sum += arr[low]\n",
    "        else:\n",
    "            high -= 1\n",
    "            end_sum += arr[high]\n",
    "    return -1\n",
    "\n",
    "b = [32, 2]\n",
    "equillibrium(b, 2)\n",
    "    \n"
   ]
  },
  {
   "cell_type": "code",
   "execution_count": 1,
   "metadata": {},
   "outputs": [
    {
     "data": {
      "text/plain": [
       "7"
      ]
     },
     "execution_count": 1,
     "metadata": {},
     "output_type": "execute_result"
    }
   ],
   "source": [
    "def findWater(arr, n): \n",
    "  \n",
    "    # initialize output \n",
    "    result = 0\n",
    "       \n",
    "    # maximum element on left and right \n",
    "    left_max = 0\n",
    "    right_max = 0\n",
    "       \n",
    "    # indices to traverse the array \n",
    "    lo = 0\n",
    "    hi = n-1\n",
    "       \n",
    "    while(lo <= hi):  \n",
    "      \n",
    "        if(arr[lo] < arr[hi]): \n",
    "          \n",
    "            if(arr[lo] > left_max): \n",
    "  \n",
    "                # update max in left \n",
    "                left_max = arr[lo] \n",
    "            else: \n",
    "  \n",
    "                # water on curr element = max - curr \n",
    "                result += left_max - arr[lo] \n",
    "            lo+= 1\n",
    "          \n",
    "        else: \n",
    "          \n",
    "            if(arr[hi] > right_max): \n",
    "                # update right maximum \n",
    "                right_max = arr[hi] \n",
    "            else: \n",
    "                result += right_max - arr[hi] \n",
    "            hi-= 1\n",
    "          \n",
    "    return result \n",
    "\n",
    "def trapped_water(arr, length):\n",
    "    low = 0\n",
    "    high = length - 1\n",
    "    water_trapped = 0\n",
    "    left_max = 0\n",
    "    right_max = 0\n",
    "    \n",
    "    while (high >= low):\n",
    "        if (arr[high] > arr[low]):\n",
    "            if (arr[low] > left_max):\n",
    "                left_max = arr[low]\n",
    "            else:\n",
    "                water_trapped += left_max - arr[low] \n",
    "            low += 1\n",
    "        else:\n",
    "            if (arr[high] > right_max):\n",
    "                right_max = arr[high]\n",
    "            else:\n",
    "                water_trapped += right_max - arr[high]\n",
    "            high -= 1\n",
    "        \n",
    "    return water_trapped\n",
    "\n",
    "n = 10\n",
    "arr = [1, 1, 5, 2, 7, 6, 1, 4, 2, 3]\n",
    "# findWater(arr, n)\n",
    "trapped_water(arr, n)"
   ]
  },
  {
   "cell_type": "code",
   "execution_count": 2,
   "metadata": {},
   "outputs": [
    {
     "data": {
      "text/plain": [
       "[0, 0, 0, 0, 0]"
      ]
     },
     "execution_count": 2,
     "metadata": {},
     "output_type": "execute_result"
    }
   ],
   "source": [
    "[0 for i in range(5)]"
   ]
  },
  {
   "cell_type": "code",
   "execution_count": 5,
   "metadata": {},
   "outputs": [
    {
     "name": "stdout",
     "output_type": "stream",
     "text": [
      "[1, 2, 3, 4, 5, 6, 8, 9, 10, 12]\n",
      "12\n"
     ]
    }
   ],
   "source": [
    "def nth_ugly_number(n):\n",
    "    if n == 1:\n",
    "        return 1\n",
    "    ugly = [0 for i in range(n)]\n",
    "    ugly[0] = 1\n",
    "    index2 = 0\n",
    "    index3 = 0\n",
    "    index5 = 0\n",
    "    m2 = 2\n",
    "    m3 = 3\n",
    "    m5 = 5\n",
    "    for i in range(1, n):\n",
    "        ugly[i] = min(m2, m3, m5)\n",
    "        if ugly[i] == m2:\n",
    "            index2 += 1\n",
    "            m2 = ugly[index2] * 2\n",
    "        if ugly[i] == m3:\n",
    "            index3 += 1\n",
    "            m3 = ugly[index3] * 3\n",
    "        if ugly[i] == m5:\n",
    "            index5 += 1\n",
    "            m5 = ugly[index5] * 5\n",
    "    return ugly[-1]\n",
    "\n",
    "print(getNthUglyNo(10))"
   ]
  },
  {
   "cell_type": "code",
   "execution_count": 5,
   "metadata": {},
   "outputs": [
    {
     "name": "stdout",
     "output_type": "stream",
     "text": [
      "[1, 2, 3, 4, 5, 6, 8, 9, 10, 12]\n"
     ]
    }
   ],
   "source": [
    "#code\n",
    "def nth_ugly_number():\n",
    "    n = 10\n",
    "    ugly = [0 for i in range(n)]\n",
    "    ugly[0] = 1\n",
    "    index2 = 0\n",
    "    index3 = 0\n",
    "    index5 = 0\n",
    "    m2 = 2\n",
    "    m3 = 3\n",
    "    m5 = 5\n",
    "    for i in range(1, n):\n",
    "        ugly[i] = min(m2, m3, m5)\n",
    "        # multiple if to update incase multiple m's have same value\n",
    "            \n",
    "        if ugly[i] == m2:\n",
    "            index2 += 1\n",
    "            m2 = ugly[index2] * 2\n",
    "        if ugly[i] == m3:\n",
    "            index3 += 1\n",
    "            m3 = ugly[index3] * 3\n",
    "        if ugly[i] == m5:\n",
    "            index5 += 1\n",
    "            m5 = ugly[index5] * 5\n",
    "    return ugly\n",
    "\n",
    "arr = nth_ugly_number()\n",
    "n = 3\n",
    "print(arr)"
   ]
  },
  {
   "cell_type": "markdown",
   "metadata": {},
   "source": [
    "### LRU Cache"
   ]
  },
  {
   "cell_type": "code",
   "execution_count": 7,
   "metadata": {},
   "outputs": [
    {
     "name": "stdout",
     "output_type": "stream",
     "text": [
      "a\n",
      "c\n"
     ]
    }
   ],
   "source": [
    "h = {1: 2, 3: 4}\n",
    "h[7] = 0\n",
    "h\n",
    "x = \"123\"\n",
    "if x == \"123\":\n",
    "    print('a')\n",
    "    pass\n",
    "else:\n",
    "    print(\"b\")\n",
    "print(\"c\")"
   ]
  },
  {
   "cell_type": "code",
   "execution_count": 1,
   "metadata": {},
   "outputs": [],
   "source": [
    "# wrong\n",
    "def set(self, key, value):\n",
    "        #code here\n",
    "        cache_size = len(self.cache.keys())\n",
    "        if cache_size == 0:\n",
    "            pass\n",
    "        elif cache_size < self.cap:\n",
    "            if key in self.cache:\n",
    "                for i in range(len(self.queue)):\n",
    "                    if self.queue[i] == key:\n",
    "                        self.queue.pop(i)\n",
    "                        break\n",
    "        else:\n",
    "            if key in self.cache:\n",
    "                for i in range(len(self.queue)):\n",
    "                    if self.queue[i] == key:\n",
    "                        self.queue.pop(i)\n",
    "                        break\n",
    "            else:\n",
    "                pop_key = self.queue.pop(0)\n",
    "                if pop_key in self.cache:\n",
    "                    del self.cache[pop_key]\n",
    "        self.cache[key] = value\n",
    "        self.queue.append(key)\n",
    "\n",
    "        \n",
    "from collections import OrderedDict\n",
    "class LRUCache:\n",
    "        \n",
    "    def __init__(self,cap):\n",
    "        # cap:  capacity of cache\n",
    "        #Intialize all variable\n",
    "        #code here\n",
    "        self.cap = cap\n",
    "        self.cache = OrderedDict()\n",
    "    \n",
    "    #This method works in O(1)\n",
    "    def get(self, key):\n",
    "        #code here\n",
    "        if key in self.cache:\n",
    "            self.cache.move_to_end(key)\n",
    "            return self.cache[key]\n",
    "        else:\n",
    "            return -1\n",
    "        \n",
    "    #This method works in O(1)   \n",
    "    def set(self, key, value):\n",
    "        #code here\n",
    "        self.cache[key] = value\n",
    "        self.cache.move_to_end(key)\n",
    "        cache_keys_len = len(self.cache.keys())\n",
    "        if cache_keys_len > self.cap:\n",
    "            self.cache.popitem(last=False)\n",
    "            "
   ]
  },
  {
   "cell_type": "code",
   "execution_count": 1,
   "metadata": {},
   "outputs": [
    {
     "name": "stdout",
     "output_type": "stream",
     "text": [
      "1BA\n",
      "1AA\n",
      "1AY\n",
      "1AZ\n",
      "1CB\n",
      "1YZ\n",
      "1ZZ\n",
      "2C\n"
     ]
    }
   ],
   "source": [
    "def excelNotation(n):\n",
    "    if n == 0:\n",
    "        return -1\n",
    "    \n",
    "    if n % 702 == 0:\n",
    "        row = n // 702\n",
    "    else:\n",
    "        row = n // 702 + 1\n",
    "    \n",
    "    res = str(row)\n",
    "    col = ((n - 1) % 702) // 26 \n",
    "    if col == 0:\n",
    "        charIndex = ((n - 1) % 26)\n",
    "        cols = chr(65 + charIndex)\n",
    "    else:\n",
    "        firstCharIndex = col - 1\n",
    "        firstChar = chr(65 + firstCharIndex)\n",
    "        secondCharIndex = (n - 1)%26\n",
    "        secondChar = chr(65 + secondCharIndex)\n",
    "        cols = firstChar + secondChar\n",
    "        \n",
    "    res += cols\n",
    "    print(res)\n",
    "\n",
    "excelNotation(53)\n",
    "excelNotation(27)\n",
    "excelNotation(51) \n",
    "excelNotation(52)\n",
    "excelNotation(80) \n",
    "excelNotation(676) \n",
    "excelNotation(702) \n",
    "excelNotation(705)\n"
   ]
  },
  {
   "cell_type": "markdown",
   "metadata": {},
   "source": [
    "### first misssing positive"
   ]
  },
  {
   "cell_type": "code",
   "execution_count": 5,
   "metadata": {},
   "outputs": [
    {
     "data": {
      "text/plain": [
       "1"
      ]
     },
     "execution_count": 5,
     "metadata": {},
     "output_type": "execute_result"
    }
   ],
   "source": [
    "def firstMissingPositive(nums):        \n",
    "        s = set()\n",
    "        m = 0\n",
    "        for i in range(len(nums)):\n",
    "            m = max(m, nums[i])\n",
    "            s.add(nums[i])\n",
    "        \n",
    "        if m < 1:\n",
    "            return 1\n",
    "        for i in range(1, m+1):\n",
    "            if i not in s:\n",
    "                return i\n",
    "        return m+1\n",
    "    \n",
    "nums = [7,8,9,11,12]\n",
    "firstMissingPositive(nums)"
   ]
  },
  {
   "cell_type": "code",
   "execution_count": 2,
   "metadata": {},
   "outputs": [
    {
     "data": {
      "text/plain": [
       "'4 16'"
      ]
     },
     "execution_count": 2,
     "metadata": {},
     "output_type": "execute_result"
    }
   ],
   "source": [
    "def find_pairs(a, b, n):\n",
    "    for i in range(n-1):\n",
    "        t = b - a\n",
    "        b += a\n",
    "        a = t\n",
    "    a = a%1000000007\n",
    "    b = b%1000000007\n",
    "    return str(a) + \" \" + str(b)\n",
    "\n",
    "    \n",
    "a = 1\n",
    "b = 4\n",
    "n = 5\n",
    "find_pairs(a, b, n)"
   ]
  },
  {
   "cell_type": "code",
   "execution_count": 1,
   "metadata": {},
   "outputs": [],
   "source": [
    "h = {1: 2}"
   ]
  },
  {
   "cell_type": "code",
   "execution_count": 2,
   "metadata": {},
   "outputs": [
    {
     "ename": "KeyError",
     "evalue": "5",
     "output_type": "error",
     "traceback": [
      "\u001b[0;31m---------------------------------------------------------------------------\u001b[0m",
      "\u001b[0;31mKeyError\u001b[0m                                  Traceback (most recent call last)",
      "\u001b[0;32m<ipython-input-2-b0baaff3b69e>\u001b[0m in \u001b[0;36m<module>\u001b[0;34m\u001b[0m\n\u001b[0;32m----> 1\u001b[0;31m \u001b[0mh\u001b[0m\u001b[0;34m[\u001b[0m\u001b[0;36m5\u001b[0m\u001b[0;34m]\u001b[0m\u001b[0;34m\u001b[0m\u001b[0;34m\u001b[0m\u001b[0m\n\u001b[0m",
      "\u001b[0;31mKeyError\u001b[0m: 5"
     ]
    }
   ],
   "source": [
    "h[5]"
   ]
  },
  {
   "cell_type": "code",
   "execution_count": 22,
   "metadata": {},
   "outputs": [
    {
     "data": {
      "text/plain": [
       "[1, 2, 3, 5, 8]"
      ]
     },
     "execution_count": 22,
     "metadata": {},
     "output_type": "execute_result"
    }
   ],
   "source": [
    "def distinct_ways(n):\n",
    "    ans = [0 for i in range(n)]\n",
    "    ans[0] = 1\n",
    "    ans[1] = 2\n",
    "\n",
    "#     for i in range(2, n):\n",
    "#         j = 1\n",
    "#         while j <= i and j <= 2:\n",
    "#             ans[i] += ans[i-j]\n",
    "#             j += 1\n",
    "#     return ans\n",
    "\n",
    "\n",
    "    for i in range(2, n):\n",
    "        ans[i] = ans[i-1] + ans[i-2]\n",
    "        \n",
    "    return ans\n",
    "\n",
    "distinct_ways(5)"
   ]
  },
  {
   "cell_type": "code",
   "execution_count": 2,
   "metadata": {},
   "outputs": [
    {
     "ename": "TypeError",
     "evalue": "first argument must be callable or None",
     "output_type": "error",
     "traceback": [
      "\u001b[0;31m---------------------------------------------------------------------------\u001b[0m",
      "\u001b[0;31mTypeError\u001b[0m                                 Traceback (most recent call last)",
      "\u001b[0;32m<ipython-input-2-65f689fdf102>\u001b[0m in \u001b[0;36m<module>\u001b[0;34m\u001b[0m\n\u001b[1;32m      1\u001b[0m \u001b[0;32mfrom\u001b[0m \u001b[0mcollections\u001b[0m \u001b[0;32mimport\u001b[0m \u001b[0mdefaultdict\u001b[0m\u001b[0;34m\u001b[0m\u001b[0;34m\u001b[0m\u001b[0m\n\u001b[0;32m----> 2\u001b[0;31m \u001b[0mh\u001b[0m \u001b[0;34m=\u001b[0m \u001b[0mdefaultdict\u001b[0m\u001b[0;34m(\u001b[0m\u001b[0;34m[\u001b[0m\u001b[0;34m]\u001b[0m\u001b[0;34m)\u001b[0m\u001b[0;34m\u001b[0m\u001b[0;34m\u001b[0m\u001b[0m\n\u001b[0m\u001b[1;32m      3\u001b[0m \u001b[0mh\u001b[0m\u001b[0;34m[\u001b[0m\u001b[0;34m'a'\u001b[0m\u001b[0;34m]\u001b[0m\u001b[0;34m\u001b[0m\u001b[0;34m\u001b[0m\u001b[0m\n",
      "\u001b[0;31mTypeError\u001b[0m: first argument must be callable or None"
     ]
    }
   ],
   "source": [
    "from collections import defaultdicttteam\n",
    "h = defaultdict([])\n",
    "h['a']"
   ]
  },
  {
   "cell_type": "code",
   "execution_count": 27,
   "metadata": {},
   "outputs": [
    {
     "name": "stdout",
     "output_type": "stream",
     "text": [
      "0\n",
      "1\n",
      "2\n",
      "3\n",
      "4\n",
      "5\n",
      "adas 5\n"
     ]
    }
   ],
   "source": [
    "for i in range(6):\n",
    "    print(i)\n",
    "print(\"adas\", i)"
   ]
  },
  {
   "cell_type": "code",
   "execution_count": 29,
   "metadata": {},
   "outputs": [],
   "source": [
    "while {}:\n",
    "    print(true)"
   ]
  },
  {
   "cell_type": "code",
   "execution_count": 31,
   "metadata": {},
   "outputs": [
    {
     "name": "stdout",
     "output_type": "stream",
     "text": [
      "0 a\n",
      "1 b\n"
     ]
    }
   ],
   "source": [
    "s = ['a', 'b']\n",
    "for i,j in enumerate(s):\n",
    "    print(i, j)"
   ]
  },
  {
   "cell_type": "code",
   "execution_count": 25,
   "metadata": {},
   "outputs": [
    {
     "data": {
      "text/plain": [
       "30"
      ]
     },
     "execution_count": 25,
     "metadata": {},
     "output_type": "execute_result"
    }
   ],
   "source": [
    "[\"abaabbbaaaaababbbaaaaabbbaab\",\"ababaababaaabbabbaabbaabbaba\"]\n",
    "[\"aabbbbabbaababaaaabababbaaba\",\"abaabbbaaaaababbbaaaaabbbaab\",\"ababaababaaabbabbaabbaabbaba\"]\n",
    "\n",
    "\n",
    "x = [\"bbaabaabaaaaabaababaaaaababb\",\"aabbaaabaaabaabaaaaaabbaaaba\",\"babaababbbbbbbaabaababaabaaa\",\"bbbaaabaabbaaababababbbbbaaa\",\"babbabbbbaabbabaaaaaabbbaaab\",\"bbbababbbbbbbababbabbbbbabaa\",\"babababbababaabbbbabbbbabbba\",\"abbbbbbaabaaabaaababaabbabba\",\"aabaabababbbbbbababbbababbaa\",\"aabbbbabbaababaaaabababbaaba\",\"ababaababaaabbabbaabbaabbaba\",\"abaabbbaaaaababbbaaaaabbbaab\",\"aabbabaabaabbabababaaabbbaab\",\"baaabaaaabbabaaabaabababaaaa\",\"aaabbabaaaababbabbaabbaabbaa\",\"aaabaaaaabaabbabaabbbbaabaaa\",\"abbaabbaaaabbaababababbaabbb\",\"baabaababbbbaaaabaaabbababbb\",\"aabaababbaababbaaabaabababab\",\"abbaaabbaabaabaabbbbaabbbbbb\",\"aaababaabbaaabbbaaabbabbabab\",\"bbababbbabbbbabbbbabbbbbabaa\",\"abbbaabbbaaababbbababbababba\",\"bbbbbbbabbbababbabaabababaab\",\"aaaababaabbbbabaaaaabaaaaabb\",\"bbaaabbbbabbaaabbaabbabbaaba\",\"aabaabbbbaabaabbabaabababaaa\",\"abbababbbaababaabbababababbb\",\"aabbbabbaaaababbbbabbababbbb\",\"babbbaabababbbbbbbbbaabbabaa\"]\n"
   ]
  },
  {
   "cell_type": "code",
   "execution_count": 9,
   "metadata": {},
   "outputs": [
    {
     "data": {
      "text/plain": [
       "-234"
      ]
     },
     "execution_count": 9,
     "metadata": {},
     "output_type": "execute_result"
    }
   ],
   "source": [
    "s = set()\n",
    "s.add('+')\n",
    "s\n",
    "str(4)\n",
    "x = \"4193 with words\"\n",
    "x.replace(\" \", \"\")\n",
    "x\n",
    "int('-234')"
   ]
  },
  {
   "cell_type": "code",
   "execution_count": 13,
   "metadata": {},
   "outputs": [
    {
     "ename": "TypeError",
     "evalue": "'int' object is not iterable",
     "output_type": "error",
     "traceback": [
      "\u001b[0;31m---------------------------------------------------------------------------\u001b[0m",
      "\u001b[0;31mTypeError\u001b[0m                                 Traceback (most recent call last)",
      "\u001b[0;32m<ipython-input-13-63cb2e6278c1>\u001b[0m in \u001b[0;36m<module>\u001b[0;34m\u001b[0m\n\u001b[1;32m      2\u001b[0m \u001b[0ma\u001b[0m \u001b[0;34m=\u001b[0m \u001b[0;34m[\u001b[0m\u001b[0;36m1\u001b[0m\u001b[0;34m,\u001b[0m\u001b[0;36m2\u001b[0m\u001b[0;34m,\u001b[0m\u001b[0;36m3\u001b[0m\u001b[0;34m]\u001b[0m\u001b[0;34m\u001b[0m\u001b[0;34m\u001b[0m\u001b[0m\n\u001b[1;32m      3\u001b[0m \u001b[0mb\u001b[0m \u001b[0;34m=\u001b[0m \u001b[0;34m[\u001b[0m\u001b[0;36m4\u001b[0m\u001b[0;34m,\u001b[0m\u001b[0;36m5\u001b[0m\u001b[0;34m,\u001b[0m\u001b[0;36m6\u001b[0m\u001b[0;34m]\u001b[0m\u001b[0;34m\u001b[0m\u001b[0;34m\u001b[0m\u001b[0m\n\u001b[0;32m----> 4\u001b[0;31m \u001b[0mcombinations\u001b[0m\u001b[0;34m(\u001b[0m\u001b[0;36m2\u001b[0m\u001b[0;34m,\u001b[0m \u001b[0;36m3\u001b[0m\u001b[0;34m)\u001b[0m\u001b[0;34m\u001b[0m\u001b[0;34m\u001b[0m\u001b[0m\n\u001b[0m",
      "\u001b[0;31mTypeError\u001b[0m: 'int' object is not iterable"
     ]
    }
   ],
   "source": [
    "from itertools import combinations\n",
    "a = [1,2,3]\n",
    "b = [4,5,6]\n",
    "combinations(2, 3)"
   ]
  },
  {
   "cell_type": "code",
   "execution_count": 22,
   "metadata": {},
   "outputs": [
    {
     "data": {
      "text/plain": [
       "[1]"
      ]
     },
     "execution_count": 22,
     "metadata": {},
     "output_type": "execute_result"
    }
   ],
   "source": [
    "from collections import defaultdict\n",
    "defaultdict(list)\n",
    "a = []\n",
    "a.append(1)\n",
    "a"
   ]
  },
  {
   "cell_type": "code",
   "execution_count": 3,
   "metadata": {},
   "outputs": [
    {
     "data": {
      "text/plain": [
       "['a', 'b', 'x', 'c', 'a']"
      ]
     },
     "execution_count": 3,
     "metadata": {},
     "output_type": "execute_result"
    }
   ],
   "source": [
    "a = ['a', 'b']\n",
    "a\n",
    "a.extend(['x', 'c', 'a'])\n",
    "a"
   ]
  },
  {
   "cell_type": "code",
   "execution_count": 8,
   "metadata": {},
   "outputs": [
    {
     "data": {
      "text/plain": [
       "[2, 3]"
      ]
     },
     "execution_count": 8,
     "metadata": {},
     "output_type": "execute_result"
    }
   ],
   "source": [
    "a = [3,2]\n",
    "a.sort()\n",
    "a"
   ]
  },
  {
   "cell_type": "code",
   "execution_count": null,
   "metadata": {},
   "outputs": [],
   "source": []
  }
 ],
 "metadata": {
  "kernelspec": {
   "display_name": "Python 3",
   "language": "python",
   "name": "python3"
  },
  "language_info": {
   "codemirror_mode": {
    "name": "ipython",
    "version": 3
   },
   "file_extension": ".py",
   "mimetype": "text/x-python",
   "name": "python",
   "nbconvert_exporter": "python",
   "pygments_lexer": "ipython3",
   "version": "3.7.3"
  }
 },
 "nbformat": 4,
 "nbformat_minor": 2
}
