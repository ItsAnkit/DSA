{
 "cells": [
  {
   "cell_type": "markdown",
   "metadata": {},
   "source": [
    "### segment tree\n",
    "\n",
    "    Can be used to solve range min/max queries, sum queries and range update queries in O(logn)"
   ]
  },
  {
   "cell_type": "code",
   "execution_count": 1,
   "metadata": {},
   "outputs": [
    {
     "name": "stdout",
     "output_type": "stream",
     "text": [
      "24\n",
      "34\n",
      "34\n"
     ]
    }
   ],
   "source": [
    "# Time Complexity of construction - O(n)\n",
    "# Leaf nodes = 2^h\n",
    "# Total nodes =  2*leaf_nodes - 1\n",
    "# Sum TC = O(logn)\n",
    "# Update TC = O(lgn)\n",
    "\n",
    "import math\n",
    "\n",
    "def sum_helper(st, low, high, rs, re, i):\n",
    "    if rs <= low and re >= high:\n",
    "        return st[i]\n",
    "\n",
    "    if rs > high or re < low:\n",
    "        return 0\n",
    "    mid = (low + high) // 2\n",
    "\n",
    "    return sum_helper(st,   low,   mid,  rs, re, 2*i + 1) + \\\n",
    "           sum_helper(st, mid + 1, high, rs, re, 2*i + 2)\n",
    "\n",
    "\n",
    "def calc_sum(st, n, start, end):\n",
    "    if start < 0 or end >= n or start > end:\n",
    "        return -1\n",
    "\n",
    "    return sum_helper(st, 0, n-1, start, end, 0)\n",
    "\n",
    "def update_helper(st, arr, low, high, index, diff, i):\n",
    "    if index < low or index > high:\n",
    "        return\n",
    "    \n",
    "    st[i] += diff\n",
    "    \n",
    "    if low != high:\n",
    "        mid = (low + high) // 2\n",
    "        update_helper(st, arr, low,   mid, index, diff, 2*i + 1)\n",
    "        update_helper(st, arr, mid+1, high, index, diff, 2*i + 2)\n",
    "    \n",
    "\n",
    "def update(st, arr, n, index, value):\n",
    "    if index < 0 or index > n-1:\n",
    "        return -1\n",
    "    \n",
    "    diff = value - arr[index]\n",
    "    arr[index] = value\n",
    "    update_helper(st, arr, 0, n-1, index, diff, 0)\n",
    "    \n",
    "\n",
    "def construct_helper(arr, st, low, high, i):\n",
    "    if low == high:\n",
    "        st[i] = arr[high]\n",
    "        return st[i]\n",
    "    mid = (low + high) // 2\n",
    "    st[i] = construct_helper(arr, st, low, mid, 2*i + 1) + construct_helper(arr, st, mid + 1, high, 2*i + 2)\n",
    "    return st[i]\n",
    "    \n",
    "\n",
    "def construct_segment_tree(arr, n):\n",
    "    height = int(math.ceil(math.log2(n)))\n",
    "    total_nodes = 2 * (2 ** height) - 1\n",
    "    st = [0] * total_nodes\n",
    "    low = 0\n",
    "    construct_helper(arr, st, low, n-1, 0)\n",
    "    return st\n",
    "    \n",
    "    \n",
    "arr = [1, 3, 5, 7, 9, 11, 15, 16];  \n",
    "n = len(arr)\n",
    "st = construct_segment_tree(arr, n)\n",
    "start = 1\n",
    "end = 4\n",
    "# print(st)\n",
    "print(calc_sum(st, n, start, end))\n",
    "\n",
    "index = 3\n",
    "value = 17\n",
    "update(st, arr, n, index, value)\n",
    "\n",
    "print(calc_sum(st, n, start, end))\n",
    "\n",
    "# outside range, so no change in sum\n",
    "index = 7\n",
    "value = 26\n",
    "update(st, arr, n, index, value)\n",
    "\n",
    "print(calc_sum(st, n, start, end))\n"
   ]
  },
  {
   "cell_type": "code",
   "execution_count": null,
   "metadata": {},
   "outputs": [],
   "source": []
  }
 ],
 "metadata": {
  "kernelspec": {
   "display_name": "Python 3",
   "language": "python",
   "name": "python3"
  },
  "language_info": {
   "codemirror_mode": {
    "name": "ipython",
    "version": 3
   },
   "file_extension": ".py",
   "mimetype": "text/x-python",
   "name": "python",
   "nbconvert_exporter": "python",
   "pygments_lexer": "ipython3",
   "version": "3.7.3"
  }
 },
 "nbformat": 4,
 "nbformat_minor": 2
}
