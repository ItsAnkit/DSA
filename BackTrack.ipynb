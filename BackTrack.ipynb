{
 "cells": [
  {
   "cell_type": "markdown",
   "metadata": {},
   "source": [
    "### n-queen problem"
   ]
  },
  {
   "cell_type": "code",
   "execution_count": 8,
   "metadata": {},
   "outputs": [
    {
     "name": "stdout",
     "output_type": "stream",
     "text": [
      "[0, 0, 1, 0]\n",
      "[1, 0, 0, 0]\n",
      "[0, 0, 0, 1]\n",
      "[0, 1, 0, 0]\n"
     ]
    }
   ],
   "source": [
    "def n_queen(board, col, n):\n",
    "    if col >= n:\n",
    "        return True\n",
    "\n",
    "    # check in each row for a col.\n",
    "    for row in range(n):\n",
    "        if isSafe(board, row, col):\n",
    "            board[row][col] = 1\n",
    "            if n_queen(board, col + 1, n):\n",
    "                return True\n",
    "            board[row][col] = 0\n",
    "    return False\n",
    "\n",
    "\n",
    "def isSafe(board, row, col):\n",
    "    n = len(board[0])\n",
    "\n",
    "    for i in range(n):\n",
    "        for j in range(n):\n",
    "            if i == row and j == col:\n",
    "                continue\n",
    "            if board[i][j] == 1:\n",
    "                if (i == row or j == col):\n",
    "                    return False\n",
    "                if i - j == row - col or i + j == row + col:\n",
    "                    return False\n",
    "    \n",
    "    return True    \n",
    "    \n",
    "n = 4\n",
    "board = [[0 for i in range(n)] for j in range(n)]\n",
    "if n_queen(board, 0, n):\n",
    "    for i in range(n):\n",
    "        print(board[i])\n",
    "else:\n",
    "    print(False)"
   ]
  },
  {
   "cell_type": "code",
   "execution_count": 19,
   "metadata": {},
   "outputs": [
    {
     "data": {
      "text/plain": [
       "'[1 3 5 7 2 4 6 ] [1 4 7 3 6 2 5 ] [1 5 2 6 3 7 4 ] [1 6 4 2 7 5 3 ] [2 4 1 7 5 3 6 ] [2 4 6 1 3 5 7 ] [2 5 1 4 7 3 6 ] [2 5 3 1 7 4 6 ] [2 5 7 4 1 3 6 ] [2 6 3 7 4 1 5 ] [2 7 5 3 1 6 4 ] [3 1 6 2 5 7 4 ] [3 1 6 4 2 7 5 ] [3 5 7 2 4 6 1 ] [3 6 2 5 1 4 7 ] [3 7 2 4 6 1 5 ] [3 7 4 1 5 2 6 ] [4 1 3 6 2 7 5 ] [4 1 5 2 6 3 7 ] [4 2 7 5 3 1 6 ] [4 6 1 3 5 7 2 ] [4 7 3 6 2 5 1 ] [4 7 5 2 6 1 3 ] [5 1 4 7 3 6 2 ] [5 1 6 4 2 7 3 ] [5 2 6 3 7 4 1 ] [5 3 1 6 4 2 7 ] [5 7 2 4 6 1 3 ] [5 7 2 6 3 1 4 ] [6 1 3 5 7 2 4 ] [6 2 5 1 4 7 3 ] [6 3 1 4 7 5 2 ] [6 3 5 7 1 4 2 ] [6 3 7 4 1 5 2 ] [6 4 2 7 5 3 1 ] [6 4 7 1 3 5 2 ] [7 2 4 6 1 3 5 ] [7 3 6 2 5 1 4 ] [7 4 1 5 2 6 3 ] [7 5 3 1 6 4 2 ] '"
      ]
     },
     "execution_count": 19,
     "metadata": {},
     "output_type": "execute_result"
    }
   ],
   "source": [
    "def isSafe(board, row, col):\n",
    "    n = len(board[0])\n",
    "\n",
    "    for i in range(n):\n",
    "        for j in range(n):\n",
    "            if i == row and j == col:\n",
    "                continue\n",
    "            if board[i][j] == 1:\n",
    "                if (i == row or j == col):\n",
    "                    return False\n",
    "                if i - j == row - col or i + j == row + col:\n",
    "                    return False\n",
    "\n",
    "    return True\n",
    "    \n",
    "    \n",
    "def print_board(board):\n",
    "    s = []\n",
    "    for i in range(n):\n",
    "        for j in range(n):\n",
    "            if board[i][j] == 1:\n",
    "                s.append(j + 1)\n",
    "    return s\n",
    "\n",
    "def n_queen_soln(board, col, n, res):\n",
    "    if col == n:\n",
    "        s = print_board(board)\n",
    "        res.append(s)\n",
    "        return True\n",
    "\n",
    "    ans = False\n",
    "    # check in each row for a col.\n",
    "    for row in range(n):\n",
    "        if isSafe(board, row, col):\n",
    "            board[row][col] = 1\n",
    "            ans = n_queen_soln(board, col + 1, n, res) or ans\n",
    "            board[row][col] = 0\n",
    "    return ans\n",
    "    \n",
    "def n_queen_all_solns(n):\n",
    "    board = [[0 for i in range(n)] for j in range(n)]\n",
    "    res = []\n",
    "    if n_queen_soln(board, 0, n, res) == False:\n",
    "        return -1\n",
    "    res.sort()\n",
    "    ans = \"\"\n",
    "    for ele in res:\n",
    "        ans += \"[\"\n",
    "        ans += \" \".join(map(str, ele))\n",
    "        ans += \" ] \"\n",
    "    return ans\n",
    "\n",
    "n = 7\n",
    "n_queen_all_solns(n)"
   ]
  },
  {
   "cell_type": "markdown",
   "metadata": {},
   "source": [
    "### Rat in a maze problem \n",
    "    space complexity O(n^2)\n",
    "    time  complexity O(2^(n^2)) \n",
    "    # for maze with diagonal directions as well TC will be O(3^(n^2)) as rat can move in 3 directions right,\n",
    "    # down and down-right"
   ]
  },
  {
   "cell_type": "code",
   "execution_count": 5,
   "metadata": {},
   "outputs": [
    {
     "name": "stdout",
     "output_type": "stream",
     "text": [
      "[1, 0, 0, 0]\n",
      "[1, 0, 0, 0]\n",
      "[1, 1, 0, 0]\n",
      "[0, 1, 1, 1]\n"
     ]
    },
    {
     "data": {
      "text/plain": [
       "True"
      ]
     },
     "execution_count": 5,
     "metadata": {},
     "output_type": "execute_result"
    }
   ],
   "source": [
    "def rat_in_maze(maze, n):\n",
    "    matrix = [[0 for i in range(n)] for j in range(n)]\n",
    "    if travelMaze(matrix, maze, 0, 0, n) == False:\n",
    "        return False\n",
    "    for i in range(n):\n",
    "        print(matrix[i])\n",
    "    return True\n",
    "\n",
    "\n",
    "def travelMaze(matrix, maze, i, j, n):\n",
    "    if i == n - 1 and j == n - 1 and maze[i][j] == 1: # destination reached\n",
    "        matrix[i][j] = 1\n",
    "        return True\n",
    "    \n",
    "    if isSafe(maze, i, j, n):\n",
    "        matrix[i][j] = 1\n",
    "        if travelMaze(matrix, maze, i + 1, j, n):\n",
    "            return True\n",
    "        if travelMaze(matrix, maze, i, j + 1, n):\n",
    "            return True\n",
    "\n",
    "        matrix[i][j] = 0 # backtrack as none of the above solution works\n",
    "        return False\n",
    "    \n",
    "def isSafe(maze, i, j, n):\n",
    "    if i >= 0 and i < n and j >= 0 and j < n and maze[i][j] == 1:\n",
    "        return True\n",
    "    else:\n",
    "        return False\n",
    "\n",
    "arr = [[1, 0, 0, 0],\n",
    "       [1, 1, 0, 1],\n",
    "       [1, 1, 0, 0],\n",
    "       [0, 1, 1, 1]]\n",
    "\n",
    "n = 4\n",
    "rat_in_maze(arr, n)"
   ]
  },
  {
   "cell_type": "code",
   "execution_count": 17,
   "metadata": {},
   "outputs": [
    {
     "name": "stdout",
     "output_type": "stream",
     "text": [
      "[1, 0, 0, 0]\n",
      "[1, 0, 0, 0]\n",
      "[1, 1, 0, 0]\n",
      "[0, 1, 1, 0]\n"
     ]
    }
   ],
   "source": [
    "def findPath(arr, n):\n",
    "    # code here\n",
    "    if arr[0][0] == 0 or arr[n-1][n-1] == 0:\n",
    "        return \"\"\n",
    "    visited = [[False for i in range(n)] for j in range(n)]\n",
    "    soln = []\n",
    "    traverse(arr, soln, n, 0, 0, \"\", visited)\n",
    "    print(soln)\n",
    "\n",
    "def traverse(arr, soln, n, i, j, s, visited):\n",
    "    print(\"ij\", i, j)\n",
    "    if i == n - 1 and j == n - 1:\n",
    "        soln.append(s)\n",
    "        return True \n",
    "    row_nbrs = [-1, 0, 0, 1]\n",
    "    col_nbrs = [0, -1, 1, 0]\n",
    "    directions = [\"U\", \"L\", \"R\", \"D\"]\n",
    "    for k in range(4):\n",
    "        r = row_nbrs[k] + i\n",
    "        c = col_nbrs[k] + j\n",
    "        if r >= 0 and r < n and c >= 0 and c < n and arr[r][c] == 1 and visited[r][c] == False and (s == \"\" or s[-1] != opposite(directions[k]) ):\n",
    "            temp = visited.copy()\n",
    "            temp[r][c] = True\n",
    "            if traverse(arr, soln, n, r, c, s + directions[k], temp):\n",
    "                return True\n",
    "    return False\n",
    "\n",
    "\n",
    "def opposite(direction):\n",
    "    return {\"L\": \"R\",\n",
    "     \"R\": \"L\",\n",
    "     \"U\": \"D\",\n",
    "     \"D\": \"U\"\n",
    "    }[direction]\n",
    "\n",
    "\n",
    "arr = [[1, 0, 0, 0],\n",
    "       [1, 1, 0, 1],\n",
    "       [1, 1, 0, 0],\n",
    "       [0, 1, 1, 1]]\n",
    "\n",
    "n = 4\n",
    "print(findPath(arr, n))\n"
   ]
  },
  {
   "cell_type": "code",
   "execution_count": 4,
   "metadata": {},
   "outputs": [],
   "source": [
    "def bc(mat, row, col, n):\n",
    "    if col >= n:\n",
    "        return True\n",
    "    \n",
    "    for row in range(n):\n",
    "        if isSafe(mat, row, col, n):\n",
    "            mat[row][col] = 1\n",
    "            if bc(mat, row, col + 1, n):\n",
    "                return True\n",
    "            mat[row][col] = 0"
   ]
  },
  {
   "cell_type": "code",
   "execution_count": 1,
   "metadata": {},
   "outputs": [
    {
     "name": "stdout",
     "output_type": "stream",
     "text": [
      "defaultdict(<class 'list'>, {'f': [[0, 0], [1, 0], [1, 4]], 'd': [[0, 1], [1, 1]], 'b': [[0, 2]], 'c': [[0, 3], [1, 2], [1, 3]], 'e': [[0, 4]]})\n",
      "ij b 0 2\n",
      "ij dff 0 1\n",
      "ij ec 0 4\n",
      "ij efe 0 4\n",
      "b dff ec\n"
     ]
    }
   ],
   "source": [
    "import numpy\n",
    "from collections import defaultdict\n",
    "import pdb\n",
    "\n",
    "\n",
    "def word_boggle(boggle, words, rows, cols, n):\n",
    "    res = []\n",
    "    h = defaultdict(list)\n",
    "    for i in range(rows):\n",
    "        for j in range(cols):\n",
    "            h[boggle[i][j]].append([i, j])\n",
    "    print(h)\n",
    "    for word in words:\n",
    "        if word[0] in h and word not in res:\n",
    "            visited = [[False for i in range(cols)] for j in range(rows)]\n",
    "            for i,j in h[word[0]]:\n",
    "                print(\"ij\", word, i, j)\n",
    "                if word_in_boggle(visited, word, boggle, i, j, rows, cols, 0):\n",
    "                    res.append(word)\n",
    "                    break\n",
    "    if len(res) == 0:\n",
    "        return -1\n",
    "    res.sort()\n",
    "    return \" \".join(res)\n",
    "\n",
    "\n",
    "def word_in_boggle(visited, word, boggle, i, j, rows, cols, word_index):\n",
    "    row_nbrs = [-1, -1, -1 , 0, 0, 1, 1, 1]\n",
    "    col_nbrs = [-1, 0, 1, -1, 1, -1, 0, 1]\n",
    "    visited[i][j] = True\n",
    "    word_index += 1\n",
    "    if word_index == len(word):\n",
    "        return True\n",
    "    \n",
    "    for k in range(8):\n",
    "        r = row_nbrs[k] + i\n",
    "        c = col_nbrs[k] + j\n",
    "        if r >= 0 and r < rows and c >= 0 and c < cols and visited[r][c] == False \\\n",
    "           and boggle[r][c] == word[word_index]:\n",
    "            if word_in_boggle(visited, word, boggle, r, c, rows, cols, word_index):\n",
    "                return True\n",
    "    return False\n",
    "\n",
    "\n",
    "# n = 4\n",
    "# words = ['GEEKS', 'FOR', 'QUIZ', 'GO']\n",
    "# r, c = 3, 3\n",
    "# boggle = [['G', 'I', 'Z'], \n",
    "#           ['U', 'E', 'K'],\n",
    "#           ['Q', 'S', 'E']]\n",
    "\n",
    "n = 6\n",
    "words = ['b', 'b', 'dff', 'b', 'ec', 'efe']\n",
    "r, c = 2, 5\n",
    "boggle = [['f', 'd', 'b', 'c', 'e'],\n",
    "          ['f', 'd', 'c', 'c', 'f']]\n",
    "\n",
    "print(word_boggle(boggle, words, r, c, n))"
   ]
  },
  {
   "cell_type": "code",
   "execution_count": null,
   "metadata": {},
   "outputs": [],
   "source": []
  }
 ],
 "metadata": {
  "kernelspec": {
   "display_name": "Python 3",
   "language": "python",
   "name": "python3"
  },
  "language_info": {
   "codemirror_mode": {
    "name": "ipython",
    "version": 3
   },
   "file_extension": ".py",
   "mimetype": "text/x-python",
   "name": "python",
   "nbconvert_exporter": "python",
   "pygments_lexer": "ipython3",
   "version": "3.7.3"
  }
 },
 "nbformat": 4,
 "nbformat_minor": 2
}
