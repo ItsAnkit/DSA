{
 "cells": [
  {
   "cell_type": "code",
   "execution_count": 2,
   "metadata": {},
   "outputs": [],
   "source": [
    "from collections import defaultdict\n",
    "import pdb\n",
    "import queue\n",
    "\n",
    "class Graph:\n",
    "    def __init__(self, vertices):\n",
    "        self.graph = defaultdict(list)\n",
    "        self.V = vertices\n",
    "        \n",
    "    def add_edge(self, u, v, undirected = False):\n",
    "        self.graph[u].append(v)\n",
    "        if undirected:\n",
    "            self.graph[v].append(u)\n",
    "        \n",
    "vertices = 5\n",
    "edges = 4\n",
    "ve_matrix = [0, 1, 0, 2, 0, 3, 2, 4]\n",
    "g = Graph(vertices)\n",
    "\n",
    "for i in range(0, edges * 2, 2):\n",
    "    g.add_edge(ve_matrix[i], ve_matrix[i + 1])\n",
    "    "
   ]
  },
  {
   "cell_type": "code",
   "execution_count": 9,
   "metadata": {},
   "outputs": [
    {
     "name": "stdout",
     "output_type": "stream",
     "text": [
      "0 1 2 3 4 "
     ]
    }
   ],
   "source": [
    "def bfs(graph, vertices):\n",
    "    q = queue.Queue()\n",
    "    q.put(0)\n",
    "    visited = [False] * vertices\n",
    "    visited[0] = True\n",
    "    \n",
    "    while q.qsize() > 0:\n",
    "        vertex = q.get()\n",
    "        print(vertex, end = \" \")\n",
    "          \n",
    "        for neighbor in graph[vertex]:\n",
    "            if visited[neighbor] == False:\n",
    "                q.put(neighbor)\n",
    "                visited[neighbor] = True\n",
    "                \n",
    "                \n",
    "bfs(g.graph, vertices)"
   ]
  },
  {
   "cell_type": "code",
   "execution_count": 10,
   "metadata": {},
   "outputs": [
    {
     "name": "stdout",
     "output_type": "stream",
     "text": [
      "0 1 2 4 3 "
     ]
    }
   ],
   "source": [
    "def dfs(graph, vertices):\n",
    "    visited = [False] * vertices\n",
    "    traverse(graph, visited, 0)\n",
    "    \n",
    "def traverse(graph, visited, node):\n",
    "    visited[node] = True\n",
    "    print(node, end = \" \")\n",
    "    \n",
    "    for vertex in graph[node]:\n",
    "        if visited[vertex] == False:\n",
    "            traverse(graph, visited, vertex)\n",
    "\n",
    "dfs(g.graph, vertices)    "
   ]
  },
  {
   "cell_type": "code",
   "execution_count": 12,
   "metadata": {},
   "outputs": [
    {
     "name": "stdout",
     "output_type": "stream",
     "text": [
      "False\n"
     ]
    }
   ],
   "source": [
    "def detect_cycle_undirected_graph(graph, vertices):\n",
    "    visited = [False] * vertices\n",
    "    root = 0\n",
    "    parent = -1\n",
    "    if dfs_traversal(graph, visited, root, parent, vertices):\n",
    "        return True\n",
    "    return False\n",
    "\n",
    "def dfs_traversal(graph, visited, node, parent, vertices):\n",
    "    visited[node] = True\n",
    "    if len(graph[node]) == 0:\n",
    "        node += 1\n",
    "        while (node not in graph.keys() and node <= vertices):\n",
    "            node += 1\n",
    "    \n",
    "    for vertex in graph[node]:\n",
    "        if visited[vertex] == True and parent in graph[vertex]:\n",
    "            return True\n",
    "        elif visited[vertex] == False:\n",
    "            return dfs_traversal(graph, visited, vertex, node, vertices)\n",
    "        \n",
    "edges = 4\n",
    "vertices = 5\n",
    "ve_matrix = [0, 1, 2, 3, 3, 4, 4, 2]\n",
    "\n",
    "# graph generation\n",
    "g = Graph(vertices)\n",
    "for i in range(0, edges * 2, 2):\n",
    "    g.add_edge(ve_matrix[i], ve_matrix[i + 1], True)\n",
    "\n",
    "print(detect_cycle_undirected_graph(g.graph, vertices))"
   ]
  },
  {
   "cell_type": "code",
   "execution_count": 34,
   "metadata": {},
   "outputs": [
    {
     "name": "stdout",
     "output_type": "stream",
     "text": [
      "0 []\n",
      "1 [0]\n",
      "3 [1, 0]\n",
      "2 [3, 1, 0]\n",
      "4 [2, 3, 1, 0]\n",
      "5 [4, 2, 3, 1, 0]\n",
      "[5, 4, 2, 3, 1, 0]\n"
     ]
    }
   ],
   "source": [
    "# def topological_sort(g, vertices):\n",
    "#     visited = [False] * vertices\n",
    "#     stack = []\n",
    "    \n",
    "#     for i in range(vertices):\n",
    "#         if visited[i] == False:\n",
    "#             dfs_traverse(g, visited, stack, i)    \n",
    "#     return stack\n",
    "\n",
    "# def dfs_traverse(graph, visited, stack, node):\n",
    "#     visited[node] = True   \n",
    "    \n",
    "#     for vertex in graph[node]:\n",
    "#         if visited[node] == False:\n",
    "#             dfs_traverse(graph, visited, stack, vertex)\n",
    "#     print(node, stack)\n",
    "#     stack.insert(0, node)\n",
    "\n",
    "def topological_sort(graph, n):\n",
    "    # Code here\n",
    "    visit = [False] * n\n",
    "    stack = []\n",
    "    for i in range(n):\n",
    "        if visit[i] == False:\n",
    "            topoSortUtil(i, visit, graph, stack)\n",
    "      \n",
    "    return stack\n",
    "    \n",
    "def topoSortUtil(i, visit, graph, stack):\n",
    "    visit[i] = True\n",
    "    \n",
    "    for node in graph[i]:\n",
    "        if visit[node] == False:\n",
    "            topoSortUtil(node, visit, graph, stack)\n",
    "    # insert at front as iteration for validating topoSort is from start instead of top of stack\n",
    "    print(i, stack)\n",
    "    stack.insert(0, i)\n",
    "            \n",
    "vertices = 6\n",
    "edges = 6\n",
    "ve_matrix = [5, 2, 5, 0, 4, 0, 4, 1, 2, 3, 3, 1]\n",
    "g = Graph(vertices)\n",
    "\n",
    "for i in range(0, edges * 2, 2):\n",
    "    g.add_edge(ve_matrix[i], ve_matrix[i + 1])\n",
    "    \n",
    "print(topological_sort(g.graph, vertices))    "
   ]
  },
  {
   "cell_type": "code",
   "execution_count": 40,
   "metadata": {},
   "outputs": [
    {
     "name": "stdout",
     "output_type": "stream",
     "text": [
      "True\n"
     ]
    }
   ],
   "source": [
    "def detect_cycle_in_directed_graph(graph, vertices):\n",
    "    visited = [False] * vertices\n",
    "    rec_stack = [False] * vertices\n",
    "\n",
    "    for i in range(vertices):\n",
    "        if not visited[i]:\n",
    "            if cycle_detector(graph, visited, rec_stack, i):\n",
    "                return True\n",
    "    return False\n",
    "        \n",
    "def cycle_detector(graph, visited, rec_stack, node):\n",
    "    visited[node] = True\n",
    "    rec_stack[node] = True\n",
    "    \n",
    "    for vertex in graph[node]:\n",
    "        if not visited[node]:\n",
    "            if cycle_detector(graph, visited, rec_stack, vertex):\n",
    "                return True\n",
    "        # node already traversed\n",
    "        elif rec_stack[node]:\n",
    "            return True\n",
    "                \n",
    "    rec_stack[node] = False\n",
    "    return False\n",
    "    \n",
    "    \n",
    "# vertices = 6\n",
    "# edges = 6\n",
    "# ve_matrix = [5, 2, 5, 0, 4, 0, 4, 1, 2, 3, 3, 1]\n",
    "\n",
    "vertices = 4\n",
    "edges = 3\n",
    "ve_matrix = [0, 1, 2, 3, 3, 2]\n",
    "g = Graph(vertices)\n",
    "\n",
    "for i in range(0, edges * 2, 2):\n",
    "    g.add_edge(ve_matrix[i], ve_matrix[i + 1])\n",
    "\n",
    "print(detect_cycle_in_directed_graph(g.graph, vertices))"
   ]
  },
  {
   "cell_type": "code",
   "execution_count": 47,
   "metadata": {},
   "outputs": [
    {
     "name": "stdout",
     "output_type": "stream",
     "text": [
      "2\n"
     ]
    }
   ],
   "source": [
    "def find_islands(matrix, r, c):\n",
    "    visited = [[False for i in range(c)] for j in range(r)]\n",
    "    count = 0\n",
    "    \n",
    "    for i in range(r):\n",
    "        for j in range(c):\n",
    "            if matrix[i][j] == 1 and visited[i][j] == False:\n",
    "                dfs_traverse(matrix, visited, i, j, r, c)\n",
    "                count += 1\n",
    "    return count\n",
    "\n",
    "def dfs_traverse(matrix, visited, i, j, totalr, totalc):\n",
    "    row_nbr = [-1, -1, -1, 0,0 ,1 , 1, 1]\n",
    "    col_nbr = [-1, 0, 1, -1, 1, -1, 0, 1]\n",
    "    visited[i][j] = True\n",
    "    \n",
    "    for k in range(8):\n",
    "        row = i + row_nbr[k]\n",
    "        col = j + col_nbr[k]\n",
    "        \n",
    "        if row >= 0 and row < totalr and col >= 0 and col < totalc and visited[row][col] == False and matrix[row][col] == 1:\n",
    "            dfs_traverse(matrix, visited, row, col, totalr, totalc)\n",
    "    \n",
    "    return -1\n",
    "\n",
    "matrix = [[1, 1, 0, 0], [1, 0, 1, 0], [0, 0, 0, 1], [1, 1, 0, 0]]\n",
    "\n",
    "print(find_islands(matrix, 4, 4))\n",
    "    "
   ]
  },
  {
   "cell_type": "markdown",
   "metadata": {},
   "source": [
    "### chck if graph is tree or not"
   ]
  },
  {
   "cell_type": "code",
   "execution_count": 3,
   "metadata": {},
   "outputs": [
    {
     "name": "stdout",
     "output_type": "stream",
     "text": [
      "True\n"
     ]
    }
   ],
   "source": [
    "def is_tree(graph, n):\n",
    "    visited = [False] * n\n",
    "    root = 0\n",
    "    parent = -1\n",
    "    \n",
    "    # check for cycles\n",
    "    if isCyclic(graph, visited, root, parent):\n",
    "        return False\n",
    "    \n",
    "    # check if every node is connected i.e., traversed\n",
    "    for i in range(n):\n",
    "        if visited[i] == False:\n",
    "            return False\n",
    "        \n",
    "    return True\n",
    "\n",
    "def isCyclic(graph, visited, vertex, parent):\n",
    "    visited[vertex] = True\n",
    "    \n",
    "    for node in graph[vertex]:\n",
    "        if visited[node] == False:\n",
    "            if isCyclic(graph, visited, node, vertex):\n",
    "                return True\n",
    "        elif node != parent: \n",
    "            return True\n",
    "    return False\n",
    "\n",
    "vertices = 5\n",
    "edges = 4\n",
    "ve_matrix = [1, 0, 0, 2, 0, 3, 3, 4]\n",
    "g = Graph(vertices)\n",
    "\n",
    "for i in range(0, edges * 2, 2):\n",
    "    g.add_edge(ve_matrix[i], ve_matrix[i + 1], True)\n",
    "    \n",
    "print(is_tree(g.graph, vertices))"
   ]
  },
  {
   "cell_type": "markdown",
   "metadata": {},
   "source": [
    "### Critical Connections"
   ]
  },
  {
   "cell_type": "code",
   "execution_count": null,
   "metadata": {},
   "outputs": [],
   "source": [
    "import sys\n",
    "\n",
    "def critical_connections(graph, vertices):\n",
    "    visited = [False] * vertices\n",
    "    disc = [sys.maxsize] * vertices\n",
    "    low = [sys.maxsize] * vertices\n",
    "    parent = [-1] * vertices\n",
    "    time = 0\n",
    "    \n",
    "    for vertex in range(vertices):\n",
    "        if visited[vertex] == False:\n",
    "            bridge_check(graph, vertex, visited, disc, low, time)\n",
    "\n",
    "\n",
    "def bridge_check(graph, vertex, visited, disc, low, time):\n",
    "    visited[vertex] = True\n",
    "    disc[vertex], low[vertex] = time, time\n",
    "    time += 1\n",
    "    \n",
    "    for node in graph[vertex]:\n",
    "        if visited[node] == False:\n",
    "            parent[node] = vertex\n",
    "            bridge_check(graph, vertex, visited, disc, low, time)\n",
    "            low[vertex] = min(low[node], low[vertex])\n",
    "            \n",
    "        if low[node] > disc[vertex]:\n",
    "            print(vertex, node, end=\"\\n\")\n",
    "        \n",
    "    \n",
    "    \n",
    "vertices = 6\n",
    "edges = 6\n",
    "# ve_matrix = [0, 1, 0, 2, 0, 3, 2, 4]\n",
    "ve_matrix = [1, 2, 0, 2, 1, 3, 3, 4, 1, 4, 4, 5]\n",
    "g = Graph(vertices)\n",
    "\n",
    "for i in range(0, edges * 2, 2):\n",
    "    g.add_edge(ve_matrix[i], ve_matrix[i + 1], True)\n",
    "critical_connections(g, vertices)"
   ]
  }
 ],
 "metadata": {
  "kernelspec": {
   "display_name": "Python 3",
   "language": "python",
   "name": "python3"
  },
  "language_info": {
   "codemirror_mode": {
    "name": "ipython",
    "version": 3
   },
   "file_extension": ".py",
   "mimetype": "text/x-python",
   "name": "python",
   "nbconvert_exporter": "python",
   "pygments_lexer": "ipython3",
   "version": "3.7.3"
  }
 },
 "nbformat": 4,
 "nbformat_minor": 2
}
