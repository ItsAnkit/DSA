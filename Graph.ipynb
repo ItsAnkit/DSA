{
 "cells": [
  {
   "cell_type": "code",
   "execution_count": 4,
   "metadata": {},
   "outputs": [],
   "source": [
    "from collections import defaultdict\n",
    "import pdb\n",
    "import queue\n",
    "\n",
    "class Graph:\n",
    "    def __init__(self, vertices):\n",
    "        self.graph = defaultdict(list)\n",
    "        self.V = vertices\n",
    "        \n",
    "    def add_edge(self, u, v, undirected = False):\n",
    "        self.graph[u].append(v)\n",
    "        if undirected:\n",
    "            self.graph[v].append(u)\n",
    "        \n",
    "vertices = 5\n",
    "edges = 4\n",
    "ve_matrix = [0, 1, 0, 2, 0, 3, 2, 4]\n",
    "g = Graph(vertices)\n",
    "\n",
    "for i in range(0, edges * 2, 2):\n",
    "    g.add_edge(ve_matrix[i], ve_matrix[i + 1])\n",
    "    "
   ]
  },
  {
   "cell_type": "code",
   "execution_count": 9,
   "metadata": {},
   "outputs": [
    {
     "name": "stdout",
     "output_type": "stream",
     "text": [
      "0 1 2 3 4 "
     ]
    }
   ],
   "source": [
    "def bfs(graph, vertices):\n",
    "    q = queue.Queue()\n",
    "    q.put(0)\n",
    "    visited = [False] * vertices\n",
    "    visited[0] = True\n",
    "    \n",
    "    while q.qsize() > 0:\n",
    "        vertex = q.get()\n",
    "        print(vertex, end = \" \")\n",
    "          \n",
    "        for neighbor in graph[vertex]:\n",
    "            if visited[neighbor] == False:\n",
    "                q.put(neighbor)\n",
    "                visited[neighbor] = True\n",
    "                \n",
    "                \n",
    "bfs(g.graph, vertices)"
   ]
  },
  {
   "cell_type": "code",
   "execution_count": 10,
   "metadata": {},
   "outputs": [
    {
     "name": "stdout",
     "output_type": "stream",
     "text": [
      "0 1 2 4 3 "
     ]
    }
   ],
   "source": [
    "def dfs(graph, vertices):\n",
    "    visited = [False] * vertices\n",
    "    traverse(graph, visited, 0)\n",
    "    \n",
    "def traverse(graph, visited, node):\n",
    "    visited[node] = True\n",
    "    print(node, end = \" \")\n",
    "    \n",
    "    for vertex in graph[node]:\n",
    "        if visited[vertex] == False:\n",
    "            traverse(graph, visited, vertex)\n",
    "\n",
    "dfs(g.graph, vertices)    "
   ]
  },
  {
   "cell_type": "code",
   "execution_count": 12,
   "metadata": {},
   "outputs": [
    {
     "name": "stdout",
     "output_type": "stream",
     "text": [
      "False\n"
     ]
    }
   ],
   "source": [
    "def detect_cycle_undirected_graph(graph, vertices):\n",
    "    visited = [False] * vertices\n",
    "    root = 0\n",
    "    parent = -1\n",
    "    if dfs_traversal(graph, visited, root, parent, vertices):\n",
    "        return True\n",
    "    return False\n",
    "\n",
    "def dfs_traversal(graph, visited, node, parent, vertices):\n",
    "    visited[node] = True\n",
    "    if len(graph[node]) == 0:\n",
    "        node += 1\n",
    "        while (node not in graph.keys() and node <= vertices):\n",
    "            node += 1\n",
    "    \n",
    "    for vertex in graph[node]:\n",
    "        if visited[vertex] == True and parent in graph[vertex]:\n",
    "            return True\n",
    "        elif visited[vertex] == False:\n",
    "            return dfs_traversal(graph, visited, vertex, node, vertices)\n",
    "        \n",
    "edges = 4\n",
    "vertices = 5\n",
    "ve_matrix = [0, 1, 2, 3, 3, 4, 4, 2]\n",
    "\n",
    "# graph generation\n",
    "g = Graph(vertices)\n",
    "for i in range(0, edges * 2, 2):\n",
    "    g.add_edge(ve_matrix[i], ve_matrix[i + 1], True)\n",
    "\n",
    "print(detect_cycle_undirected_graph(g.graph, vertices))"
   ]
  },
  {
   "cell_type": "code",
   "execution_count": 34,
   "metadata": {},
   "outputs": [
    {
     "name": "stdout",
     "output_type": "stream",
     "text": [
      "0 []\n",
      "1 [0]\n",
      "3 [1, 0]\n",
      "2 [3, 1, 0]\n",
      "4 [2, 3, 1, 0]\n",
      "5 [4, 2, 3, 1, 0]\n",
      "[5, 4, 2, 3, 1, 0]\n"
     ]
    }
   ],
   "source": [
    "# def topological_sort(g, vertices):\n",
    "#     visited = [False] * vertices\n",
    "#     stack = []\n",
    "    \n",
    "#     for i in range(vertices):\n",
    "#         if visited[i] == False:\n",
    "#             dfs_traverse(g, visited, stack, i)    \n",
    "#     return stack\n",
    "\n",
    "# def dfs_traverse(graph, visited, stack, node):\n",
    "#     visited[node] = True   \n",
    "    \n",
    "#     for vertex in graph[node]:\n",
    "#         if visited[node] == False:\n",
    "#             dfs_traverse(graph, visited, stack, vertex)\n",
    "#     print(node, stack)\n",
    "#     stack.insert(0, node)\n",
    "\n",
    "def topological_sort(graph, n):\n",
    "    # Code here\n",
    "    visit = [False] * n\n",
    "    stack = []\n",
    "    for i in range(n):\n",
    "        if visit[i] == False:\n",
    "            topoSortUtil(i, visit, graph, stack)\n",
    "      \n",
    "    return stack\n",
    "    \n",
    "def topoSortUtil(i, visit, graph, stack):\n",
    "    visit[i] = True\n",
    "    \n",
    "    for node in graph[i]:\n",
    "        if visit[node] == False:\n",
    "            topoSortUtil(node, visit, graph, stack)\n",
    "    # insert at front as iteration for validating topoSort is from start instead of top of stack\n",
    "    print(i, stack)\n",
    "    stack.insert(0, i)\n",
    "            \n",
    "vertices = 6\n",
    "edges = 6\n",
    "ve_matrix = [5, 2, 5, 0, 4, 0, 4, 1, 2, 3, 3, 1]\n",
    "g = Graph(vertices)\n",
    "\n",
    "for i in range(0, edges * 2, 2):\n",
    "    g.add_edge(ve_matrix[i], ve_matrix[i + 1])\n",
    "    \n",
    "print(topological_sort(g.graph, vertices))    "
   ]
  },
  {
   "cell_type": "code",
   "execution_count": 40,
   "metadata": {},
   "outputs": [
    {
     "name": "stdout",
     "output_type": "stream",
     "text": [
      "True\n"
     ]
    }
   ],
   "source": [
    "def detect_cycle_in_directed_graph(graph, vertices):\n",
    "    visited = [False] * vertices\n",
    "    rec_stack = [False] * vertices\n",
    "\n",
    "    for i in range(vertices):\n",
    "        if not visited[i]:\n",
    "            if cycle_detector(graph, visited, rec_stack, i):\n",
    "                return True\n",
    "    return False\n",
    "        \n",
    "def cycle_detector(graph, visited, rec_stack, node):\n",
    "    visited[node] = True\n",
    "    rec_stack[node] = True\n",
    "    \n",
    "    for vertex in graph[node]:\n",
    "        if not visited[node]:\n",
    "            if cycle_detector(graph, visited, rec_stack, vertex):\n",
    "                return True\n",
    "        # node already traversed\n",
    "        elif rec_stack[node]:\n",
    "            return True\n",
    "                \n",
    "    rec_stack[node] = False\n",
    "    return False\n",
    "    \n",
    "    \n",
    "# vertices = 6\n",
    "# edges = 6\n",
    "# ve_matrix = [5, 2, 5, 0, 4, 0, 4, 1, 2, 3, 3, 1]\n",
    "\n",
    "vertices = 4\n",
    "edges = 3\n",
    "ve_matrix = [0, 1, 2, 3, 3, 2]\n",
    "g = Graph(vertices)\n",
    "\n",
    "for i in range(0, edges * 2, 2):\n",
    "    g.add_edge(ve_matrix[i], ve_matrix[i + 1])\n",
    "\n",
    "print(detect_cycle_in_directed_graph(g.graph, vertices))"
   ]
  },
  {
   "cell_type": "code",
   "execution_count": 47,
   "metadata": {},
   "outputs": [
    {
     "name": "stdout",
     "output_type": "stream",
     "text": [
      "2\n"
     ]
    }
   ],
   "source": [
    "def find_islands(matrix, r, c):\n",
    "    visited = [[False for i in range(c)] for j in range(r)]\n",
    "    count = 0\n",
    "    \n",
    "    for i in range(r):\n",
    "        for j in range(c):\n",
    "            if matrix[i][j] == 1 and visited[i][j] == False:\n",
    "                dfs_traverse(matrix, visited, i, j, r, c)\n",
    "                count += 1\n",
    "    return count\n",
    "\n",
    "def dfs_traverse(matrix, visited, i, j, totalr, totalc):\n",
    "    row_nbr = [-1, -1, -1, 0,0 ,1 , 1, 1]\n",
    "    col_nbr = [-1, 0, 1, -1, 1, -1, 0, 1]\n",
    "    visited[i][j] = True\n",
    "    \n",
    "    for k in range(8):\n",
    "        row = i + row_nbr[k]\n",
    "        col = j + col_nbr[k]\n",
    "        \n",
    "        if row >= 0 and row < totalr and col >= 0 and col < totalc and visited[row][col] == False and matrix[row][col] == 1:\n",
    "            dfs_traverse(matrix, visited, row, col, totalr, totalc)\n",
    "    \n",
    "    return -1\n",
    "\n",
    "matrix = [[1, 1, 0, 0], [1, 0, 1, 0], [0, 0, 0, 1], [1, 1, 0, 0]]\n",
    "\n",
    "print(find_islands(matrix, 4, 4))\n",
    "    "
   ]
  },
  {
   "cell_type": "markdown",
   "metadata": {},
   "source": [
    "### chck if graph is tree or not"
   ]
  },
  {
   "cell_type": "code",
   "execution_count": 3,
   "metadata": {},
   "outputs": [
    {
     "name": "stdout",
     "output_type": "stream",
     "text": [
      "True\n"
     ]
    }
   ],
   "source": [
    "def is_tree(graph, n):\n",
    "    visited = [False] * n\n",
    "    root = 0\n",
    "    parent = -1\n",
    "    \n",
    "    # check for cycles\n",
    "    if isCyclic(graph, visited, root, parent):\n",
    "        return False\n",
    "    \n",
    "    # check if every node is connected i.e., traversed\n",
    "    for i in range(n):\n",
    "        if visited[i] == False:\n",
    "            return False\n",
    "        \n",
    "    return True\n",
    "\n",
    "def isCyclic(graph, visited, vertex, parent):\n",
    "    visited[vertex] = True\n",
    "    \n",
    "    for node in graph[vertex]:\n",
    "        if visited[node] == False:\n",
    "            if isCyclic(graph, visited, node, vertex):\n",
    "                return True\n",
    "        elif node != parent: \n",
    "            return True\n",
    "    return False\n",
    "\n",
    "vertices = 5\n",
    "edges = 4\n",
    "ve_matrix = [1, 0, 0, 2, 0, 3, 3, 4]\n",
    "g = Graph(vertices)\n",
    "\n",
    "for i in range(0, edges * 2, 2):\n",
    "    g.add_edge(ve_matrix[i], ve_matrix[i + 1], True)\n",
    "    \n",
    "print(is_tree(g.graph, vertices))"
   ]
  },
  {
   "cell_type": "markdown",
   "metadata": {},
   "source": [
    "### Critical Connections"
   ]
  },
  {
   "cell_type": "code",
   "execution_count": 12,
   "metadata": {},
   "outputs": [
    {
     "name": "stderr",
     "output_type": "stream",
     "text": [
      "ERROR:root:Internal Python error in the inspect module.\n",
      "Below is the traceback from this internal error.\n",
      "\n"
     ]
    },
    {
     "name": "stdout",
     "output_type": "stream",
     "text": [
      "Traceback (most recent call last):\n",
      "  File \"/Users/flock/anaconda3/lib/python3.7/site-packages/IPython/core/interactiveshell.py\", line 3325, in run_code\n",
      "    exec(code_obj, self.user_global_ns, self.user_ns)\n",
      "  File \"<ipython-input-12-673a74ef761a>\", line 44, in <module>\n",
      "    critical_connections(g.graph, vertices)\n",
      "  File \"<ipython-input-12-673a74ef761a>\", line 14, in critical_connections\n",
      "    bridge_check(graph, vertex, visited, disc, low, parent, time)\n",
      "  File \"<ipython-input-12-673a74ef761a>\", line 25, in bridge_check\n",
      "    bridge_check(graph, vertex, visited, disc, low, parent, time)\n",
      "  File \"<ipython-input-12-673a74ef761a>\", line 25, in bridge_check\n",
      "    bridge_check(graph, vertex, visited, disc, low, parent, time)\n",
      "  File \"<ipython-input-12-673a74ef761a>\", line 25, in bridge_check\n",
      "    bridge_check(graph, vertex, visited, disc, low, parent, time)\n",
      "  [Previous line repeated 9956 more times]\n",
      "  File \"<ipython-input-12-673a74ef761a>\", line 23, in bridge_check\n",
      "    if visited[node] == False:\n",
      "RecursionError: maximum recursion depth exceeded in comparison\n",
      "\n",
      "During handling of the above exception, another exception occurred:\n",
      "\n",
      "Traceback (most recent call last):\n",
      "  File \"/Users/flock/anaconda3/lib/python3.7/site-packages/IPython/core/interactiveshell.py\", line 2039, in showtraceback\n",
      "    stb = value._render_traceback_()\n",
      "AttributeError: 'RecursionError' object has no attribute '_render_traceback_'\n",
      "\n",
      "During handling of the above exception, another exception occurred:\n",
      "\n",
      "Traceback (most recent call last):\n",
      "  File \"/Users/flock/anaconda3/lib/python3.7/site-packages/IPython/core/ultratb.py\", line 1101, in get_records\n",
      "    return _fixed_getinnerframes(etb, number_of_lines_of_context, tb_offset)\n",
      "  File \"/Users/flock/anaconda3/lib/python3.7/site-packages/IPython/core/ultratb.py\", line 319, in wrapped\n",
      "    return f(*args, **kwargs)\n",
      "  File \"/Users/flock/anaconda3/lib/python3.7/site-packages/IPython/core/ultratb.py\", line 353, in _fixed_getinnerframes\n",
      "    records = fix_frame_records_filenames(inspect.getinnerframes(etb, context))\n",
      "  File \"/Users/flock/anaconda3/lib/python3.7/inspect.py\", line 1502, in getinnerframes\n",
      "    frameinfo = (tb.tb_frame,) + getframeinfo(tb, context)\n",
      "  File \"/Users/flock/anaconda3/lib/python3.7/inspect.py\", line 1460, in getframeinfo\n",
      "    filename = getsourcefile(frame) or getfile(frame)\n",
      "  File \"/Users/flock/anaconda3/lib/python3.7/inspect.py\", line 696, in getsourcefile\n",
      "    if getattr(getmodule(object, filename), '__loader__', None) is not None:\n",
      "  File \"/Users/flock/anaconda3/lib/python3.7/inspect.py\", line 735, in getmodule\n",
      "    if f == _filesbymodname.get(modname, None):\n",
      "KeyboardInterrupt\n"
     ]
    },
    {
     "ename": "RecursionError",
     "evalue": "maximum recursion depth exceeded in comparison",
     "output_type": "error",
     "traceback": [
      "\u001b[0;31m---------------------------------------------------------------------------\u001b[0m"
     ]
    }
   ],
   "source": [
    "import sys\n",
    "\n",
    "sys.setrecursionlimit(10000)\n",
    "\n",
    "def critical_connections(graph, vertices):\n",
    "    visited = [False] * vertices\n",
    "    disc = [float(\"inf\")] * vertices # discovery time of vertex\n",
    "    low = [float(\"inf\")] * vertices # \n",
    "    parent = [-1] * vertices\n",
    "    time = 0\n",
    "    \n",
    "    for vertex in range(vertices):\n",
    "        if visited[vertex] == False:\n",
    "            bridge_check(graph, vertex, visited, disc, low, parent, time)\n",
    "\n",
    "\n",
    "def bridge_check(graph, vertex, visited, disc, low, parent, time):\n",
    "    visited[vertex] = True\n",
    "    disc[vertex], low[vertex] = time, time\n",
    "    time += 1\n",
    "    \n",
    "    for node in graph[vertex]:\n",
    "        if visited[node] == False:\n",
    "            parent[node] = vertex\n",
    "            bridge_check(graph, vertex, visited, disc, low, parent, time)\n",
    "            low[vertex] = min(low[node], low[vertex])\n",
    "            \n",
    "            if low[node] > disc[vertex]:\n",
    "                print(vertex, node, end=\"\\n\")\n",
    "                \n",
    "        elif node != parent[vertex]:\n",
    "            low[vertex] = min(low[vertex], disc[node])\n",
    "    \n",
    "    \n",
    "vertices = 6\n",
    "edges = 6\n",
    "# ve_matrix = [0, 1, 0, 2, 0, 3, 2, 4]\n",
    "ve_matrix = [1, 2, 0, 2, 1, 3, 3, 4, 1, 4, 4, 5]\n",
    "g = Graph(vertices)\n",
    "\n",
    "for i in range(0, edges * 2, 2):\n",
    "    g.add_edge(ve_matrix[i], ve_matrix[i + 1], True)\n",
    "\n",
    "critical_connections(g.graph, vertices)"
   ]
  },
  {
   "cell_type": "markdown",
   "metadata": {},
   "source": [
    "### strongly connectec components"
   ]
  },
  {
   "cell_type": "raw",
   "metadata": {},
   "source": [
    "# Node from which we start has highest finish time and hence, will be popped first from stack \n",
    "\n",
    "def dfs_filling(graph, visited, stack, vertex):\n",
    "    visited[vertex] = True\n",
    "    for node in graph[vertex]:\n",
    "        if visited[node] == False:\n",
    "            dfs_filling(graph, visited, stack, node)\n",
    "    stack.append(vertex)\n",
    "\n",
    "def strongly_connected_components(graph, vertices):\n",
    "    stack = []\n",
    "    visited = [False] * vertices\n",
    "    for vertex in range(vertices):\n",
    "        if visited[vertex] == False:\n",
    "            dfs_filling(graph, visited, stack, vertex) # fill stack with elements finished first\n",
    "    \n",
    "    transposed_graph = transpose(graph, vertices)\n",
    "    visited = [False] * vertices\n",
    "    count = 0\n",
    "    print(\"Stack\", stack)\n",
    "    while stack:\n",
    "        vertex = stack.pop()\n",
    "        if visited[vertex] == False:\n",
    "            dfs_traversal(transposed_graph, visited, vertex)\n",
    "            print()\n",
    "            count += 1\n",
    "    print(\"Count: \", count)\n",
    "    \n",
    "def dfs_traversal(graph, visited, vertex):\n",
    "    visited[vertex] =  True\n",
    "    print(vertex, end = \" \")\n",
    "    for node in graph[vertex]:\n",
    "        if visited[node] == False:\n",
    "            dfs_traversal(graph, visited, node)\n",
    "    \n",
    "        \n",
    "def transpose(graph, vertices):\n",
    "    transpose_graph = Graph(vertices)\n",
    "    for vertex in range(vertices):\n",
    "        for node in graph[vertex]:\n",
    "            transpose_graph.add_edge(node, vertex)\n",
    "            \n",
    "    return transpose_graph.graph\n",
    "      \n",
    "# vertices = 6\n",
    "# edges = 6\n",
    "# ve_matrix = [1, 2, 0, 2, 1, 3, 3, 4, 1, 4, 4, 5]\n",
    "\n",
    "vertices = 5\n",
    "edges = 5\n",
    "ve_matrix = [1, 0, 0, 2, 2, 1, 0, 3, 3, 4]\n",
    "\n",
    "g = Graph(vertices)\n",
    "for i in range(0, edges * 2, 2):\n",
    "    g.add_edge(ve_matrix[i], ve_matrix[i + 1])\n",
    "\n",
    "strongly_connected_components(g.graph, vertices)"
   ]
  },
  {
   "cell_type": "markdown",
   "metadata": {},
   "source": [
    "#### dijikstra (shortest path algo.)  ....  O(V^2)"
   ]
  },
  {
   "cell_type": "code",
   "execution_count": 1,
   "metadata": {},
   "outputs": [
    {
     "name": "stdout",
     "output_type": "stream",
     "text": [
      "[0, 4, 0, 0, 0, 0, 0, 8, 0]\n",
      "min 0\n",
      "asds [0, 4, inf, inf, inf, inf, inf, 8, inf]\n",
      "min 1\n",
      "asds [0, 4, 12, inf, inf, inf, inf, 8, inf]\n",
      "min 7\n",
      "asds [0, 4, 12, inf, inf, inf, 9, 8, 15]\n",
      "min 6\n",
      "asds [0, 4, 12, inf, inf, 11, 9, 8, 15]\n",
      "min 5\n",
      "asds [0, 4, 12, 25, 21, 11, 9, 8, 15]\n",
      "min 2\n",
      "asds [0, 4, 12, 19, 21, 11, 9, 8, 14]\n",
      "min 8\n",
      "asds [0, 4, 12, 19, 21, 11, 9, 8, 14]\n",
      "min 3\n",
      "asds [0, 4, 12, 19, 21, 11, 9, 8, 14]\n",
      "min 4\n",
      "asds [0, 4, 12, 19, 21, 11, 9, 8, 14]\n",
      "[0, 4, 12, 19, 21, 11, 9, 8, 14]\n"
     ]
    }
   ],
   "source": [
    "class Graph:\n",
    "    def __init__(self, vertices):\n",
    "        self.graph = [[0 for i in range(vertices)] for j in range(vertices) ]\n",
    "        self.vertices = vertices\n",
    "\n",
    "def dijikstra(graph, vertices, src):\n",
    "    dist = [float(\"inf\")] * vertices\n",
    "    dist[src] = 0\n",
    "    processed_set = [False] * vertices\n",
    "    \n",
    "    for vertex in range(vertices):\n",
    "        min_node = min_distance_node(vertices, dist, processed_set)\n",
    "        processed_set[min_node] = True\n",
    "        print(\"min\", min_node)\n",
    "        for node in range(vertices):\n",
    "            if graph[min_node][node] > 0 and processed_set[node] == False and dist[node] > dist[min_node] + graph[min_node][node]:\n",
    "                dist[node] = dist[min_node] + graph[min_node][node]\n",
    "        print(\"asds\", dist)\n",
    "    print(dist)\n",
    "    \n",
    "    \n",
    "def min_distance_node(vertices, dist, processed_set):  \n",
    "    min_dist = float(\"inf\")\n",
    "    for node in range(vertices):\n",
    "        if dist[node] < min_dist and processed_set[node] == False:\n",
    "            min_dist = dist[node]\n",
    "            min_node = node\n",
    "            \n",
    "    return min_node\n",
    "    \n",
    "    \n",
    "g = Graph(9)\n",
    "g.graph = [ [0, 4, 0, 0, 0, 0, 0, 8, 0], \n",
    "            [4, 0, 8, 0, 0, 0, 0, 11, 0], \n",
    "            [0, 8, 0, 7, 0, 4, 0, 0, 2], \n",
    "            [0, 0, 7, 0, 9, 14, 0, 0, 0], \n",
    "            [0, 0, 0, 9, 0, 10, 0, 0, 0], \n",
    "            [0, 0, 4, 14, 10, 0, 2, 0, 0], \n",
    "            [0, 0, 0, 0, 0, 2, 0, 1, 6], \n",
    "            [8, 11, 0, 0, 0, 0, 1, 0, 7], \n",
    "            [0, 0, 2, 0, 0, 0, 6, 7, 0] \n",
    "          ]\n",
    "\n",
    "print(g.graph[0])\n",
    "dijikstra(g.graph, g.vertices, 0)"
   ]
  },
  {
   "cell_type": "markdown",
   "metadata": {},
   "source": [
    "### shortest source to destination path"
   ]
  },
  {
   "cell_type": "code",
   "execution_count": 8,
   "metadata": {},
   "outputs": [
    {
     "name": "stdout",
     "output_type": "stream",
     "text": [
      "asd [[0, 0], 0] [0, 0]\n",
      "rwe -1 0\n",
      "rwe 0 -1\n",
      "rwe 0 1\n",
      "rwe 1 0\n",
      "asd [[1, 0], 1] [1, 0]\n",
      "rwe 0 0\n",
      "rwe 1 -1\n",
      "rwe 1 1\n",
      "rwe 2 0\n",
      "asd [[1, 1], 1] [1, 1]\n",
      "rwe 0 1\n",
      "rwe 1 0\n",
      "rwe 1 2\n",
      "rwe 2 1\n",
      "asd [[2, 1], 2] [2, 1]\n",
      "rwe 1 1\n",
      "rwe 2 0\n",
      "rwe 2 2\n",
      "rwe 3 1\n",
      "asd [[2, 2], 2] [2, 2]\n",
      "rwe 1 2\n",
      "rwe 2 1\n",
      "rwe 2 3\n",
      "rwe 3 2\n"
     ]
    },
    {
     "data": {
      "text/plain": [
       "3"
      ]
     },
     "execution_count": 8,
     "metadata": {},
     "output_type": "execute_result"
    }
   ],
   "source": [
    "#BFS works as it moves in all directions at same time and when destination is visited, that would be the shortest path.\n",
    "\n",
    "def shortest_source_destination_path(mat, rows, cols, src, dest):\n",
    "    visited = [[False for i in range(cols)] for j in range(rows)]\n",
    "    if mat[src[0]][src[1]] != 1 and mat[dest[0]][dest[1]] != 1:\n",
    "        return -1\n",
    "    \n",
    "    visited[src[0]][src[1]] = True\n",
    "    q = [[src, 0]]\n",
    "    row_nbrs = [-1, 0, 0, 1]\n",
    "    col_nbrs = [0, -1, 1, 0]\n",
    "    \n",
    "    while q:\n",
    "        current = q.pop(0)\n",
    "        point = current[0]\n",
    "        if point[0] == dest[0] and point[1] == dest[1]:\n",
    "            return current[1]\n",
    "        \n",
    "        for i in range(4):\n",
    "            r = point[0] + row_nbrs[i]\n",
    "            c = point[1] + col_nbrs[i]\n",
    "            \n",
    "            if r >= 0 and r < rows and c >= 0 and c < cols and mat[r][c] == 1 and visited[r][c] == False:\n",
    "                new_dist = point[1] + 1\n",
    "                visited[r][c] = True\n",
    "                q.append([[r, c], new_dist])\n",
    "    return -2         \n",
    "        \n",
    "    \n",
    "    \n",
    "rows = 3\n",
    "cols = 4\n",
    "src = [0, 0]\n",
    "dest = [rows-1, cols-1]\n",
    "mat = [[1, 0, 0, 0],\n",
    "       [1, 1, 0, 1], \n",
    "       [0, 1, 1, 1]]\n",
    "\n",
    "shortest_source_destination_path(mat, rows, cols, src, dest)"
   ]
  },
  {
   "cell_type": "markdown",
   "metadata": {},
   "source": [
    "### min swaps"
   ]
  },
  {
   "cell_type": "code",
   "execution_count": 3,
   "metadata": {},
   "outputs": [],
   "source": [
    "# function should return an integer denoting the minimum number of swap's\n",
    "def minSwaps(arr, n):\n",
    "    # Code here\n",
    "    count = 0\n",
    "\n",
    "    for i in range(n - 1):\n",
    "        min_val = i\n",
    "        for j in range(i+1, n):\n",
    "            if arr[j] < arr[min_val]:\n",
    "                min_val = j\n",
    "        if min_val != i:\n",
    "            temp = arr[min_val]\n",
    "            arr[min_val] = arr[i]\n",
    "            arr[i] = temp\n",
    "            count += 1\n",
    "    return count"
   ]
  },
  {
   "cell_type": "markdown",
   "metadata": {},
   "source": [
    "### path exists from source to dest\n",
    "    A value of cell 1 means Source.\n",
    "    A value of cell 2 means Destination.\n",
    "    A value of cell 3 means Blank cell.\n",
    "    A value of cell 0 means Blank Wall."
   ]
  },
  {
   "cell_type": "code",
   "execution_count": 5,
   "metadata": {},
   "outputs": [],
   "source": [
    "def path_exist(mat, dim):\n",
    "    for i in range(dim):\n",
    "        for j in range(dim):\n",
    "            if mat[i][j] == 1:\n",
    "                visited = [[False for m in range(dim)] for n in range(dim)]\n",
    "                if traverse(visited, mat, dim, i, j):\n",
    "                    return 1\n",
    "                else:\n",
    "                    return 0\n",
    "    return 0\n",
    "    \n",
    "\n",
    "def traverse(visited, mat, dim, i, j):\n",
    "    visited[i][j] = True\n",
    "    row_nbrs = [-1, 0, 0, 1]\n",
    "    col_nbrs = [0, -1, 1, 0]\n",
    "    for k in range(4):\n",
    "        r = row_nbrs[k] + i\n",
    "        c = col_nbrs[k] + j\n",
    "        if r >= 0 and r < dim and c >= 0 and c < dim and visited[r][c] == False:\n",
    "            if mat[r][c] == 2:\n",
    "                return True\n",
    "            elif mat[r][c] == 3:\n",
    "                if traverse(visited, mat, dim, r, c):\n",
    "                    return True\n",
    "    return False"
   ]
  },
  {
   "cell_type": "markdown",
   "metadata": {},
   "source": [
    "### min cost path"
   ]
  },
  {
   "cell_type": "code",
   "execution_count": 7,
   "metadata": {},
   "outputs": [
    {
     "data": {
      "text/plain": [
       "974"
      ]
     },
     "execution_count": 7,
     "metadata": {},
     "output_type": "execute_result"
    }
   ],
   "source": [
    "def min_cost_path(mat, n):\n",
    "    if n == 1:\n",
    "        return mat[0][0]\n",
    "    visited = [[False for i in range(n)] for j in range(n)]\n",
    "    cost = [0]\n",
    "    traverse(visited, mat, cost, 0, 0, n)\n",
    "    return cost[0]\n",
    "   \n",
    "\n",
    "def traverse(visited, mat, cost, i, j, n):\n",
    "    visited[i][j] = True\n",
    "    cost[0] += mat[i][j]\n",
    "    if i >= n-1 and j >= n-1:\n",
    "        return True\n",
    "    row_nbrs = [-1, 0, 0, 1]\n",
    "    col_nbrs = [0, -1, 1, 0]\n",
    "    current_min = float(\"inf\")\n",
    "    min_row, min_col = -float(\"inf\"), -float(\"inf\")\n",
    "    \n",
    "    for k in range(4):\n",
    "        r = row_nbrs[k] + i\n",
    "        c = col_nbrs[k] + j\n",
    "        if r == n-1 and c== n-1 and visited[r][c] == False:\n",
    "            if traverse(visited, mat, cost, r, c, n):\n",
    "                return True\n",
    "        elif r >= 0 and r < n and c >= 0 and c < n and visited[r][c] == False and mat[r][c] < current_min:\n",
    "            current_min = mat[r][c]\n",
    "            min_row = r\n",
    "            min_col = c\n",
    "    if min_row != -float(\"inf\") and min_col != -float(\"inf\"):\n",
    "        if traverse(visited, mat, cost, min_row, min_col, n):\n",
    "            return True\n",
    "    return False\n",
    "    \n",
    "    \n",
    "    \n",
    "mat  = [[31, 100, 65, 12, 18],\n",
    "        [10, 13, 47, 157, 6],\n",
    "        [100, 113, 174, 11, 33],\n",
    "        [88, 124, 41, 20, 140],\n",
    "        [99, 32, 111, 41, 20]]\n",
    "n = 5\n",
    "min_cost_path(mat, n)"
   ]
  },
  {
   "cell_type": "code",
   "execution_count": 11,
   "metadata": {},
   "outputs": [
    {
     "name": "stdout",
     "output_type": "stream",
     "text": [
      "[(0, 1), (1, 5), (2, 3), (3, 4), (4, 2)]\n",
      "[(0, 1), (4, 2), (2, 3), (3, 4), (1, 5)]\n",
      "{0: False, 1: False, 2: False, 3: False, 4: False}\n"
     ]
    },
    {
     "data": {
      "text/plain": [
       "4"
      ]
     },
     "execution_count": 11,
     "metadata": {},
     "output_type": "execute_result"
    }
   ],
   "source": [
    "arr = [1, 5, 3, 4, 2]\n",
    "n = 5\n",
    "mat = [*enumerate(arr)] \n",
    "print(mat)\n",
    "mat.sort(key = lambda x: x[1])\n",
    "print(mat)\n",
    "visited = { key:False for key in range(n) }\n",
    "print(visited)\n",
    "mat[1][0]"
   ]
  },
  {
   "cell_type": "code",
   "execution_count": null,
   "metadata": {},
   "outputs": [],
   "source": []
  }
 ],
 "metadata": {
  "kernelspec": {
   "display_name": "Python 3",
   "language": "python",
   "name": "python3"
  },
  "language_info": {
   "codemirror_mode": {
    "name": "ipython",
    "version": 3
   },
   "file_extension": ".py",
   "mimetype": "text/x-python",
   "name": "python",
   "nbconvert_exporter": "python",
   "pygments_lexer": "ipython3",
   "version": "3.7.3"
  }
 },
 "nbformat": 4,
 "nbformat_minor": 2
}
