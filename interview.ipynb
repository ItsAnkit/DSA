{
 "cells": [
  {
   "cell_type": "markdown",
   "metadata": {},
   "source": [
    "### Company-wise"
   ]
  },
  {
   "cell_type": "code",
   "execution_count": 31,
   "metadata": {},
   "outputs": [
    {
     "name": "stdout",
     "output_type": "stream",
     "text": [
      "[3, 2, 1, 4, 7, 5, 6, 8, 9]\n"
     ]
    }
   ],
   "source": [
    "## minimum possible sum by increasing duplicate numbers such that elements are unique\n",
    "import sys\n",
    "\n",
    "def min_sum_uniq_ele(arr):\n",
    "    size = len(arr)\n",
    "    hash = {}\n",
    "    dup = []\n",
    "    size = len(arr)\n",
    "    \n",
    "    min_val = sys.maxsize\n",
    "    max_val = -sys.maxsize\n",
    "    \n",
    "    for i in range(size):\n",
    "        if arr[i] not in hash:\n",
    "            hash[arr[i]] = i\n",
    "            min_val = min(min_val, arr[i])\n",
    "            max_val = max(max_val, arr[i])\n",
    "        else:\n",
    "            dup.append(i)\n",
    "    \n",
    "    if len(dup) == 0:\n",
    "        return arr\n",
    "    \n",
    "    val = min_val + 1\n",
    "    while val < max_val:\n",
    "        if val not in hash:\n",
    "            dup_ind = dup.pop(0)\n",
    "            arr[dup_ind] = val\n",
    "            hash[val] = dup_ind\n",
    "        if len(dup) == 0:\n",
    "            return arr\n",
    "        val += 1\n",
    "     \n",
    "    while len(dup) != 0:\n",
    "        dup_ind = dup.pop(0)\n",
    "        arr[dup_ind] = max_val + 1\n",
    "        max_val += 1\n",
    "    return arr\n",
    "    \n",
    "    \n",
    "arr = [3, 2, 1, 2, 7 , 2, 3, 2, 2]\n",
    "print(min_sum_uniq_ele(arr))"
   ]
  },
  {
   "cell_type": "markdown",
   "metadata": {},
   "source": [
    "### total increments to make an array equal to another array"
   ]
  },
  {
   "cell_type": "code",
   "execution_count": null,
   "metadata": {},
   "outputs": [],
   "source": []
  },
  {
   "cell_type": "markdown",
   "metadata": {},
   "source": [
    "### unique solutions to a^3 + b^3 = c^3 + d^3"
   ]
  },
  {
   "cell_type": "code",
   "execution_count": 51,
   "metadata": {},
   "outputs": [
    {
     "name": "stdout",
     "output_type": "stream",
     "text": [
      "[1, 12, 9, 10]\n",
      "[2, 16, 9, 15]\n",
      "[2, 34, 15, 33]\n",
      "[9, 34, 16, 33]\n",
      "[2, 24, 18, 20]\n",
      "[4, 32, 18, 30]\n",
      "[10, 27, 19, 24]\n",
      "[17, 39, 26, 36]\n",
      "[3, 36, 27, 30]\n",
      "[6, 48, 27, 45]\n",
      "[12, 40, 31, 33]\n",
      "[4, 48, 36, 40]\n"
     ]
    }
   ],
   "source": [
    "def uniq_solns(n):\n",
    "    hash = {}\n",
    "    res = []\n",
    "    for i in range(1, n):\n",
    "        for j in range(i+1, n + 1):\n",
    "            a = pow(i, 3)\n",
    "            b = pow(j, 3)\n",
    "            if (a + b) not in hash:\n",
    "                hash[a + b] = [i, j]\n",
    "            else:\n",
    "                stored_ind = hash[a+b]\n",
    "                if not(stored_ind == [i, j] or stored_ind == [j, i]):\n",
    "                    res.append(hash[a+b] + [i, j])\n",
    "                    \n",
    "    for arr in res:\n",
    "        print(arr, end = \"\\n\")\n",
    "        \n",
    "\n",
    "uniq_solns(50)  "
   ]
  },
  {
   "cell_type": "markdown",
   "metadata": {},
   "source": [
    "### max of all subarrays of size k"
   ]
  },
  {
   "cell_type": "code",
   "execution_count": 63,
   "metadata": {},
   "outputs": [
    {
     "name": "stdout",
     "output_type": "stream",
     "text": [
      "3\n",
      "3\n",
      "3\n",
      "5\n",
      "5\n",
      "5\n",
      "6 "
     ]
    }
   ],
   "source": [
    "def max_subarrays_size_k(arr, k):\n",
    "    n = len(arr)\n",
    "    queue = []\n",
    "    for i in range(k):\n",
    "        if queue and arr[queue[0]] < arr[i]:\n",
    "            queue.pop()\n",
    "        queue.append(i)\n",
    "\n",
    "    for i in range(k, n):\n",
    "        print(arr[queue[0]], end = \"\\n\")    \n",
    "        if queue and (i-k) >= queue[0]:\n",
    "            queue.pop(0)\n",
    "    \n",
    "        if queue and arr[queue[-1]] < arr[i]:\n",
    "            queue.pop()\n",
    "        queue.append(i)\n",
    "    print(arr[queue[0]], end = \" \")\n",
    "\n",
    "arr = [1, 2, 3, 1, 4, 5, 2, 3, 6]\n",
    "k = 3\n",
    "max_subarrays_size_k(arr, k)"
   ]
  },
  {
   "cell_type": "markdown",
   "metadata": {},
   "source": [
    "### product of GCD of all 2^n subsets of arr\n",
    "https://www.codechef.com/ACMAMR15/problems/AMR15B"
   ]
  },
  {
   "cell_type": "code",
   "execution_count": 64,
   "metadata": {},
   "outputs": [
    {
     "ename": "SyntaxError",
     "evalue": "invalid syntax (<ipython-input-64-b7a48dac57d5>, line 4)",
     "output_type": "error",
     "traceback": [
      "\u001b[0;36m  File \u001b[0;32m\"<ipython-input-64-b7a48dac57d5>\"\u001b[0;36m, line \u001b[0;32m4\u001b[0m\n\u001b[0;31m    arr =\u001b[0m\n\u001b[0m         ^\u001b[0m\n\u001b[0;31mSyntaxError\u001b[0m\u001b[0;31m:\u001b[0m invalid syntax\n"
     ]
    }
   ],
   "source": [
    "def gcd_product_of_subsets(arr):\n",
    "    mod = 1000000007\n",
    "    if len(arr) == 0:\n",
    "        return 1\n",
    "    prod = 1\n",
    "    \n",
    "    for i in range(arr):\n",
    "        prod *= arr[i]\n",
    "        \n",
    "    for i \n",
    "\n",
    "arr =\n",
    "print(gcd_product_of_subsets(arr))"
   ]
  },
  {
   "cell_type": "code",
   "execution_count": 78,
   "metadata": {},
   "outputs": [
    {
     "name": "stdout",
     "output_type": "stream",
     "text": [
      "6\n"
     ]
    }
   ],
   "source": [
    "# gcd(a, b, c) = gcd(a, gcd(b, c)) \n",
    "#              = gcd(gcd(a, b), c) \n",
    "#              = gcd(gcd(a, c), b)\n",
    "\n",
    "def gcd(x, y):\n",
    "    if y == 0:\n",
    "        return x\n",
    "    return gcd(y, x%y)\n",
    "\n",
    "print(gcd(12, 30))\n",
    "\n",
    "def find_gcd(x, y): \n",
    "      \n",
    "    while(y): \n",
    "        x, y = y, x % y \n",
    "      \n",
    "    return x "
   ]
  },
  {
   "cell_type": "markdown",
   "metadata": {},
   "source": [
    "### sum of subarray minimum"
   ]
  },
  {
   "cell_type": "code",
   "execution_count": 104,
   "metadata": {},
   "outputs": [
    {
     "name": "stdout",
     "output_type": "stream",
     "text": [
      "18\n"
     ]
    }
   ],
   "source": [
    "import itertools\n",
    "import sys\n",
    "\n",
    "def subarray_min_sum(arr):\n",
    "    n = len(arr)\n",
    "    lim = 1 << n # it equals to 2^n\n",
    "    sum = 0\n",
    "    for i in range(lim):\n",
    "        subarray = []\n",
    "        for j in range(n):\n",
    "            jth_bit = 1 << j\n",
    "            if i & jth_bit > 0: # for number 3, i is 011 and so two positions will have & operation greater than 0.\n",
    "                subarray.append(arr[j])\n",
    "        if len(subarray) > 0:\n",
    "#             print(subarray, min(subarray))\n",
    "            sum += min(subarray)\n",
    "    print(sum)\n",
    "\n",
    "arr = [2,3,4]\n",
    "subarray_min_sum(arr)"
   ]
  },
  {
   "cell_type": "markdown",
   "metadata": {},
   "source": [
    "## Amazon"
   ]
  },
  {
   "cell_type": "markdown",
   "metadata": {},
   "source": [
    "### zombie in a matrix"
   ]
  },
  {
   "cell_type": "code",
   "execution_count": 108,
   "metadata": {},
   "outputs": [
    {
     "name": "stdout",
     "output_type": "stream",
     "text": [
      "2\n"
     ]
    }
   ],
   "source": [
    "def zombie_in_matrix(mat, rows, cols):\n",
    "    zombies = []\n",
    "    for i in range(rows):\n",
    "        for j in range(cols):\n",
    "            if mat[i][j] == 1:\n",
    "                zombies.append([i, j])\n",
    "    \n",
    "    directions = [[-1, 0], [0, -1], [0, 1], [1, 0]]\n",
    "    min_time = 0\n",
    "    while True:\n",
    "        converted = []\n",
    "        for i, j in zombies:\n",
    "            for k in range(4):\n",
    "                r = i + directions[k][0]\n",
    "                c = j + directions[k][1]\n",
    "                if r >= 0 and r < rows and c >= 0 and c < cols and mat[r][c] == 0:\n",
    "                    mat[r][c] = 1\n",
    "                    converted.append([r, c])\n",
    "        zombies = converted\n",
    "        if len(zombies) == 0:\n",
    "            break\n",
    "        min_time += 1\n",
    "        \n",
    "    return min_time\n",
    "\n",
    "mat = [[0, 1, 1, 0, 1],\n",
    "       [0, 1, 0, 1, 0],\n",
    "       [0, 0, 0, 0, 1],\n",
    "       [0, 1, 0, 0, 0]]        \n",
    "print(zombie_in_matrix(mat, 4, 5))"
   ]
  },
  {
   "cell_type": "markdown",
   "metadata": {},
   "source": [
    "### Top K Frequently Mentioned Keywords"
   ]
  },
  {
   "cell_type": "code",
   "execution_count": 123,
   "metadata": {},
   "outputs": [
    {
     "data": {
      "text/plain": [
       "['betacellular', 'anacell']"
      ]
     },
     "execution_count": 123,
     "metadata": {},
     "output_type": "execute_result"
    }
   ],
   "source": [
    "import string\n",
    "\n",
    "def remove_punctuation(str):\n",
    "    for char in str:\n",
    "        if char in string.punctuation:\n",
    "            str = str.replace(char, \"\")\n",
    "    return str.lower()\n",
    "    \n",
    "def k_frequently_mentioned_keywords(reviews, keywords, k):\n",
    "    hash = {}\n",
    "    for i in range(len(keywords)):\n",
    "        keyword = keywords[i].lower()\n",
    "        keywords[i] = keyword\n",
    "        hash[keyword] = 0\n",
    "    \n",
    "    for review in reviews:\n",
    "        s = set()\n",
    "        words = review.split(\" \")\n",
    "        for word in words:\n",
    "            word = remove_punctuation(word)\n",
    "            if word in keywords and word not in s:\n",
    "                hash[word] += 1\n",
    "                s.add(word)\n",
    "    hash = {k:v for k, v in sorted(hash.items(), key=lambda item: item[1], reverse=True)} # reverse: True for desc order\n",
    "    keys = list(hash.keys())\n",
    "    return keys[:k]\n",
    "\n",
    "k = 2\n",
    "keywords = [\"anacell\", \"betacellular\", \"cetracular\", \"deltacellular\", \"eurocell\"]\n",
    "reviews = [\n",
    "  \"I love anacell Best services; Best services provided by anacell\",\n",
    "  \"betacellular has great services\",\n",
    "  \"deltacellular provides much better services than betacellular\",\n",
    "  \"cetracular is worse than anacell\",\n",
    "  \"Betacellular is better than deltacellular.\",\n",
    "] \n",
    "k_frequently_mentioned_keywords(reviews, keywords, k)"
   ]
  },
  {
   "cell_type": "markdown",
   "metadata": {},
   "source": [
    "### critical routers (articuation point in undirected connected graph)"
   ]
  },
  {
   "cell_type": "code",
   "execution_count": 127,
   "metadata": {},
   "outputs": [
    {
     "data": {
      "text/plain": [
       "'a'"
      ]
     },
     "execution_count": 127,
     "metadata": {},
     "output_type": "execute_result"
    }
   ],
   "source": [
    "# def critical_routers(mat, nodes, edges):\n",
    "    \n",
    "s = \"asd\"\n",
    "s[:1]"
   ]
  },
  {
   "cell_type": "markdown",
   "metadata": {},
   "source": [
    "### search suggestion system"
   ]
  },
  {
   "cell_type": "code",
   "execution_count": 154,
   "metadata": {},
   "outputs": [
    {
     "name": "stdout",
     "output_type": "stream",
     "text": [
      "m :  ['mobile', 'monitor', 'moneypot']\n",
      "mo :  ['mobile', 'monitor', 'moneypot']\n",
      "mou :  ['mouse', 'mousapad']\n",
      "mous :  ['mouse', 'mousapad']\n",
      "mouse :  ['mouse']\n"
     ]
    }
   ],
   "source": [
    "class TrieNode:\n",
    "    def __init__(self):\n",
    "        self.children = [None] * 26\n",
    "        self.suggestion = set()\n",
    "        \n",
    "def insert(root, string):\n",
    "    node = root\n",
    "    for c in string:\n",
    "        i = ord(c.lower()) - 97\n",
    "        if node.children[i] is None:\n",
    "            node.children[i] = TrieNode()\n",
    "        node = node.children[i]\n",
    "        if len(node.suggestion) < 3:\n",
    "            node.suggestion.add(string)\n",
    "    \n",
    "def search(root, search_str):\n",
    "    node = root\n",
    "    for c in search_str:\n",
    "        i = ord(c.lower()) - 97\n",
    "        node = node.children[i]\n",
    "    return list(node.suggestion)\n",
    "    \n",
    "def search_suggestion_system(string, products):\n",
    "    root = TrieNode()\n",
    "    products.sort()\n",
    "    for product in products:\n",
    "        insert(root, product)\n",
    "    \n",
    "    for i in range(len(string)):\n",
    "        search_str = string[:(i+1)]\n",
    "        res = search(root, search_str)\n",
    "        print(search_str, \": \", res, end=\"\\n\")\n",
    "        \n",
    "products = [\"mobile\",\"mouse\",\"moneypot\",\"monitor\",\"mousapad\"]\n",
    "searchWord = \"mouse\"\n",
    "search_suggestion_system(searchWord, products)"
   ]
  },
  {
   "cell_type": "markdown",
   "metadata": {},
   "source": [
    "### reorder data on log file"
   ]
  },
  {
   "cell_type": "code",
   "execution_count": 179,
   "metadata": {},
   "outputs": [
    {
     "name": "stdout",
     "output_type": "stream",
     "text": [
      "['let1 art can', 'let3 art zero', 'let2 own kit dig', 'let4 own kit dig', 'dig1 8 1 5 1', 'dig2 3 6']\n"
     ]
    }
   ],
   "source": [
    "def reorder_log_file(logs):\n",
    "    digit_logs = []\n",
    "    letter_logs = []\n",
    "    for log in logs:\n",
    "        arr = log.split(\" \")\n",
    "        if arr[1].isdigit():\n",
    "            digit_logs.append(log)\n",
    "        else:\n",
    "            letter_logs.append(log)\n",
    "    letter_logs = sorted(letter_logs, key=lambda x: x.split(\" \")[:1]) # sort using identifier for same letter logs\n",
    "    letter_logs = sorted(letter_logs, key=lambda x: x.split(\" \")[1:])              \n",
    "    \n",
    "    return letter_logs + digit_logs\n",
    "    \n",
    "logs = [\"dig1 8 1 5 1\",\"let1 art can\",\"dig2 3 6\",\"let4 own kit dig\", \"let2 own kit dig\",\"let3 art zero\"]\n",
    "print(reorder_log_file(logs))"
   ]
  },
  {
   "cell_type": "markdown",
   "metadata": {},
   "source": [
    "### number of islands"
   ]
  },
  {
   "cell_type": "code",
   "execution_count": 1,
   "metadata": {},
   "outputs": [
    {
     "name": "stdout",
     "output_type": "stream",
     "text": [
      "2\n"
     ]
    }
   ],
   "source": [
    "def number_of_islands(mat, rows, cols):\n",
    "    visited = [[False for i in range(cols)] for j in range(rows)]\n",
    "    islands = 0\n",
    "    for i in range(rows):\n",
    "        for j in range(cols):\n",
    "            if mat[i][j] == 1 and visited[i][j] == False:\n",
    "                dfs(mat, rows, cols, visited, i, j)\n",
    "                islands += 1\n",
    "    return islands\n",
    "\n",
    "def dfs(mat, rows, cols, visited, i, j):\n",
    "    visited[i][j] = True\n",
    "    directions = [[-1, 0], [0, -1], [0, 1], [1, 0]]\n",
    "    for r, c in directions:\n",
    "        r += i\n",
    "        c += j\n",
    "        if r >= 0 and r < rows and c >= 0 and c < cols and mat[r][c] == 1 and visited[r][c] == False:\n",
    "            dfs(mat, rows, cols, visited, r, c)\n",
    "    return\n",
    "    \n",
    "    \n",
    "mat = [[1, 1, 1, 1, 0],\n",
    "       [1, 1, 0, 1, 0],\n",
    "       [0, 0, 0, 0, 0],\n",
    "       [1, 0, 0, 0, 0]]\n",
    "rows = 4\n",
    "cols = 5\n",
    "print(number_of_islands(mat, rows, cols))"
   ]
  },
  {
   "cell_type": "markdown",
   "metadata": {},
   "source": [
    "### partition labels"
   ]
  },
  {
   "cell_type": "code",
   "execution_count": 24,
   "metadata": {},
   "outputs": [
    {
     "name": "stdout",
     "output_type": "stream",
     "text": [
      "ababcbaca\n",
      "defegde\n",
      "hijhklij\n"
     ]
    }
   ],
   "source": [
    "def partition_labels(str):\n",
    "    freq = [0] * 26\n",
    "    for c in str:\n",
    "        freq[ord(c) - ord('a')] += 1\n",
    "    s = set()\n",
    "    res = []\n",
    "    part = []\n",
    "    for c in str:\n",
    "        ind = ord(c) - ord('a')\n",
    "        freq[ind] -= 1\n",
    "        part.append(c)\n",
    "#         print(ind, c, freq[ind], s, end= \"\\n\")\n",
    "        if freq[ind] == 0 and c in s:\n",
    "            s.remove(c)\n",
    "        elif freq[ind] > 0 and c not in s:\n",
    "            s.add(c)\n",
    "        if len(s) == 0:\n",
    "            res.append(part)\n",
    "            part = []\n",
    "    for r in res:\n",
    "        print(\"\".join(r), end = \"\\n\")\n",
    "    \n",
    "str = \"ababcbacadefegdehijhklij\"\n",
    "partition_labels(str)"
   ]
  },
  {
   "cell_type": "markdown",
   "metadata": {},
   "source": [
    "### pair with given sum"
   ]
  },
  {
   "cell_type": "code",
   "execution_count": 35,
   "metadata": {},
   "outputs": [
    {
     "name": "stdout",
     "output_type": "stream",
     "text": [
      "0 2\n",
      "1 5\n",
      "1 5\n"
     ]
    }
   ],
   "source": [
    "## sum to target - 30\n",
    "## answer indexes with largest number\n",
    "\n",
    "def pair_with_given_sum(arr, target):\n",
    "    h = {}\n",
    "    n = len(arr)\n",
    "    low, high = 0, 0\n",
    "    for i in range(n):\n",
    "        h[arr[i]] = i\n",
    "\n",
    "    for i in range(n):\n",
    "        val = target - 30 - arr[i]\n",
    "        if val in h:\n",
    "            if h[val] > high:\n",
    "#                 print(i, h[val])\n",
    "                low = i\n",
    "                high = h[val]\n",
    "    print(low, high)\n",
    "    return\n",
    "                \n",
    "# arr = [1, 10, 25, 35, 60]\n",
    "arr = [20, 50, 40, 25, 30, 10]\n",
    "target = 90\n",
    "pair_with_given_sum(arr, target)"
   ]
  },
  {
   "cell_type": "code",
   "execution_count": 61,
   "metadata": {},
   "outputs": [
    {
     "name": "stdout",
     "output_type": "stream",
     "text": [
      "orig 7\n",
      "orig 13 7\n",
      "orig 11 1\n",
      "orig 10 11\n",
      "orig 1 7\n",
      "eqweq 7 13\n",
      "copy 7\n",
      "copy 13 7\n",
      "copy 11 1\n",
      "copy 10 11\n",
      "copy 1 7\n"
     ]
    }
   ],
   "source": [
    "class Node:\n",
    "    def __init__(self, data, n=None, rp=None):\n",
    "        self.data = data\n",
    "        self.next = n\n",
    "        self.randomPtr = rp\n",
    "        \n",
    "def copy_ll(head):\n",
    "    node = head\n",
    "    # insert copy node\n",
    "    while node is not None:\n",
    "        copy = Node(node.data)\n",
    "        orig_next_node = node.next\n",
    "        node.next = copy\n",
    "        copy.next = orig_next_node\n",
    "        node = orig_next_node\n",
    "    node = head\n",
    "    #copy randomPtr\n",
    "    while node is not None:\n",
    "        if node.randomPtr is not None:\n",
    "            node.next.randomPtr = node.randomPtr.next\n",
    "        else:\n",
    "            node.next.randomPtr = None\n",
    "        node = node.next.next\n",
    "    print(\"eqweq\", head.next.data, head.next.next.next.data)\n",
    "    node = head\n",
    "    copy_head = head.next\n",
    "    copy_node = copy_head\n",
    "    # separate orig and copy head\n",
    "    while node is not None:\n",
    "        node.next = node.next.next\n",
    "        copy_node.next = copy_node.next.next if copy_node.next is not None else None\n",
    "        node = node.next\n",
    "        copy_node = copy_node.next\n",
    "    return copy_head\n",
    "\n",
    "def set_ll(arr):\n",
    "    head = None\n",
    "    for ele in arr:\n",
    "        if head is None:\n",
    "            head = Node(ele[0])\n",
    "            node = head\n",
    "        else:\n",
    "            node.next = Node(ele[0])\n",
    "            node = node.next\n",
    "    node.next = None\n",
    "    node = head\n",
    "    for ele in arr:\n",
    "        if ele[1] == None:\n",
    "            node.randomPtr = None\n",
    "        else:\n",
    "            head_c = head\n",
    "            for i in range(ele[1]):\n",
    "                head_c = head_c.next\n",
    "            node.randomPtr = head_c\n",
    "        node = node.next\n",
    "\n",
    "    return head\n",
    "\n",
    "def display(head, typ):\n",
    "    while head is not None:\n",
    "        if head.randomPtr is None:\n",
    "            print(typ, head.data)\n",
    "        else:\n",
    "            print(typ, head.data, head.randomPtr.data)\n",
    "        head = head.next\n",
    "            \n",
    "            \n",
    "arr = [[7, None],[13,0],[11,4],[10,2],[1,0]]\n",
    "head = set_ll(arr)\n",
    "display(head, \"orig\")\n",
    "copy_head = copy_ll(head)\n",
    "display(copy_head, \"copy\")"
   ]
  },
  {
   "cell_type": "code",
   "execution_count": 1,
   "metadata": {},
   "outputs": [
    {
     "name": "stdout",
     "output_type": "stream",
     "text": [
      "row 0\n",
      "row 1\n",
      "row 2\n",
      "row 3\n",
      "row 4\n"
     ]
    },
    {
     "data": {
      "text/plain": [
       "False"
      ]
     },
     "execution_count": 1,
     "metadata": {},
     "output_type": "execute_result"
    }
   ],
   "source": [
    "## search in a matrix sorted row as well as column wise\n",
    "\n",
    "def search_sort_matrix(mat, rows, cols, val):\n",
    "    r = 0\n",
    "    c = cols - 1\n",
    "    while r < rows and c >= 0:\n",
    "        start = mat[r][c]\n",
    "        if start < val:\n",
    "            print(\"row\", r)\n",
    "            r += 1\n",
    "        elif start > val:\n",
    "            print(\"col\", c)\n",
    "            c -= 1\n",
    "        else:\n",
    "            print(mat[r][c])\n",
    "            return True\n",
    "    return False\n",
    "    \n",
    "    \n",
    "mat = [[1,   4,  7, 11, 15],\n",
    "       [2,   5,  8, 12, 19],\n",
    "       [3,   6,  9, 16, 22],\n",
    "       [10, 13, 14, 17, 24],\n",
    "       [18, 21, 23, 26, 30]]\n",
    "val = 227\n",
    "rows = 5\n",
    "cols = 5\n",
    "search_sort_matrix(mat, rows, cols, val)"
   ]
  },
  {
   "cell_type": "markdown",
   "metadata": {},
   "source": [
    "### max min path"
   ]
  },
  {
   "cell_type": "code",
   "execution_count": 50,
   "metadata": {},
   "outputs": [
    {
     "name": "stdout",
     "output_type": "stream",
     "text": [
      "5\n"
     ]
    }
   ],
   "source": [
    "def calc_max_min_path(matrix):\n",
    "    if len(matrix) == 0 or len(matrix[0]) == 0 or (len(matrix) == 1 and len(matrix[0]) <= 1):\n",
    "        return 0\n",
    "    rows = len(matrix)\n",
    "    cols = len(matrix[0])\n",
    "    dp_mat= [[0 for i in range(cols)] for j in range(rows)]\n",
    "    \n",
    "    for i in range(rows):\n",
    "        for j in range(cols):\n",
    "            if ((i == 0 and j == 0) or (i == 0 and j == 1) or (j == 0 and i == 1)):\n",
    "                dp_mat[i][j] = matrix[i][j]\n",
    "            elif i == 0:\n",
    "                dp_mat[i][j] = min(matrix[i][j], matrix[i][j-1])\n",
    "            elif j == 0:\n",
    "                dp_mat[i][j] = min(matrix[i][j], matrix[i-1][j])\n",
    "            else: \n",
    "                dp_mat[i][j] = max( min(matrix[i][j], dp_mat[i][j-1]), min(matrix[i][j], dp_mat[i-1][j]) )\n",
    "    \n",
    "    # this case is needed for [r-1][c-1] element if that element is smaller\n",
    "    dp_mat[rows - 1][cols - 1] = max(dp_mat[i][j-1], dp_mat[i-1][j])\n",
    "    return dp_mat[rows-1][cols-1]\n",
    "\n",
    "    \n",
    "matrix1 = [[5, 1],\n",
    "           [4, 5]]           \n",
    "                               \n",
    "matrix2 = [[1, 2, 3],\n",
    "          [4, 5, 1]]\n",
    "\n",
    "matrix3 = [[6, 7, 8],\n",
    "          [5, 4, 2],\n",
    "          [8, 7, 6]]\n",
    "print(calc_max_min_path(matrix3))"
   ]
  },
  {
   "cell_type": "markdown",
   "metadata": {},
   "source": [
    "### Substrings with exactly K distinct chars"
   ]
  },
  {
   "cell_type": "code",
   "execution_count": 59,
   "metadata": {},
   "outputs": [
    {
     "name": "stdout",
     "output_type": "stream",
     "text": [
      "baxi\n",
      "h defaultdict(<class 'int'>, {'p': 1})\n",
      "values:  0 0 0 defaultdict(<class 'int'>, {'p': 1})\n",
      "h defaultdict(<class 'int'>, {'p': 1, 'q': 1})\n",
      "values:  1 0 1 defaultdict(<class 'int'>, {'p': 1, 'q': 1})\n",
      "h defaultdict(<class 'int'>, {'p': 2, 'q': 1})\n",
      "values:  2 0 3 defaultdict(<class 'int'>, {'p': 2, 'q': 1})\n",
      "h defaultdict(<class 'int'>, {'p': 2, 'q': 2})\n",
      "values:  3 0 6 defaultdict(<class 'int'>, {'p': 2, 'q': 2})\n",
      "h defaultdict(<class 'int'>, {'p': 2, 'q': 2, 's': 1})\n",
      "values:  4 3 10 defaultdict(<class 'int'>, {'q': 1, 's': 1})\n",
      "baxi\n",
      "h defaultdict(<class 'int'>, {'p': 1})\n",
      "values:  0 0 0 defaultdict(<class 'int'>, {'p': 1})\n",
      "h defaultdict(<class 'int'>, {'p': 1, 'q': 1})\n",
      "values:  1 1 1 defaultdict(<class 'int'>, {'q': 1})\n",
      "h defaultdict(<class 'int'>, {'q': 1, 'p': 1})\n",
      "values:  2 2 2 defaultdict(<class 'int'>, {'p': 1})\n",
      "h defaultdict(<class 'int'>, {'p': 1, 'q': 1})\n",
      "values:  3 3 3 defaultdict(<class 'int'>, {'q': 1})\n",
      "h defaultdict(<class 'int'>, {'q': 1, 's': 1})\n",
      "values:  4 4 4 defaultdict(<class 'int'>, {'s': 1})\n",
      "7\n"
     ]
    }
   ],
   "source": [
    "from collections import defaultdict\n",
    "\n",
    "def substring_with_k_chars(string, k):\n",
    "    return distinct_chars(string, k) - distinct_chars(string, k-1)\n",
    "\n",
    "def distinct_chars(string, k):\n",
    "    print(\"baxi\", end = \"\\n\")\n",
    "    if len(string) == 0:\n",
    "        return 0\n",
    "    h = defaultdict(int)\n",
    "    left = 0\n",
    "    num = 0\n",
    "\n",
    "    for i in range(len(string)):\n",
    "        h[string[i]] += 1\n",
    "        print(\"h\", h)\n",
    "        while len(h.keys()) > k:\n",
    "            h[string[left]] -= 1\n",
    "            if h[string[left]] == 0:\n",
    "                del h[string[left]]\n",
    "            left += 1\n",
    "        print(\"values: \", i, left, num, h)\n",
    "        num += i - left + 1\n",
    "    return num\n",
    "\n",
    "string = \"pqpqs\"\n",
    "k = 2\n",
    "\n",
    "string2 = \"aabab\"\n",
    "k2 = 3\n",
    "print(substring_with_k_chars(string, k))"
   ]
  },
  {
   "cell_type": "code",
   "execution_count": null,
   "metadata": {},
   "outputs": [],
   "source": []
  }
 ],
 "metadata": {
  "kernelspec": {
   "display_name": "Python 3",
   "language": "python",
   "name": "python3"
  },
  "language_info": {
   "codemirror_mode": {
    "name": "ipython",
    "version": 3
   },
   "file_extension": ".py",
   "mimetype": "text/x-python",
   "name": "python",
   "nbconvert_exporter": "python",
   "pygments_lexer": "ipython3",
   "version": "3.7.3"
  }
 },
 "nbformat": 4,
 "nbformat_minor": 2
}
