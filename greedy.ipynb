{
 "cells": [
  {
   "cell_type": "markdown",
   "metadata": {},
   "source": [
    "### cycle in graph \n",
    "    Union-find => O(n)\n",
    "    Union-rank => O(logn)"
   ]
  },
  {
   "cell_type": "code",
   "execution_count": 5,
   "metadata": {},
   "outputs": [
    {
     "name": "stdout",
     "output_type": "stream",
     "text": [
      "0 1 % 0 1 p [-1, -1, -1, -1]\n",
      "1 2 % 1 2 p [1, -1, -1, -1]\n",
      "2 3 % 2 3 p [1, 2, -1, -1]\n",
      "3 0 % 3 3 p [1, 2, 3, -1]\n"
     ]
    },
    {
     "data": {
      "text/plain": [
       "True"
      ]
     },
     "execution_count": 5,
     "metadata": {},
     "output_type": "execute_result"
    }
   ],
   "source": [
    "# union-find\n",
    "from collections import defaultdict\n",
    "\n",
    "class Graph:\n",
    "    def __init__(self, vertices):\n",
    "        self.vertices = vertices\n",
    "        self.graph = defaultdict(list)\n",
    "        \n",
    "    def addEdge(self, x, y):\n",
    "        self.graph[x].append(y)\n",
    "        \n",
    "    def findParent(self, parent, i):\n",
    "        if parent[i] == -1:\n",
    "            return i\n",
    "        else:\n",
    "            return self.findParent(parent, parent[i])\n",
    "        \n",
    "    def union(self, parent, x, y):\n",
    "        x_parent = self.findParent(parent, x)\n",
    "        y_parent = self.findParent(parent, y)\n",
    "        parent[x_parent] = y_parent\n",
    "\n",
    "\n",
    "def detect_cycle(g, vertices):\n",
    "    parent = [-1 for i in range(vertices)]\n",
    "    graph = g.graph\n",
    "\n",
    "    for vertex in range(vertices):\n",
    "        for node in graph[vertex]:\n",
    "            if node >= vertices or vertex >= vertices:\n",
    "                return -1\n",
    "            v_parent = g.findParent(parent, vertex)\n",
    "            n_parent = g.findParent(parent, node)\n",
    "            print(vertex, node, \"%\", v_parent, n_parent, 'p', parent)\n",
    "            if v_parent == n_parent:\n",
    "                return True\n",
    "            g.union(parent, v_parent, n_parent)\n",
    "    return False\n",
    "\n",
    "\n",
    "n = 4\n",
    "g = Graph(n)\n",
    "g.addEdge(0, 1)\n",
    "g.addEdge(1, 2)\n",
    "g.addEdge(2, 3)\n",
    "g.addEdge(3, 0)\n",
    "detect_cycle(g, n)\n"
   ]
  },
  {
   "cell_type": "markdown",
   "metadata": {},
   "source": [
    "### union rank by rank and path compression"
   ]
  },
  {
   "cell_type": "code",
   "execution_count": 17,
   "metadata": {},
   "outputs": [
    {
     "data": {
      "text/plain": [
       "True"
      ]
     },
     "execution_count": 17,
     "metadata": {},
     "output_type": "execute_result"
    }
   ],
   "source": [
    "from collections import defaultdict\n",
    "\n",
    "class Subset:\n",
    "    def __init__(self, parent, rank):\n",
    "        self.parent = parent\n",
    "        self.rank = rank\n",
    "        \n",
    "class Graph:\n",
    "    def __init__(self, vertices):\n",
    "        self.vertices = vertices\n",
    "        self.graph = defaultdict(list)\n",
    "        \n",
    "    def addEdge(self, x, y):\n",
    "        self.graph[x].append(y)\n",
    "        \n",
    "    def findParent(self, subsets, node):\n",
    "        if subsets[node].parent == -1:\n",
    "            return subsets[node].parent\n",
    "        else:\n",
    "            subsets[node].parent = self.findParent(subsets, node)\n",
    "    \n",
    "    def union(self, subsets, x, y):\n",
    "        x_parent = self.findParent(self, subsets, x)\n",
    "        y_parent = self.findParent(self, subsets, y)\n",
    "        \n",
    "        if subsets[x_parent].rank < subsets[y_parent].rank:\n",
    "            subsets[x_parent].parent = y_parent\n",
    "        elif subsets[x_parent].rank > subsets[y_parent].rank:\n",
    "            subsets[y_parent].rank = x_parent\n",
    "        else:\n",
    "            subsets[x_parent].rank = y_parent\n",
    "            subsets[y_parent].rank += 1\n",
    "\n",
    "    \n",
    "def detect_cycle_rank_pc(g, vertices):\n",
    "#     parent = [-1 for i in range(vertices)]\n",
    "#     rank = [0 for i in range(vertices)]\n",
    "\n",
    "    subsets = []\n",
    "    for i in range(vertices):\n",
    "        subsets.append(Subset(-1, 0))\n",
    "    graph = g.graph\n",
    "\n",
    "    for vertex in range(vertices):\n",
    "        for node in graph[vertex]:\n",
    "            if node >= vertices or vertex >= vertices:\n",
    "                return -1\n",
    "            v_parent = g.findParent(subsets, vertex)\n",
    "            n_parent = g.findParent(subsets, node)\n",
    "            if v_parent == n_parent:\n",
    "                return True\n",
    "            g.union(subsets, v_parent, n_parent)\n",
    "    return False\n",
    "\n",
    "n = 4\n",
    "g = Graph(n)\n",
    "g.addEdge(0, 1)\n",
    "g.addEdge(1, 2)\n",
    "g.addEdge(2, 3)\n",
    "# g.addEdge(3, 0)\n",
    "detect_cycle_rank_pc(g, n) \n",
    "    "
   ]
  },
  {
   "cell_type": "code",
   "execution_count": 12,
   "metadata": {},
   "outputs": [
    {
     "name": "stdout",
     "output_type": "stream",
     "text": [
      "0 1 % 0 1 p [-1, -1, -1, -1] r [0, 0, 0, 0]\n",
      "1 2 % 0 2 p [-1, 0, -1, -1] r [1, 0, 0, 0]\n",
      "2 3 % 0 3 p [-1, 0, 0, -1] r [1, 0, 0, 0]\n"
     ]
    },
    {
     "data": {
      "text/plain": [
       "False"
      ]
     },
     "execution_count": 12,
     "metadata": {},
     "output_type": "execute_result"
    }
   ],
   "source": [
    "# union-rank\n",
    "\n",
    "from collections import defaultdict\n",
    "\n",
    "class GraphR:\n",
    "    def __init__(self, vertices):\n",
    "        self.vertices = vertices\n",
    "        self.graph = defaultdict(list)\n",
    "        \n",
    "    def addEdge(self, x, y):\n",
    "        self.graph[x].append(y)\n",
    "        \n",
    "    def findParent(self, parent, i):\n",
    "        if parent[i] == -1:\n",
    "            return i\n",
    "        else:\n",
    "            return self.findParent(parent, parent[i])\n",
    "        \n",
    "        \n",
    "    def union(self, parent, rank, x, y):\n",
    "        x_parent = self.findParent(parent, x)\n",
    "        y_parent = self.findParent(parent, y)\n",
    "        \n",
    "        # new parent is one with higher rank\n",
    "        if rank[x_parent] < rank[y_parent]:\n",
    "            parent[x_parent] = y_parent\n",
    "        elif rank[x_parent] > rank[y_parent]:\n",
    "            parent[y_parent] = x_parent\n",
    "        else:\n",
    "            parent[y_parent] = x_parent\n",
    "            rank[x_parent] += 1\n",
    "\n",
    "\n",
    "def detect_cycle_via_rank(g, vertices):\n",
    "    parent = [-1 for i in range(vertices)]\n",
    "    rank = [0 for i in range(vertices)]\n",
    "    \n",
    "    graph = g.graph\n",
    "\n",
    "    for vertex in range(vertices):\n",
    "        for node in graph[vertex]:\n",
    "            if node >= vertices or vertex >= vertices:\n",
    "                return False\n",
    "            v_parent = g.findParent(parent, vertex)\n",
    "            n_parent = g.findParent(parent, node)\n",
    "            print(vertex, node, \"%\", v_parent, n_parent, 'p', parent, 'r', rank)\n",
    "            if v_parent == n_parent:\n",
    "                return True\n",
    "            g.union(parent, rank, v_parent, n_parent)\n",
    "    return False\n",
    "\n",
    "\n",
    "n = 4\n",
    "g = GraphR(n)\n",
    "g.addEdge(0, 1)\n",
    "g.addEdge(1, 2)\n",
    "g.addEdge(2, 3)\n",
    "g.addEdge(3, 0)\n",
    "\n",
    "detect_cycle_via_rank(g, n)\n"
   ]
  },
  {
   "cell_type": "markdown",
   "metadata": {},
   "source": [
    "### kruskal\n",
    "    O(Elogv) or O(ElogE)\n",
    "    edge sorting : O(ElogE)\n",
    "    union-rank : O(logV)\n",
    "    loop: O(E)\n",
    "    \n",
    "    E can be atmost V^2, so logE == 2logV\n",
    "    total: O(ElogE) +  O(E)*O(logV)\n",
    "           => O(ElogE) +  O(ElogV)\n",
    "          or, O(Elogv) or O(ElogE"
   ]
  },
  {
   "cell_type": "code",
   "execution_count": 19,
   "metadata": {},
   "outputs": [
    {
     "name": "stdout",
     "output_type": "stream",
     "text": [
      "[[2, 3, 3], [0, 3, 4], [0, 2, 7], [0, 1, 10], [1, 3, 15]]\n",
      "[[2, 3, 3], [0, 3, 4], [0, 1, 10]]\n"
     ]
    }
   ],
   "source": [
    "from collections import defaultdict\n",
    "\n",
    "class Graph:\n",
    "    def __init__(self, vertices):\n",
    "        self.vertices = vertices\n",
    "        self.graph = []\n",
    "        \n",
    "    def addEdge(self, x, y, w):\n",
    "        self.graph.append([x, y, w])\n",
    "        \n",
    "    def findParent(self, parent, i):\n",
    "        if parent[i] == -1:\n",
    "            return i\n",
    "        else:\n",
    "            return self.findParent(parent, parent[i])\n",
    "        \n",
    "        \n",
    "    def union(self, parent, rank, x, y):\n",
    "        x_parent = self.findParent(parent, x)\n",
    "        y_parent = self.findParent(parent, y)\n",
    "        \n",
    "        # new parent is one with higher rank\n",
    "        if rank[x_parent] < rank[y_parent]:\n",
    "            parent[x_parent] = y_parent\n",
    "        elif rank[x_parent] > rank[y_parent]:\n",
    "            parent[y_parent] = x_parent\n",
    "        else:\n",
    "            parent[y_parent] = x_parent\n",
    "            rank[x_parent] += 1\n",
    "\n",
    "\n",
    "def kruskal(g, vertices):\n",
    "    parent = [-1 for i in range(vertices)]\n",
    "    rank = [0 for i in range(vertices)]\n",
    "    res = []\n",
    "    edge = 0\n",
    "    vertex = 0\n",
    "    sortedGraph = list(sorted(g.graph, key = lambda x: x[2] ))\n",
    "    print(sortedGraph)\n",
    "    # for MST, vertices-1 edges possible.\n",
    "    while edge < vertices - 1:\n",
    "        x, y, w = sortedGraph[vertex]    \n",
    "        x_parent = g.findParent(parent, x)\n",
    "        y_parent = g.findParent(parent, y)\n",
    "        \n",
    "        if x_parent != y_parent:\n",
    "            edge += 1\n",
    "            res.append([x, y, w])\n",
    "            g.union(parent, rank, x, y)\n",
    "        vertex += 1\n",
    "    print(res)\n",
    "    \n",
    "    \n",
    "n = 4\n",
    "g = Graph(n)\n",
    "g.addEdge(0, 1, 10)\n",
    "g.addEdge(0, 2, 7)\n",
    "g.addEdge(0, 3, 4)\n",
    "g.addEdge(1, 3, 15)\n",
    "g.addEdge(2, 3, 3)\n",
    "kruskal(g, n)\n"
   ]
  },
  {
   "cell_type": "markdown",
   "metadata": {},
   "source": [
    "### prim's algorithm"
   ]
  },
  {
   "cell_type": "code",
   "execution_count": null,
   "metadata": {},
   "outputs": [],
   "source": [
    "from collections import defaultdict\n",
    "\n",
    "class Graph:\n",
    "    def __init__(self, vertices):\n",
    "        self.vertices = vertices\n",
    "        self.graph = []\n",
    "        \n",
    "    def addEdge(self, x, y, w):\n",
    "        self.graph.append([x, y, w])\n",
    "        \n",
    "    def findParent(self, parent, i):\n",
    "        if parent[i] == -1:\n",
    "            return i\n",
    "        else:\n",
    "            return self.findParent(parent, parent[i])\n",
    "        \n",
    "        \n",
    "    def union(self, parent, rank, x, y):\n",
    "        x_parent = self.findParent(parent, x)\n",
    "        y_parent = self.findParent(parent, y)\n",
    "        \n",
    "        # new parent is one with higher rank\n",
    "        if rank[x_parent] < rank[y_parent]:\n",
    "            parent[x_parent] = y_parent\n",
    "        elif rank[x_parent] > rank[y_parent]:\n",
    "            parent[y_parent] = x_parent\n",
    "        else:\n",
    "            parent[y_parent] = x_parent\n",
    "            rank[x_parent] += 1"
   ]
  },
  {
   "cell_type": "markdown",
   "metadata": {},
   "source": [
    "### activity selection"
   ]
  },
  {
   "cell_type": "code",
   "execution_count": 67,
   "metadata": {},
   "outputs": [
    {
     "data": {
      "text/plain": [
       "4"
      ]
     },
     "execution_count": 67,
     "metadata": {},
     "output_type": "execute_result"
    }
   ],
   "source": [
    "def activity_selection(start, end, n):\n",
    "    times = list(zip(start, end))\n",
    "    times = list(sorted(times, key = lambda x: x[1]))\n",
    "    count = 1\n",
    "\n",
    "    last = 0\n",
    "    for i in range(1, len(times)):\n",
    "        if times[i][0] >= times[last][1]:\n",
    "            last = i\n",
    "            count += 1\n",
    "    return count\n",
    "\n",
    "n = 6\n",
    "start = [1, 3, 2, 5, 8, 5]\n",
    "end =  [2, 4, 6, 7, 9, 9]\n",
    "activity_selection(start, end, n)\n"
   ]
  },
  {
   "cell_type": "markdown",
   "metadata": {},
   "source": [
    "### page faults in LRU"
   ]
  },
  {
   "cell_type": "code",
   "execution_count": 4,
   "metadata": {},
   "outputs": [
    {
     "name": "stdout",
     "output_type": "stream",
     "text": [
      "8\n"
     ]
    }
   ],
   "source": [
    "def page_faults_in_lru(pages, cap, n):\n",
    "    if cap >= n:\n",
    "        return len(set(pages))\n",
    "\n",
    "    q = []\n",
    "    s = set()\n",
    "    i = 0\n",
    "    while len(s) < cap and i < n:\n",
    "        if pages[i] in s:\n",
    "            page_ind = q.index(pages[i])\n",
    "            q.pop(page_ind)\n",
    "        q.append(pages[i])\n",
    "        s.add(pages[i])\n",
    "        i += 1\n",
    "    count = len(s)\n",
    "    \n",
    "    while i < n:\n",
    "        if pages[i] not in s:\n",
    "            first_page = q.pop(0)\n",
    "            if first_page in s:\n",
    "                s.remove(first_page)\n",
    "            s.add(pages[i])\n",
    "            count += 1\n",
    "        else:\n",
    "            page_ind = q.index(pages[i])\n",
    "            q.pop(page_ind)\n",
    "        q.append(pages[i])\n",
    "        i += 1\n",
    "    return count\n",
    "\n",
    "n = 9\n",
    "pages = [5, 0, 1, 3, 2, 4, 1, 0, 5]\n",
    "cap = 4\n",
    "print(page_faults_in_lru(pages, cap, n))\n"
   ]
  },
  {
   "cell_type": "markdown",
   "metadata": {},
   "source": [
    "### coin piles"
   ]
  },
  {
   "cell_type": "code",
   "execution_count": 1,
   "metadata": {},
   "outputs": [
    {
     "name": "stdout",
     "output_type": "stream",
     "text": [
      "Asd 0 0 1\n",
      "1 9223372036854775807 0 7\n",
      "Asd 1 1 1\n",
      "1 7 1 8\n",
      "Asd 2 2 2\n",
      "2 7 2 6\n",
      "Asd 4 4 5\n",
      "5 6 4 5\n",
      "5\n"
     ]
    }
   ],
   "source": [
    "from sys import maxsize\n",
    "\n",
    "def coin_piles_v1(piles, n, k):\n",
    "    piles.sort()\n",
    "    removals = maxsize\n",
    "    x = 0\n",
    "    y = 0\n",
    "    i = 0\n",
    "    \n",
    "    while i < n and y < removals:\n",
    "        x = y\n",
    "        print(\"Asd\", x, y, piles[i])\n",
    "        for j in range(i+1, n):\n",
    "            if piles[j] - piles[i] > k:\n",
    "                x += piles[j] - piles[i] - k\n",
    "        print(piles[i], removals, y, x)\n",
    "        removals = min(removals, x)\n",
    "        y += piles[i]\n",
    "        i += 1\n",
    "            \n",
    "    return removals\n",
    "\n",
    "\n",
    "n, k = 6, 3\n",
    "piles = [1, 2, 5, 5, 1, 9]\n",
    "print(coin_piles_v1(piles, n, k))\n"
   ]
  },
  {
   "cell_type": "markdown",
   "metadata": {},
   "source": [
    "### max-toys"
   ]
  },
  {
   "cell_type": "code",
   "execution_count": 3,
   "metadata": {},
   "outputs": [
    {
     "name": "stdout",
     "output_type": "stream",
     "text": [
      "4\n"
     ]
    }
   ],
   "source": [
    "def max_toys(arr, n, k):\n",
    "    arr.sort()\n",
    "    sum = 0\n",
    "    count = 0\n",
    "    for i in range(n):\n",
    "        if sum > k:\n",
    "            break\n",
    "        sum += arr[i]\n",
    "        count += 1\n",
    "    return count - 1\n",
    "\n",
    "n, k = 7, 50\n",
    "arr = [1, 12, 5, 111, 200, 1000, 10]\n",
    "print(max_toys(arr, n, k))\n"
   ]
  }
 ],
 "metadata": {
  "kernelspec": {
   "display_name": "Python 3",
   "language": "python",
   "name": "python3"
  },
  "language_info": {
   "codemirror_mode": {
    "name": "ipython",
    "version": 3
   },
   "file_extension": ".py",
   "mimetype": "text/x-python",
   "name": "python",
   "nbconvert_exporter": "python",
   "pygments_lexer": "ipython3",
   "version": "3.7.3"
  }
 },
 "nbformat": 4,
 "nbformat_minor": 2
}
