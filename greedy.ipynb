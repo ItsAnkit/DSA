{
 "cells": [
  {
   "cell_type": "markdown",
   "metadata": {},
   "source": [
    "### cycle in graph \n",
    "    Union-find => O(n)\n",
    "    Union-rank => O(logn)"
   ]
  },
  {
   "cell_type": "code",
   "execution_count": 42,
   "metadata": {},
   "outputs": [
    {
     "name": "stdout",
     "output_type": "stream",
     "text": [
      "0 1 % 0 1 p [-1, -1, -1, -1]\n",
      "1 2 % 1 2 p [1, -1, -1, -1]\n",
      "2 3 % 2 3 p [1, 2, -1, -1]\n",
      "3 0 % 3 3 p [1, 2, 3, -1]\n"
     ]
    },
    {
     "data": {
      "text/plain": [
       "True"
      ]
     },
     "execution_count": 42,
     "metadata": {},
     "output_type": "execute_result"
    }
   ],
   "source": [
    "# union-find\n",
    "from collections import defaultdict\n",
    "\n",
    "class Graph:\n",
    "    def __init__(self, vertices):\n",
    "        self.vertices = vertices\n",
    "        self.graph = defaultdict(list)\n",
    "        \n",
    "    def addEdge(self, x, y):\n",
    "        self.graph[x].append(y)\n",
    "        \n",
    "    def findParent(self, parent, i):\n",
    "        if parent[i] == -1:\n",
    "            return i\n",
    "        else:\n",
    "            return self.findParent(parent, parent[i])\n",
    "        \n",
    "    def union(self, parent, x, y):\n",
    "        x_parent = self.findParent(parent, x)\n",
    "        y_parent = self.findParent(parent, y)\n",
    "        parent[x_parent] = y_parent\n",
    "\n",
    "\n",
    "def detect_cycle(g, vertices):\n",
    "    parent = [-1 for i in range(vertices)]\n",
    "    graph = g.graph\n",
    "\n",
    "    for vertex in range(vertices):\n",
    "        for node in graph[vertex]:\n",
    "            if node >= vertices or vertex >= vertices:\n",
    "                return -1\n",
    "            v_parent = g.findParent(parent, vertex)\n",
    "            n_parent = g.findParent(parent, node)\n",
    "            print(vertex, node, \"%\", v_parent, n_parent, 'p', parent)\n",
    "            if v_parent == n_parent:\n",
    "                return True\n",
    "            g.union(parent, v_parent, n_parent)\n",
    "    return False\n",
    "\n",
    "\n",
    "n = 4\n",
    "g = Graph(n)\n",
    "g.addEdge(0, 1)\n",
    "g.addEdge(1, 2)\n",
    "g.addEdge(2, 3)\n",
    "g.addEdge(3, 0)\n",
    "detect_cycle(g, n)\n"
   ]
  },
  {
   "cell_type": "code",
   "execution_count": 37,
   "metadata": {},
   "outputs": [
    {
     "name": "stdout",
     "output_type": "stream",
     "text": [
      "0 1 % 0 1 p [-1, -1, -1, -1] r [0, 0, 0, 0]\n",
      "1 2 % 0 2 p [-1, 0, -1, -1] r [1, 0, 0, 0]\n",
      "2 3 % 0 3 p [-1, 0, 0, -1] r [1, 0, 0, 0]\n",
      "3 0 % 0 0 p [-1, 0, 0, 0] r [1, 0, 0, 0]\n"
     ]
    },
    {
     "data": {
      "text/plain": [
       "True"
      ]
     },
     "execution_count": 37,
     "metadata": {},
     "output_type": "execute_result"
    }
   ],
   "source": [
    "# union-rank\n",
    "from collections import defaultdict\n",
    "\n",
    "class GraphR:\n",
    "    def __init__(self, vertices):\n",
    "        self.vertices = vertices\n",
    "        self.graph = defaultdict(list)\n",
    "        \n",
    "    def addEdge(self, x, y):\n",
    "        self.graph[x].append(y)\n",
    "        \n",
    "    def findParent(self, parent, i):\n",
    "        if parent[i] == -1:\n",
    "            return i\n",
    "        else:\n",
    "            return self.findParent(parent, parent[i])\n",
    "        \n",
    "        \n",
    "    def union(self, parent, rank, x, y):\n",
    "        x_parent = self.findParent(parent, x)\n",
    "        y_parent = self.findParent(parent, y)\n",
    "        \n",
    "        # new parent is one with higher rank\n",
    "        if rank[x_parent] < rank[y_parent]:\n",
    "            parent[x_parent] = y_parent\n",
    "        elif rank[x_parent] > rank[y_parent]:\n",
    "            parent[y_parent] = x_parent\n",
    "        else:\n",
    "            parent[y_parent] = x_parent\n",
    "            rank[x_parent] += 1\n",
    "\n",
    "\n",
    "def detect_cycle_via_rank(g, vertices):\n",
    "    parent = [-1 for i in range(vertices)]\n",
    "    rank = [0 for i in range(vertices)]\n",
    "    \n",
    "    graph = g.graph\n",
    "\n",
    "    for vertex in range(vertices):\n",
    "        for node in graph[vertex]:\n",
    "            if node >= vertices or vertex >= vertices:\n",
    "                return False\n",
    "            v_parent = g.findParent(parent, vertex)\n",
    "            n_parent = g.findParent(parent, node)\n",
    "            print(vertex, node, \"%\", v_parent, n_parent, 'p', parent, 'r', rank)\n",
    "            if v_parent == n_parent:\n",
    "                return True\n",
    "            g.union(parent, rank, v_parent, n_parent)\n",
    "    return False\n",
    "\n",
    "\n",
    "n = 4\n",
    "g = GraphR(n)\n",
    "g.addEdge(0, 1)\n",
    "g.addEdge(1, 2)\n",
    "g.addEdge(2, 3)\n",
    "g.addEdge(3, 0)\n",
    "\n",
    "detect_cycle_via_rank(g, n)"
   ]
  },
  {
   "cell_type": "markdown",
   "metadata": {},
   "source": [
    "### kruskal\n",
    "    O(Elogv) or O(ElogE)\n",
    "    edge sorting : O(ElogE)\n",
    "    union-rank : O(logV)\n",
    "    loop: O(E)\n",
    "    \n",
    "    E can be atmost V^2, so logE == 2logV\n",
    "    total: O(ElogE) +  O(E)*O(logV)\n",
    "           => O(ElogE) +  O(ElogV)\n",
    "          or, O(Elogv) or O(ElogE"
   ]
  },
  {
   "cell_type": "code",
   "execution_count": 38,
   "metadata": {},
   "outputs": [
    {
     "name": "stdout",
     "output_type": "stream",
     "text": [
      "[[2, 3, 3], [0, 3, 4], [0, 1, 10]]\n"
     ]
    }
   ],
   "source": [
    "from collections import defaultdict\n",
    "\n",
    "class Graph:\n",
    "    def __init__(self, vertices):\n",
    "        self.vertices = vertices\n",
    "        self.graph = []\n",
    "        \n",
    "    def addEdge(self, x, y, w):\n",
    "        self.graph.append([x, y, w])\n",
    "        \n",
    "    def findParent(self, parent, i):\n",
    "        if parent[i] == -1:\n",
    "            return i\n",
    "        else:\n",
    "            return self.findParent(parent, parent[i])\n",
    "        \n",
    "        \n",
    "    def union(self, parent, rank, x, y):\n",
    "        x_parent = self.findParent(parent, x)\n",
    "        y_parent = self.findParent(parent, y)\n",
    "        \n",
    "        # new parent is one with higher rank\n",
    "        if rank[x_parent] < rank[y_parent]:\n",
    "            parent[x_parent] = y_parent\n",
    "        elif rank[x_parent] > rank[y_parent]:\n",
    "            parent[y_parent] = x_parent\n",
    "        else:\n",
    "            parent[y_parent] = x_parent\n",
    "            rank[x_parent] += 1\n",
    "\n",
    "\n",
    "def kruskal(g, vertices):\n",
    "    parent = [-1 for i in range(vertices)]\n",
    "    rank = [0 for i in range(vertices)]\n",
    "    res = []\n",
    "    edge = 0\n",
    "    vertex = 0\n",
    "    sortedGraph = list(sorted(g.graph, key = lambda x: x[2] ))\n",
    "#     print(sortedGraph)\n",
    "    \n",
    "    while edge < vertices - 1:\n",
    "        x, y, w = sortedGraph[vertex]    \n",
    "        x_parent = g.findParent(parent, x)\n",
    "        y_parent = g.findParent(parent, y)\n",
    "        \n",
    "        if x_parent != y_parent:\n",
    "            edge += 1\n",
    "            res.append([x, y, w])\n",
    "            g.union(parent, rank, x, y)\n",
    "        vertex += 1\n",
    "    print(res)\n",
    "    \n",
    "    \n",
    "n = 4\n",
    "g = Graph(n)\n",
    "g.addEdge(0, 1, 10)\n",
    "g.addEdge(0, 2, 7)\n",
    "g.addEdge(0, 3, 4)\n",
    "g.addEdge(1, 3, 15)\n",
    "g.addEdge(2, 3, 3)\n",
    "kruskal(g, n)\n"
   ]
  },
  {
   "cell_type": "code",
   "execution_count": null,
   "metadata": {},
   "outputs": [],
   "source": []
  },
  {
   "cell_type": "code",
   "execution_count": null,
   "metadata": {},
   "outputs": [],
   "source": []
  }
 ],
 "metadata": {
  "kernelspec": {
   "display_name": "Python 3",
   "language": "python",
   "name": "python3"
  },
  "language_info": {
   "codemirror_mode": {
    "name": "ipython",
    "version": 3
   },
   "file_extension": ".py",
   "mimetype": "text/x-python",
   "name": "python",
   "nbconvert_exporter": "python",
   "pygments_lexer": "ipython3",
   "version": "3.7.3"
  }
 },
 "nbformat": 4,
 "nbformat_minor": 2
}
