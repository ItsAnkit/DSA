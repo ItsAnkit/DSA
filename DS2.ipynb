{
 "cells": [
  {
   "cell_type": "markdown",
   "metadata": {},
   "source": [
    "### number of distinct elements in window of size k"
   ]
  },
  {
   "cell_type": "code",
   "execution_count": 39,
   "metadata": {},
   "outputs": [],
   "source": [
    "import pdb\n",
    "import math\n",
    "import sys"
   ]
  },
  {
   "cell_type": "code",
   "execution_count": 4,
   "metadata": {},
   "outputs": [
    {
     "name": "stdout",
     "output_type": "stream",
     "text": [
      "3 4 4 4 3 "
     ]
    }
   ],
   "source": [
    "def distinct_ele(arr, k):\n",
    "    dict = {}\n",
    "    q = []\n",
    "    \n",
    "    for i in range(len(arr)):\n",
    "        if i >= k:\n",
    "            print(len(dict.keys()), end = \" \")\n",
    "            popped = q.pop(0)\n",
    "            if dict[popped] == 1:\n",
    "                del dict[popped]\n",
    "            else:\n",
    "                dict[popped] -= 1\n",
    "                \n",
    "        q.append(arr[i])\n",
    "        dict[arr[i]] = dict[arr[i]] + 1 if arr[i] in dict.keys() else 1\n",
    "    print(len(dict.keys()), end = \" \")\n",
    "        \n",
    "arr = [1, 2, 1, 4, 5, 6, 3, 6]\n",
    "k = 4\n",
    "distinct_ele(arr, k)"
   ]
  },
  {
   "cell_type": "markdown",
   "metadata": {},
   "source": [
    "### product array puzzle"
   ]
  },
  {
   "cell_type": "code",
   "execution_count": 20,
   "metadata": {},
   "outputs": [
    {
     "name": "stdout",
     "output_type": "stream",
     "text": [
      "180 600 360 300 900 "
     ]
    }
   ],
   "source": [
    "import math\n",
    "\n",
    "def product_array(arr):\n",
    "    prod = 1\n",
    "    for i in range(len(arr)):\n",
    "        prod *= arr[i]\n",
    "    for i in range(len(arr)):\n",
    "        log_val = (math.log(prod, 10) - math.log(arr[i], 10))\n",
    "        print(round(math.pow(10, log_val)), end = \" \")\n",
    "        \n",
    "arr = [10, 3, 5, 6, 2]\n",
    "product_array(arr)"
   ]
  },
  {
   "cell_type": "markdown",
   "metadata": {},
   "source": [
    "### Painter's problem"
   ]
  },
  {
   "cell_type": "code",
   "execution_count": 6,
   "metadata": {},
   "outputs": [
    {
     "data": {
      "text/plain": [
       "90"
      ]
     },
     "execution_count": 6,
     "metadata": {},
     "output_type": "execute_result"
    }
   ],
   "source": [
    "import sys\n",
    "# from math import sum\n",
    "\n",
    "def opt_substructure_partition(arr, n, k):\n",
    "    if k == 1:\n",
    "        return sum(arr[0:n])\n",
    "    if n == 1:\n",
    "        return arr[0]\n",
    "    result = sys.maxsize\n",
    "    \n",
    "    for i in range(1, n + 1):\n",
    "        result = min(result, max(opt_substructure_partition(arr, i, k - 1), sum(arr[i:n])) )\n",
    "    \n",
    "    return result\n",
    "\n",
    "def overlap_subp_partition(arr, n, k):\n",
    "    dp = [[0 for i in range(n + 1)] for j in range(k + 1)]\n",
    "    \n",
    "    # k == 1\n",
    "    for i in range(1, n + 1):\n",
    "        dp[1][i] = sum(arr)\n",
    "        \n",
    "    # n == 1\n",
    "    for i in range(1, k + 1):\n",
    "        dp[i][1] = arr[0]\n",
    "        \n",
    "#     for i in range(2, k + 1):\n",
    "#         for j in range(2, n + 1):\n",
    "#             result = sys.maxsize\n",
    "            \n",
    "#             for p in range()\n",
    "\n",
    "arr = [10, 20, 60, 50, 30, 40]\n",
    "k = 3\n",
    "n = len(arr)\n",
    "opt_substructure_partition(arr, n, k)"
   ]
  },
  {
   "cell_type": "code",
   "execution_count": 18,
   "metadata": {},
   "outputs": [
    {
     "name": "stdout",
     "output_type": "stream",
     "text": [
      "ppp 2 10 40\n",
      "ppp 4 10 25\n",
      "ppp 2 18 25\n",
      "ppp 4 18 21\n",
      "ppp 2 20 21\n",
      "20\n"
     ]
    }
   ],
   "source": [
    "def bsearch_partition(arr, n, k):\n",
    "    max_limit = sum(arr)\n",
    "    min_limit = max(arr)\n",
    "    \n",
    "    final_min_time = sys.maxsize\n",
    "    while (max_limit > min_limit):\n",
    "        mid = (max_limit + min_limit) // 2\n",
    "        painters = painters_count(arr, n, mid)\n",
    "        print(\"ppp\", painters, min_limit, max_limit)\n",
    "        if painters <= k:\n",
    "            min_limit = mid + 1\n",
    "        else:\n",
    "            max_limit = mid\n",
    "               \n",
    "    return min_limit\n",
    "\n",
    "# No. of painters it will take for mid value....\n",
    "def painters_count(arr, n, mid):\n",
    "    subarr_sum = 0\n",
    "    iterations = 1\n",
    "    \n",
    "    for i in range(n):\n",
    "        subarr_sum += arr[i]\n",
    "        if subarr_sum > mid:\n",
    "            iterations += 1\n",
    "            subarr_sum = arr[i]\n",
    "            \n",
    "    return iterations\n",
    "\n",
    "            \n",
    "arr = [10, 20, 60, 50, 30, 40]\n",
    "# arr2 = [10, 20, 30, 40]\n",
    "# arr3 = [10, 10, 10, 10]\n",
    "k = 2\n",
    "n = len(arr)\n",
    "print(bsearch_partition(arr, n, k))\n",
    "\n",
    "\n",
    "### Time complexity: O(n*log(sum(arr)))"
   ]
  },
  {
   "cell_type": "markdown",
   "metadata": {},
   "source": [
    "#### closest palindrome"
   ]
  },
  {
   "cell_type": "code",
   "execution_count": 27,
   "metadata": {},
   "outputs": [
    {
     "ename": "TypeError",
     "evalue": "'str' object is not callable",
     "output_type": "error",
     "traceback": [
      "\u001b[0;31m---------------------------------------------------------------------------\u001b[0m",
      "\u001b[0;31mTypeError\u001b[0m                                 Traceback (most recent call last)",
      "\u001b[0;32m<ipython-input-27-bc08594b8fa8>\u001b[0m in \u001b[0;36m<module>\u001b[0;34m\u001b[0m\n\u001b[1;32m     57\u001b[0m \u001b[0;34m\u001b[0m\u001b[0m\n\u001b[1;32m     58\u001b[0m \u001b[0mnum\u001b[0m \u001b[0;34m=\u001b[0m \u001b[0;36m123908\u001b[0m\u001b[0;34m\u001b[0m\u001b[0;34m\u001b[0m\u001b[0m\n\u001b[0;32m---> 59\u001b[0;31m \u001b[0mprint\u001b[0m\u001b[0;34m(\u001b[0m\u001b[0mclosest_palindrome\u001b[0m\u001b[0;34m(\u001b[0m\u001b[0mnum\u001b[0m\u001b[0;34m)\u001b[0m\u001b[0;34m)\u001b[0m\u001b[0;34m\u001b[0m\u001b[0;34m\u001b[0m\u001b[0m\n\u001b[0m",
      "\u001b[0;32m<ipython-input-27-bc08594b8fa8>\u001b[0m in \u001b[0;36mclosest_palindrome\u001b[0;34m(num)\u001b[0m\n\u001b[1;32m     34\u001b[0m \u001b[0;34m\u001b[0m\u001b[0m\n\u001b[1;32m     35\u001b[0m \u001b[0;32mdef\u001b[0m \u001b[0mclosest_palindrome\u001b[0m\u001b[0;34m(\u001b[0m\u001b[0mnum\u001b[0m\u001b[0;34m)\u001b[0m\u001b[0;34m:\u001b[0m\u001b[0;34m\u001b[0m\u001b[0;34m\u001b[0m\u001b[0m\n\u001b[0;32m---> 36\u001b[0;31m     \u001b[0mnum_arr\u001b[0m \u001b[0;34m=\u001b[0m \u001b[0;34m[\u001b[0m\u001b[0mint\u001b[0m\u001b[0;34m(\u001b[0m\u001b[0mx\u001b[0m\u001b[0;34m)\u001b[0m \u001b[0;32mfor\u001b[0m \u001b[0mx\u001b[0m \u001b[0;32min\u001b[0m \u001b[0mstr\u001b[0m\u001b[0;34m(\u001b[0m\u001b[0mnum\u001b[0m\u001b[0;34m)\u001b[0m\u001b[0;34m]\u001b[0m\u001b[0;34m\u001b[0m\u001b[0;34m\u001b[0m\u001b[0m\n\u001b[0m\u001b[1;32m     37\u001b[0m     \u001b[0;32mif\u001b[0m \u001b[0mall_nine\u001b[0m\u001b[0;34m(\u001b[0m\u001b[0mnum_arr\u001b[0m\u001b[0;34m)\u001b[0m\u001b[0;34m:\u001b[0m\u001b[0;34m\u001b[0m\u001b[0;34m\u001b[0m\u001b[0m\n\u001b[1;32m     38\u001b[0m         \u001b[0;32mreturn\u001b[0m \u001b[0mnum\u001b[0m \u001b[0;34m+\u001b[0m \u001b[0;36m2\u001b[0m\u001b[0;34m\u001b[0m\u001b[0;34m\u001b[0m\u001b[0m\n",
      "\u001b[0;31mTypeError\u001b[0m: 'str' object is not callable"
     ]
    }
   ],
   "source": [
    "#code\n",
    "import sys\n",
    "sys.setrecursionlimit(10000)\n",
    "\n",
    "def all_nine(num_arr):\n",
    "    for val in num_arr:\n",
    "        if num_arr != 9:\n",
    "            return False\n",
    "    return True\n",
    "    \n",
    "def convert_to_num(arr):\n",
    "    str_arr = [str(ele) for ele in arr]\n",
    "    return int(\"\".join(str_arr))\n",
    "\n",
    "def compute_closest(num, closest_palin, mid_incremented, mid_decremented, length):\n",
    "    closest_palin_diff = abs(num - closest_palin)\n",
    "    mid_incremented_diff = abs(num - mid_incremented)\n",
    "    mid_decremented_diff = abs(num - mid_decremented)\n",
    "    \n",
    "    if mid_decremented_diff <= closest_palin_diff and mid_decremented_diff <= mid_incremented_diff:\n",
    "        val = mid_decremented\n",
    "    elif closest_palin_diff <= mid_incremented_diff and closest_palin_diff <= mid_decremented_diff:\n",
    "        val = closest_palin\n",
    "    elif mid_incremented_diff <= closest_palin_diff and mid_incremented_diff <= mid_decremented_diff:\n",
    "        val = mid_incremented\n",
    "\n",
    "    if length == 2:\n",
    "        return 9 if (num - 9) <= abs(num - val) else val\n",
    "    else:\n",
    "        return val\n",
    "\n",
    "def get_mid_incremented(num_arr, center1_val, center2_val, half, length):\n",
    "    val1 = length - half - 1\n",
    "    incrementor = pow(10, val1)\n",
    "    if num_arr[val1] == 9:\n",
    "        incrementor += pow(10, val1 - 1)\n",
    "    \n",
    "    if length % 2 == 0:\n",
    "        val2 = length - (half + 1) - 1\n",
    "        incrementor += pow(10, val2)\n",
    "        if num_arr[val2] == 9:\n",
    "            incrementor += pow(10, val2 - 1)\n",
    "        \n",
    "    number = convert_to_num(num_arr)\n",
    "    number += incrementor\n",
    "    return number\n",
    "\n",
    "def get_mid_decremented(num_arr, center1_val, center2_val, half, length):\n",
    "    val1 = length - half - 1\n",
    "    decrementor = pow(10, val1)\n",
    "    if num_arr[val1] == 0:\n",
    "        decrementor += pow(10, val1 - 1) # to handle 815901158 and 309801683\n",
    "    \n",
    "    if length % 2 == 0:\n",
    "        val2 = length - (half + 1) - 1\n",
    "        decrementor += pow(10, val2)\n",
    "        if num_arr[val2] == 0:\n",
    "            decrementor += pow(10, val2 - 1)\n",
    "        \n",
    "    number = convert_to_num(num_arr)\n",
    "    number -= decrementor\n",
    "    return number\n",
    "    \n",
    "def is_palin(num):\n",
    "    num_arr = [int(x) for x in str(num)]\n",
    "    term = len(num_arr) // 2\n",
    "    size = len(num_arr)\n",
    "    for i in range(term):\n",
    "        if num_arr[i] != num_arr[size - i - 1]:\n",
    "            return False\n",
    "        \n",
    "    return True\n",
    "        \n",
    "def closest_palindrome(num):\n",
    "    num_arr = [int(x) for x in str(num)]\n",
    "    length = len(num_arr)\n",
    "    if length == 1:\n",
    "        return num\n",
    "    if all_nine(num_arr):\n",
    "        return num + 2\n",
    "    \n",
    "    half = length // 2 - 1 if length % 2 == 0 else length // 2\n",
    "    \n",
    "    # replace second half with mirror image of first half...\n",
    "    for i in range(length - 1, half, -1):\n",
    "        num_arr[i] = num_arr[length - 1 - i]\n",
    "    closest_palin = convert_to_num(num_arr)\n",
    "\n",
    "    center1_val = num_arr[half]\n",
    "    center2_val = num_arr[half + 1]\n",
    "    \n",
    "    # increment and decrement middle element by 1 of closest_palin computed by creating mirror image...\n",
    "    mid_incremented = get_mid_incremented(num_arr, center1_val, center2_val, half, length)\n",
    "    mid_decremented = get_mid_decremented(num_arr, center1_val, center2_val, half, length)\n",
    "    \n",
    "    ans = compute_closest(num, closest_palin, mid_incremented, mid_decremented, length)\n",
    "    return ans\n",
    "\n",
    "# num = 815901158\n",
    "# num = 309801683\n",
    "num = 123908\n",
    "print(closest_palindrome(num))"
   ]
  },
  {
   "cell_type": "code",
   "execution_count": 34,
   "metadata": {},
   "outputs": [
    {
     "ename": "TypeError",
     "evalue": "'str' object is not callable",
     "output_type": "error",
     "traceback": [
      "\u001b[0;31m---------------------------------------------------------------------------\u001b[0m",
      "\u001b[0;31mTypeError\u001b[0m                                 Traceback (most recent call last)",
      "\u001b[0;32m<ipython-input-34-d41d0463e65f>\u001b[0m in \u001b[0;36m<module>\u001b[0;34m\u001b[0m\n\u001b[0;32m----> 1\u001b[0;31m \u001b[0ms\u001b[0m \u001b[0;34m=\u001b[0m \u001b[0mstr\u001b[0m\u001b[0;34m(\u001b[0m\u001b[0;36m123\u001b[0m\u001b[0;34m)\u001b[0m\u001b[0;34m\u001b[0m\u001b[0;34m\u001b[0m\u001b[0m\n\u001b[0m\u001b[1;32m      2\u001b[0m \u001b[0;31m# num_arr = [int(x) for x in str(s)]\u001b[0m\u001b[0;34m\u001b[0m\u001b[0;34m\u001b[0m\u001b[0;34m\u001b[0m\u001b[0m\n",
      "\u001b[0;31mTypeError\u001b[0m: 'str' object is not callable"
     ]
    }
   ],
   "source": [
    "s = str(123)\n",
    "# num_arr = [int(x) for x in str(s)]"
   ]
  },
  {
   "cell_type": "code",
   "execution_count": 1,
   "metadata": {},
   "outputs": [],
   "source": [
    "def sum1(arr, frm, to):  \n",
    "    total = 0; \n",
    "    for i in range(frm, to + 1): \n",
    "        total += arr[i] \n",
    "    return total "
   ]
  },
  {
   "cell_type": "markdown",
   "metadata": {},
   "source": [
    "### Maximum sum such that no two elements are adjacent"
   ]
  },
  {
   "cell_type": "code",
   "execution_count": 10,
   "metadata": {},
   "outputs": [
    {
     "name": "stdout",
     "output_type": "stream",
     "text": [
      "xxx 5 0\n",
      "yyy 5 5\n",
      "xxx 15 5\n",
      "yyy 15 5\n",
      "xxx 45 5\n",
      "yyy 45 15\n",
      "xxx 65 15\n",
      "yyy 65 45\n",
      "xxx 80 45\n",
      "yyy 80 65\n",
      "80\n"
     ]
    }
   ],
   "source": [
    "def max_sum_not_adjacent(arr):\n",
    "    incl = arr[0]\n",
    "    excl = 0\n",
    "    \n",
    "    for i in range(1, len(arr)):\n",
    "        new_excl = max(excl, incl)\n",
    "        \n",
    "        incl = excl + arr[i]\n",
    "        print(\"xxx\", incl, excl)\n",
    "        excl = new_excl\n",
    "        print(\"yyy\", incl, excl)\n",
    "        \n",
    "    return max(excl, incl)\n",
    "\n",
    "arr = [5, 5, 10, 40, 50, 35]\n",
    "\n",
    "print(max_sum_not_adjacent(arr))"
   ]
  },
  {
   "cell_type": "markdown",
   "metadata": {},
   "source": [
    "### celebrity problem"
   ]
  },
  {
   "cell_type": "code",
   "execution_count": 11,
   "metadata": {},
   "outputs": [
    {
     "name": "stdout",
     "output_type": "stream",
     "text": [
      "2\n"
     ]
    }
   ],
   "source": [
    "def celebrity(mat):\n",
    "    size = len(mat)\n",
    "    i = 0\n",
    "    j = size - 1\n",
    "    while j > i:\n",
    "        # i knows j so, i is not a celebrity move on....\n",
    "        if mat[i][j] == 1:\n",
    "            i += 1\n",
    "        else:\n",
    "            j -= 1\n",
    "            \n",
    "    for k in range(size):\n",
    "        # if i(current celebrity) knows k or k doesn't know i(current celebrity)\n",
    "        if mat[i][k] == 1 or (mat[k][i] == 0 and i != k):\n",
    "            return -1\n",
    "        \n",
    "    return i\n",
    "    \n",
    "    \n",
    "mat1 = [[0, 0, 1, 0],\n",
    "        [0, 0, 1, 0],\n",
    "        [0, 0, 0, 0],\n",
    "        [0, 0, 1, 0]]\n",
    "\n",
    "mat2 = [[0, 0, 1, 0, 1],\n",
    "        [0, 0, 1, 0, 1],\n",
    "        [0, 0, 0, 0, 0],\n",
    "        [0, 0, 1, 0, 1],\n",
    "        [0, 0, 1, 0, 0]]\n",
    "\n",
    "print(celebrity(mat1))"
   ]
  },
  {
   "cell_type": "markdown",
   "metadata": {},
   "source": [
    "### max sum of i * arr[i] among all rotations"
   ]
  },
  {
   "cell_type": "code",
   "execution_count": 40,
   "metadata": {},
   "outputs": [
    {
     "name": "stdout",
     "output_type": "stream",
     "text": [
      "aaa 11 14\n",
      "29\n",
      "27\n",
      "17\n"
     ]
    },
    {
     "data": {
      "text/plain": [
       "29"
      ]
     },
     "execution_count": 40,
     "metadata": {},
     "output_type": "execute_result"
    }
   ],
   "source": [
    "def max_sum_among_rotation(arr):\n",
    "    arr_sum = sum(arr)\n",
    "    \n",
    "    current_val = 0\n",
    "    for i in range(len(arr)):\n",
    "        current_val += arr[i] * i\n",
    "        \n",
    "    result = 0\n",
    "    print(\"aaa\", current_val, arr_sum)\n",
    "    for i in range(1, len(arr)):\n",
    "        # as multiplier of each element reduce by 1, so reduction in current value is sum - (i-1)th element\n",
    "        sub_res = current_val - (arr_sum - arr[i - 1]) + (arr[i - 1] * (len(arr) - 1))\n",
    "        print(sub_res)\n",
    "        current_val = sub_res\n",
    "        result = max(sub_res, result)\n",
    "        \n",
    "    return result\n",
    "    \n",
    "arr = [8, 3, 1, 2]\n",
    "max_sum_among_rotation(arr)"
   ]
  },
  {
   "cell_type": "markdown",
   "metadata": {},
   "source": [
    "### maximum of all subarrays of size k"
   ]
  },
  {
   "cell_type": "code",
   "execution_count": 52,
   "metadata": {},
   "outputs": [
    {
     "name": "stdout",
     "output_type": "stream",
     "text": [
      "78 90 90 90 103\n"
     ]
    }
   ],
   "source": [
    "from collections import deque\n",
    "\n",
    "def max_subarray_size_k(arr, k):\n",
    "    q = deque()\n",
    "\n",
    "    for i in range(k):\n",
    "        while q and arr[i] >= arr[q[-1]]:\n",
    "            q.pop()\n",
    "            \n",
    "        q.append(i)\n",
    "    \n",
    "    for i in range(k, len(arr)):\n",
    "        print(arr[q[0]], end = \" \")\n",
    "            \n",
    "        # remove element which are ot of this window.\n",
    "        while q and q[0] <= i - k:\n",
    "            q.popleft()\n",
    "            \n",
    "        while q and arr[i] >= arr[q[-1]]:\n",
    "            q.pop()\n",
    "            \n",
    "        q.append(i)\n",
    "            \n",
    "    print(arr[q[0]])   \n",
    "        \n",
    "arr = [12, 1, 78, 90, 57, 89, 103]\n",
    "k = 3\n",
    "max_subarray_size_k(arr, k)"
   ]
  },
  {
   "cell_type": "code",
   "execution_count": 53,
   "metadata": {},
   "outputs": [
    {
     "name": "stdout",
     "output_type": "stream",
     "text": [
      "deque([1, 2, 3, 4]) 1 4\n",
      "deque([2, 3, 4]) 2 4\n"
     ]
    }
   ],
   "source": [
    "q = deque()\n",
    "\n",
    "q.append(1)\n",
    "q.append(2)\n",
    "q.append(3)\n",
    "q.append(4)\n",
    "\n",
    "print(q, q[0], q[-1])\n",
    "q.popleft()\n",
    "print(q, q[0], q[-1])"
   ]
  },
  {
   "cell_type": "markdown",
   "metadata": {},
   "source": [
    "### count decodings"
   ]
  },
  {
   "cell_type": "code",
   "execution_count": 7,
   "metadata": {},
   "outputs": [
    {
     "name": "stdout",
     "output_type": "stream",
     "text": [
      "[1, 1, 0, 0, 0]\n",
      "[1, 1, 2, 0, 0]\n",
      "[1, 1, 2, 3, 0]\n",
      "3\n"
     ]
    }
   ],
   "source": [
    "def count_decodings(number):\n",
    "    size = len(number)\n",
    "    count = [0 for i in range(size + 1)]\n",
    "    count[0] = 1\n",
    "    count[1] = 1\n",
    "\n",
    "    for i in range(2, size + 1):\n",
    "        count[i] = 0\n",
    "        print(count)\n",
    "        if number[i - 1] > '0':\n",
    "            count[i] = count[i - 1]\n",
    "            \n",
    "        if number[i - 2] == '1' or (number[i - 2] == '2' and number[i - 1] <= '6'):\n",
    "            count[i] += count[i - 2]\n",
    "            \n",
    "    return count[size]\n",
    "    \n",
    "number = \"1234\"\n",
    "print(count_decodings(number))"
   ]
  },
  {
   "cell_type": "markdown",
   "metadata": {},
   "source": [
    "### min number of swaps for arranging pair"
   ]
  },
  {
   "cell_type": "code",
   "execution_count": 2,
   "metadata": {},
   "outputs": [
    {
     "ename": "SyntaxError",
     "evalue": "invalid syntax (<ipython-input-2-086850a698d5>, line 3)",
     "output_type": "error",
     "traceback": [
      "\u001b[0;36m  File \u001b[0;32m\"<ipython-input-2-086850a698d5>\"\u001b[0;36m, line \u001b[0;32m3\u001b[0m\n\u001b[0;31m    if pair[0] in arr\u001b[0m\n\u001b[0m                     ^\u001b[0m\n\u001b[0;31mSyntaxError\u001b[0m\u001b[0;31m:\u001b[0m invalid syntax\n"
     ]
    }
   ],
   "source": [
    "def min_swaps(arr, pairs):\n",
    "    for pair in pairs:\n",
    "        if pair[0] in arr\n",
    "    \n",
    "    \n",
    "arr = [3, 5, 6, 4, 1, 2]\n",
    "pairs = [[3, 1], [6, 2], [4, 5]]\n",
    "min_swaps(arr, pairs)"
   ]
  },
  {
   "cell_type": "markdown",
   "metadata": {},
   "source": [
    "### Smallest window in a string containing all the characters"
   ]
  },
  {
   "cell_type": "code",
   "execution_count": 3,
   "metadata": {},
   "outputs": [
    {
     "name": "stdout",
     "output_type": "stream",
     "text": [
      "toprac\n"
     ]
    }
   ],
   "source": [
    "def smallest_window(str, txt):\n",
    "    if (len(str) < len(txt)):\n",
    "        return -1\n",
    "    char_count = 256\n",
    "    \n",
    "    hash_str = [0] * 256\n",
    "    hash_txt = [0] * 256\n",
    "    for i in range(len(txt)):\n",
    "        hash_txt[ord(txt[i])] += 1\n",
    "        \n",
    "    count = 0\n",
    "    start = 0\n",
    "    start_ind = -1\n",
    "    min_len = float('inf')\n",
    "        \n",
    "    for i in range(len(str)):\n",
    "        hash_str[ord(str[i])] += 1\n",
    "        if hash_txt[ord(str[i])] != 0 and hash_str[ord(str[i])] <= hash_txt[ord(str[i])]:\n",
    "            count += 1\n",
    "        \n",
    "        if count == len(txt):\n",
    "            while hash_str[ord(str[start])] > hash_txt[ord(str[start])] or hash_txt[ord(str[start])] == 0:\n",
    "                if hash_str[ord(str[start])] > hash_txt[ord(str[start])]:\n",
    "                    hash_str[ord(str[start])] -= 1\n",
    "                start += 1\n",
    "                \n",
    "            current_len = i - start + 1\n",
    "            if current_len < min_len:\n",
    "                min_len = current_len\n",
    "                start_ind = start\n",
    "    \n",
    "    if start_ind == -1:\n",
    "        return start_ind\n",
    "    else:\n",
    "        return str[start_ind:(start_ind + min_len)]\n",
    "\n",
    "str = \"timetopractice\"\n",
    "text = \"toc\"\n",
    "print(smallest_window(str, text))\n"
   ]
  },
  {
   "cell_type": "code",
   "execution_count": 1,
   "metadata": {},
   "outputs": [
    {
     "name": "stdout",
     "output_type": "stream",
     "text": [
      "False\n"
     ]
    }
   ],
   "source": [
    "def f():\n",
    "    num_arr = [1,2,3,3,3,1]\n",
    "    size = len(num_arr)\n",
    "    term = len(num_arr) // 2\n",
    "    for i in range(term):\n",
    "        if num_arr[i] != num_arr[size - i - 1]:\n",
    "            return False\n",
    "        \n",
    "    return True\n",
    "\n",
    "print(f())"
   ]
  },
  {
   "cell_type": "markdown",
   "metadata": {},
   "source": [
    "### Stock analysis"
   ]
  },
  {
   "cell_type": "code",
   "execution_count": 11,
   "metadata": {},
   "outputs": [
    {
     "name": "stdout",
     "output_type": "stream",
     "text": [
      "['b', 'b', 'x', 'q']\n"
     ]
    }
   ],
   "source": [
    "def stock_analysis(sources, parameters):\n",
    "    dict = {}\n",
    "    for i in range(sources):\n",
    "        for key in parameters[i]:\n",
    "            dict[key] = parameters[i][key]\n",
    "\n",
    "    print(list(dict.values()))\n",
    "\n",
    "sources = 2\n",
    "parameters = [{\"P1\": 'a', \"P3\": 'b', \"P5\": 'x'},\n",
    "              {\"P1\": 'b', \"P2\": 'q', \"P5\": 'x'}]\n",
    "stock_analysis(sources, parameters)"
   ]
  },
  {
   "cell_type": "markdown",
   "metadata": {},
   "source": [
    "### subarrays with sum divisible by k"
   ]
  },
  {
   "cell_type": "code",
   "execution_count": 28,
   "metadata": {},
   "outputs": [
    {
     "name": "stdout",
     "output_type": "stream",
     "text": [
      "11 [2, 2, 1, 0]\n",
      "2 [2, 2, 1, 0]\n",
      "4\n"
     ]
    }
   ],
   "source": [
    "def subarrays(arr, k):\n",
    "    n = len(arr)\n",
    "    mod = [0] * (k+1)\n",
    "        \n",
    "    cum_sum = 0\n",
    "    for i in range(n):\n",
    "        cum_sum += arr[i]\n",
    "        rem = ((cum_sum % k ) + k) % k\n",
    "        mod[rem] += 1\n",
    "    print(cum_sum, mod)\n",
    "    ans = 0\n",
    "    for i in range(k):\n",
    "        if mod[i] > 1:\n",
    "            ans = ans + ( mod[i] *(mod[i]-1) )//2 # for more than 1 remainder in mod we need to compute combinations, C(n, 2)\n",
    "    print(ans, mod)\n",
    "    ans += mod[0] # as in the case of 0 remainder, we need to count (0, a), (0, b)\n",
    "    return ans\n",
    "\n",
    "arr = [1, 2, 3, 4, 1]\n",
    "k = 3\n",
    "\n",
    "# arr = [4, 5, 0, -2, -3, 1] \n",
    "# k = 5\n",
    "print(subarrays(arr, k))"
   ]
  },
  {
   "cell_type": "markdown",
   "metadata": {},
   "source": [
    "### longest prefix corresponding to all phone numbers"
   ]
  },
  {
   "cell_type": "code",
   "execution_count": 47,
   "metadata": {},
   "outputs": [
    {
     "name": "stdout",
     "output_type": "stream",
     "text": [
      "213\n",
      "12\n",
      "1234\n"
     ]
    }
   ],
   "source": [
    "class TrieNode:\n",
    "    def __init__(self):\n",
    "        self.children = [None] * 10\n",
    "        self.isStringEnd = False\n",
    "        \n",
    "def insert_node(key, node):\n",
    "    for i in key:\n",
    "        if node.children[int(i)] is None:\n",
    "            node.children[int(i)] = TrieNode()\n",
    "        node = node.children[int(i)]\n",
    "        \n",
    "    node.isStringEnd = True\n",
    "    \n",
    "def search(area_codes, phones):\n",
    "    root = TrieNode()\n",
    "    for area_code in area_codes:\n",
    "        insert_node(area_code, root)\n",
    "\n",
    "    for phone in phones:\n",
    "        prefix = []\n",
    "        node = root\n",
    "        for i in phone:\n",
    "            if node.children[int(i)] is None:\n",
    "                break\n",
    "            else:\n",
    "                prefix.append(i)\n",
    "                node = node.children[int(i)]\n",
    "        print(\"\".join(prefix), end = \"\\n\")\n",
    "                \n",
    "\n",
    "area_codes = [\"213\", \"21358\", \"1234\", \"12\"]\n",
    "phones = [\"21349049\", \"1204539492\", \"123490485904\"]\n",
    "search(area_codes, phones)"
   ]
  },
  {
   "cell_type": "code",
   "execution_count": null,
   "metadata": {},
   "outputs": [],
   "source": []
  },
  {
   "cell_type": "code",
   "execution_count": null,
   "metadata": {},
   "outputs": [],
   "source": []
  }
 ],
 "metadata": {
  "kernelspec": {
   "display_name": "Python 3",
   "language": "python",
   "name": "python3"
  },
  "language_info": {
   "codemirror_mode": {
    "name": "ipython",
    "version": 3
   },
   "file_extension": ".py",
   "mimetype": "text/x-python",
   "name": "python",
   "nbconvert_exporter": "python",
   "pygments_lexer": "ipython3",
   "version": "3.7.3"
  }
 },
 "nbformat": 4,
 "nbformat_minor": 2
}
