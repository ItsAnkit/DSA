{
 "cells": [
  {
   "cell_type": "code",
   "execution_count": 32,
   "metadata": {},
   "outputs": [
    {
     "name": "stdout",
     "output_type": "stream",
     "text": [
      "6\n"
     ]
    }
   ],
   "source": [
    "def min_operations(n):\n",
    "    start = 1\n",
    "    count = 1\n",
    "    if n <= 1:\n",
    "        return n\n",
    "    else:\n",
    "        while start < n:\n",
    "            start *= 2\n",
    "            count += 1\n",
    "        if start == n:\n",
    "            return count\n",
    "        else:\n",
    "            start = start / 4\n",
    "            count -= 2\n",
    "            while (start < (n/2)):\n",
    "                start += 1\n",
    "                count += 1\n",
    "            return count if (start == n) else count + 1\n",
    "\n",
    "        \n",
    "def min_operations_v1(n):\n",
    "    count = 0\n",
    "    if n <= 1:\n",
    "        return n\n",
    "\n",
    "    while n > 0:\n",
    "        if n % 2 == 0:\n",
    "            n //= 2\n",
    "        else:\n",
    "            n -=1\n",
    "        count += 1\n",
    "    return count\n",
    "\n",
    "    \n",
    "n = 11\n",
    "print(min_operations_v1(n))"
   ]
  },
  {
   "cell_type": "markdown",
   "metadata": {},
   "source": [
    "### max chain length"
   ]
  },
  {
   "cell_type": "code",
   "execution_count": 35,
   "metadata": {},
   "outputs": [
    {
     "name": "stdout",
     "output_type": "stream",
     "text": [
      "3\n"
     ]
    }
   ],
   "source": [
    "def max_chain_length(pairs, n):\n",
    "    arr = [1 for i in range(n)]\n",
    "    pairs.sort()\n",
    "    \n",
    "    for i in range(1, n):\n",
    "        for j in range(0, i):\n",
    "            if pairs[i][0] > pairs[j][1] and arr[i] < arr[j] + 1:\n",
    "                arr[i] = arr[j] + 1\n",
    "    \n",
    "    return max(arr)\n",
    "    \n",
    "    \n",
    "n = 5\n",
    "pairs = [[5, 24], [39, 60], [15, 28], [27, 40], [50, 90]]\n",
    "\n",
    "print(max_chain_length(pairs, n))"
   ]
  },
  {
   "cell_type": "markdown",
   "metadata": {},
   "source": [
    "### min number of coins"
   ]
  },
  {
   "cell_type": "code",
   "execution_count": 37,
   "metadata": {},
   "outputs": [
    {
     "name": "stdout",
     "output_type": "stream",
     "text": [
      "[0, 1, 2, 3, 4, 1, 1, 2, 3, 1, 2, 2, 2, 3, 2, 2, 3, 3, 2, 3, 3, 3, 4, 3]\n",
      "3\n"
     ]
    }
   ],
   "source": [
    "import sys\n",
    "\n",
    "def min_number_of_coins(coins, value):\n",
    "    if value == 0:\n",
    "        return 0\n",
    "\n",
    "    res = sys.maxsize\n",
    "    for i in range(len(coins)):\n",
    "        if coins[i] <= value:\n",
    "            sub_res = min_number_of_coins(coins, value - coins[i])\n",
    "\n",
    "            if sub_res != sys.maxsize and sub_res + 1 < res:\n",
    "                res = sub_res + 1\n",
    "    return res\n",
    "\n",
    "\n",
    "def dp_min_number_of_coins(coins, value):\n",
    "    if value == 0:\n",
    "        return 0\n",
    "\n",
    "    val_arr = [sys.maxsize] * (value + 1)\n",
    "    val_arr[0] = 0\n",
    "\n",
    "    for val in range(1, value + 1):\n",
    "        for coin in coins:\n",
    "            if coin <= val:\n",
    "                sub_res = val_arr[val - coin]\n",
    "                if sub_res != sys.maxsize and sub_res + 1 < val_arr[val]:\n",
    "                    val_arr[val] = sub_res + 1\n",
    "    print(val_arr)              \n",
    "    return val_arr[value]\n",
    "                \n",
    "\n",
    "coins = [9, 5, 6, 1]\n",
    "value = 23\n",
    "print(dp_min_number_of_coins(coins, value))\n",
    "\n",
    "\n",
    "\n",
    "\n",
    "def min_c(coins, value):\n",
    "    val_arr = [sys.maxsize] * (value+1)\n",
    "    val_arr[0] = 0\n",
    "\n",
    "    for val in range(1, value + 1):\n",
    "        for coin in coins:\n",
    "            if coin <= val:\n",
    "                sr = val_arr[val - coin]\n",
    "                if sr != sys.maxsize and val_arr[val] > sr + 1\n",
    "                    val_arr[val] = sr + 1\n",
    "\n",
    "    return val_arr[value]\n",
    "            "
   ]
  },
  {
   "cell_type": "code",
   "execution_count": 2,
   "metadata": {},
   "outputs": [
    {
     "name": "stdout",
     "output_type": "stream",
     "text": [
      "[0, 0, 0, 0, 0, 0, 0]\n",
      "[0, 1, 0, 0, 0, 0, 0]\n",
      "[0, 0, 0, 0, 0, 0, 0]\n",
      "[0, 0, 1, 0, 0, 0, 0]\n",
      "[0, 0, 0, 2, 0, 0, 0]\n",
      "[0, 0, 0, 0, 3, 0, 0]\n",
      "[0, 0, 0, 0, 0, 4, 0]\n"
     ]
    },
    {
     "data": {
      "text/plain": [
       "4"
      ]
     },
     "execution_count": 2,
     "metadata": {},
     "output_type": "execute_result"
    }
   ],
   "source": [
    "def longest_common_substring(str1, str2, size1, size2):\n",
    "    dp_mat = [[0 for i in range(size2 + 1)] for j in range(size1 + 1)]\n",
    "    longest = 0\n",
    "    \n",
    "    for i in range(size1 + 1):\n",
    "        for j in range(size2 + 1):\n",
    "            if i == 0 or j == 0:\n",
    "                dp_mat[i][j] = 0\n",
    "            elif str1[i - 1] == str2[j - 1]:\n",
    "                dp_mat[i][j] = dp_mat[i - 1][j - 1] + 1\n",
    "                longest = max(longest, dp_mat[i][j])\n",
    "    for i in range(size1 + 1):\n",
    "        print(dp_mat[i], end = \"\\n\")\n",
    "    return longest\n",
    "\n",
    "longest_common_substring(\"ABCDGH\", \"ACDGHR\", 6, 6)"
   ]
  },
  {
   "cell_type": "code",
   "execution_count": 10,
   "metadata": {},
   "outputs": [
    {
     "data": {
      "text/plain": [
       "3"
      ]
     },
     "execution_count": 10,
     "metadata": {},
     "output_type": "execute_result"
    }
   ],
   "source": [
    "def longest_common_subsequence(str1, str2, size1, size2):\n",
    "    mat = [[0 for i in range(size2 + 1)] for j in range(size1 + 1)]\n",
    "\n",
    "    for i in range(size1 + 1):\n",
    "        for j in range(size2 + 1):\n",
    "            if i == 0 or j == 0:\n",
    "                mat[i][j] = 0\n",
    "            elif str1[i - 1] == str2[j - 1]:\n",
    "                mat[i][j] = mat[i - 1][j - 1] + 1\n",
    "            else:\n",
    "                mat[i][j] = max(mat[i - 1][j], mat[i][j - 1])\n",
    "    \n",
    "    return mat[size1][size2]\n",
    "\n",
    "longest_common_subsequence(\"ABCDGH\", \"AEDFHR\", 6, 6)"
   ]
  },
  {
   "cell_type": "code",
   "execution_count": 22,
   "metadata": {},
   "outputs": [
    {
     "data": {
      "text/plain": [
       "9"
      ]
     },
     "execution_count": 22,
     "metadata": {},
     "output_type": "execute_result"
    }
   ],
   "source": [
    "# C is capacity and n is no. of items\n",
    "def knapsack(weights, values, n, C):\n",
    "    mat = [[0 for i in range(C + 1)] for j in range(n + 1)]\n",
    "\n",
    "    for i in range(n + 1):\n",
    "        for w in range(C + 1):\n",
    "            if i == 0 or w == 0:\n",
    "                mat[i][w] = 0\n",
    "            elif weights[i - 1] <= w:\n",
    "                # first one is sum of value of last item + mat value of capacity reduced because of last item \n",
    "                # and number of items reduced by 1\n",
    "                # i - 1 =  last item\n",
    "                # w - weights[i - 1] = remaining capacity after adding last item to knapsack\n",
    "                mat[i][w] = max( mat[i - 1][w - weights[i - 1]] + values[i - 1] , mat[i - 1][w] )\n",
    "            else:\n",
    "                mat[i][w] = mat[i - 1][w]\n",
    "\n",
    "            \n",
    "    return mat[n][C]\n",
    "\n",
    "\n",
    "weights = [1,2,3]\n",
    "values = [4, 5, 1]\n",
    "C = 4\n",
    "n = 3\n",
    "knapsack(weights, values, n, C)"
   ]
  },
  {
   "cell_type": "code",
   "execution_count": 8,
   "metadata": {},
   "outputs": [
    {
     "name": "stdout",
     "output_type": "stream",
     "text": [
      "5\n"
     ]
    }
   ],
   "source": [
    "def longest_increasing_subsequence(arr, size):\n",
    "    lis = [1] * size\n",
    "\n",
    "    for i in range(1, size):\n",
    "        # check for values smaller than current element before it\n",
    "        for j in range(i):\n",
    "            if arr[i] > arr[j] and lis[i] <= lis[j]:\n",
    "                lis[i] = lis[j] + 1\n",
    "    \n",
    "    return max(lis)\n",
    "\n",
    "\n",
    "arr = [2, 5, 8, 3, 9, 11, 1]\n",
    "n = 6\n",
    "print(longest_increasing_subsequence(arr, n))"
   ]
  },
  {
   "cell_type": "markdown",
   "metadata": {},
   "source": [
    "### max sum increasing subsequence"
   ]
  },
  {
   "cell_type": "code",
   "execution_count": 38,
   "metadata": {},
   "outputs": [
    {
     "data": {
      "text/plain": [
       "106"
      ]
     },
     "execution_count": 38,
     "metadata": {},
     "output_type": "execute_result"
    }
   ],
   "source": [
    "def max_sum_increasing_subsequence(arr, n):\n",
    "    max_arr = arr.copy()\n",
    "    for i in range(1, n):\n",
    "        for j in range(i):\n",
    "            if arr[i] > arr[j] and max_arr[i] < max_arr[j] + arr[i]:\n",
    "                max_arr[i] = max_arr[j] + arr[i]\n",
    "    return max(max_arr)\n",
    "    \n",
    "    \n",
    "\n",
    "arr = [1, 101, 2, 3, 100, 4, 5]\n",
    "n = len(arr)\n",
    "max_sum_increasing_subsequence(arr, n)\n"
   ]
  },
  {
   "cell_type": "markdown",
   "metadata": {},
   "source": [
    "### min number of jumps      "
   ]
  },
  {
   "cell_type": "code",
   "execution_count": 11,
   "metadata": {},
   "outputs": [
    {
     "data": {
      "text/plain": [
       "3"
      ]
     },
     "execution_count": 11,
     "metadata": {},
     "output_type": "execute_result"
    }
   ],
   "source": [
    "from sys import maxsize\n",
    "\n",
    "def min_number_of_jumps(arr, size):\n",
    "    jump_arr = [maxsize for i in range(size)]\n",
    "    if size == 0 or arr[0] == 0:\n",
    "        return -1\n",
    "    jump_arr[0] = 0\n",
    "\n",
    "    for i in range(size):\n",
    "        if arr[i] == 0:\n",
    "            break\n",
    "        end = min(size, i + arr[i] + 1)\n",
    "        for j in range(i + 1, end):\n",
    "            jump_arr[j] = min(jump_arr[j], jump_arr[i] + 1)\n",
    "\n",
    "    if jump_arr[size - 1] != maxsize:\n",
    "        return jump_arr[size - 1] \n",
    "    else:\n",
    "        return -1\n",
    "\n",
    "\n",
    "size = 11\n",
    "arr = [1, 3, 5, 8, 9, 2, 6, 7, 6, 8, 9]\n",
    "min_number_of_jumps(arr, size)"
   ]
  },
  {
   "cell_type": "markdown",
   "metadata": {},
   "source": [
    "### edit distance"
   ]
  },
  {
   "cell_type": "code",
   "execution_count": 10,
   "metadata": {},
   "outputs": [
    {
     "name": "stdout",
     "output_type": "stream",
     "text": [
      "[0, 1, 2, 3, 4, 5, 6, 7, 8]\n",
      "[1, 0, 1, 2, 3, 4, 5, 6, 7]\n",
      "[2, 1, 1, 2, 2, 3, 4, 5, 6]\n",
      "[3, 2, 2, 2, 3, 3, 4, 5, 6]\n",
      "[4, 3, 3, 3, 3, 4, 3, 4, 5]\n",
      "[5, 4, 3, 4, 4, 4, 4, 3, 4]\n",
      "[6, 5, 4, 4, 5, 5, 5, 4, 3]\n",
      "3\n"
     ]
    }
   ],
   "source": [
    "def edit_distance(str1, str2):\n",
    "    len1 = len(str1)\n",
    "    len2 = len(str2)\n",
    "    dp = [[0 for i in range(len2 + 1)] for j in range(len1 + 1)]\n",
    "    \n",
    "    for i in range(len1 + 1):\n",
    "        for j in range(len2 + 1):\n",
    "            if i == 0:\n",
    "                dp[i][j] = j\n",
    "            elif j == 0:\n",
    "                dp[i][j] = i\n",
    "            elif str1[i - 1] == str2[j - 1]:\n",
    "                dp[i][j] = dp[i - 1][j - 1]\n",
    "            else:\n",
    "                dp[i][j] = 1 + min(dp[i][j - 1], # insert \n",
    "                                   dp[i - 1][j], # delete\n",
    "                                   dp[i - 1][j - 1] #replace\n",
    "                                  )\n",
    "    \n",
    "    for i in range(len1 + 1):\n",
    "        print(dp[i])\n",
    "       \n",
    "    return dp[len1][len2]\n",
    "            \n",
    "    \n",
    "str1 = \"sunday\"\n",
    "str2 = \"saturday\"\n",
    "\n",
    "print(edit_distance(str1, str2))\n"
   ]
  },
  {
   "cell_type": "markdown",
   "metadata": {},
   "source": [
    "### subset sum problem"
   ]
  },
  {
   "cell_type": "code",
   "execution_count": 6,
   "metadata": {},
   "outputs": [
    {
     "name": "stdout",
     "output_type": "stream",
     "text": [
      "YES\n"
     ]
    }
   ],
   "source": [
    "# O(sum * size)\n",
    "\n",
    "# tabulation (bottom up approach)\n",
    "def partition_subset_equal_sum(arr):\n",
    "    size = len(arr)\n",
    "    arr_sum = sum(arr)\n",
    "    half_sum = arr_sum // 2\n",
    "    if (arr_sum % 2) != 0:\n",
    "        return False\n",
    "    dp_mat = [[False for i in range(size + 1)] for j in range(half_sum + 1) ]\n",
    "    \n",
    "    for i in range(1, half_sum + 1):\n",
    "        dp_mat[i][0] = False\n",
    "    \n",
    "    for i in range(1, half_sum + 1):\n",
    "        for j in range(1, size + 1):\n",
    "            dp_mat[i][j] = dp_mat[i][j-1]\n",
    "            if i >= arr[j - 1]:\n",
    "                dp_mat[i][j] = dp_mat[i][j] or dp_mat[i - arr[j-1]][j-1]\n",
    "    \n",
    "    for i in range(half_sum + 1):\n",
    "        print(dp_mat[i], end= \"\\n\")           \n",
    "    return dp_mat[half_sum][size]\n",
    "\n",
    "\n",
    "# dp memoization\n",
    "def partition_subset_equal_sum(arr, size):\n",
    "    arr_sum = sum(arr)\n",
    "    half_sum = arr_sum//2\n",
    "    if (arr_sum % 2) != 0:\n",
    "        return \"NO\"\n",
    "    dp_mat = [[None for i in range(half_sum + 1)] for j in range(size + 1) ]\n",
    "\n",
    "    if memoize_recur(dp_mat, arr, size, half_sum):\n",
    "        return \"YES\"\n",
    "    else:\n",
    "        return \"NO\"\n",
    "\n",
    "\n",
    "def memoize_recur(dp_mat, arr, i, s):\n",
    "    if dp_mat[i][s] == None:\n",
    "        if s == 0:# sum\n",
    "            dp_mat[i][s] = True\n",
    "        elif i == 0:\n",
    "            dp_mat[i][s] = False\n",
    "        else:\n",
    "            dp_mat[i][s] = memoize_recur(dp_mat, arr, i - 1, s)\n",
    "            if s >= arr[i-1] and dp_mat[i-1][s] != True:\n",
    "                dp_mat[i][s] = memoize_recur(dp_mat, arr, i - 1, s - arr[i-1])\n",
    "        return dp_mat[i][s]\n",
    "#         elif arr[i-1] > s:\n",
    "#             dp_mat[i][s] = memoize_recur(dp_mat, arr, i - 1, s)\n",
    "#         elif arr[i-1] <= s and dp_mat[i-1][s] != True:\n",
    "#             dp_mat[i][s] = memoize_recur(dp_mat, arr, i - 1, s) or memoize_recur(dp_mat, arr, i - 1, s - arr[i-1]) \n",
    "#         return dp_mat[i][s]    \n",
    "\n",
    "\n",
    "arr = [1,2,3,4]\n",
    "print(partition_subset_equal_sum(arr, len(arr)))"
   ]
  },
  {
   "cell_type": "markdown",
   "metadata": {},
   "source": [
    "### Coin change (number of ways to make change for N cents)"
   ]
  },
  {
   "cell_type": "code",
   "execution_count": 44,
   "metadata": {},
   "outputs": [
    {
     "name": "stdout",
     "output_type": "stream",
     "text": [
      "[1, 0, 1, 0, 1, 0, 1, 0, 1, 0, 1]\n",
      "[1, 0, 1, 0, 1, 1, 1, 1, 1, 1, 2]\n",
      "[1, 0, 1, 1, 1, 2, 2, 2, 3, 3, 4]\n",
      "[1, 0, 1, 1, 1, 2, 3, 2, 4, 4, 5]\n"
     ]
    },
    {
     "data": {
      "text/plain": [
       "5"
      ]
     },
     "execution_count": 44,
     "metadata": {},
     "output_type": "execute_result"
    }
   ],
   "source": [
    "def coin_change_recur(arr, n, value):\n",
    "    if value == 0: # value reached 0 after deductions\n",
    "        return 1\n",
    "    if value < 0:\n",
    "        return 0\n",
    "    if n <= 0 and value >= 1: # no coins but value remaining\n",
    "        return 0\n",
    "    \n",
    "    # coin not considered in value sum\n",
    "    return coin_change(arr, n-1, value) + \\\n",
    "        coin_change(arr, n, value - arr[n-1]) # coin considered in value sum\n",
    "\n",
    "\n",
    "def coin_change(arr, n, value):\n",
    "    mat = [[0 for i in range(n)] for j in range(value + 1)]\n",
    "    \n",
    "    for i in range(n): # when value is 0\n",
    "        mat[0][i] = 1\n",
    "        \n",
    "    for i in range(1, value + 1):\n",
    "        for j in range(n):\n",
    "            if j <= 0:\n",
    "                coin_excluded = 0\n",
    "            else:\n",
    "                coin_excluded = mat[i][j-1]\n",
    "            remaining_value = i - arr[j]\n",
    "            if remaining_value >= 0:\n",
    "                coin_included = mat[remaining_value][j]\n",
    "            else:\n",
    "                coin_included = 0\n",
    "        \n",
    "            mat[i][j] = coin_included + coin_excluded\n",
    "    return mat[value][n-1]\n",
    "            \n",
    "    \n",
    "def coin_change_v1(arr, n, value):\n",
    "    mat = [0 for i in range(value + 1)]\n",
    "    mat[0] = 1\n",
    "    for i in range(n):\n",
    "        for j in range(arr[i], value+1):\n",
    "            mat[j] += mat[j - arr[i]]\n",
    "        print(mat, end=\"\\n\")\n",
    "    return mat[value] \n",
    "            \n",
    "arr = [2, 5, 3, 6] \n",
    "value = 10\n",
    "n = len(arr)\n",
    "coin_change_v1(arr, n, value)"
   ]
  },
  {
   "cell_type": "markdown",
   "metadata": {},
   "source": [
    "### longest palindromic substring"
   ]
  },
  {
   "cell_type": "code",
   "execution_count": 1,
   "metadata": {},
   "outputs": [
    {
     "name": "stdout",
     "output_type": "stream",
     "text": [
      "bab\n"
     ]
    }
   ],
   "source": [
    "def longest_palindromic_substring(string):\n",
    "    n = len(string)\n",
    "    maxlen = 1\n",
    "    \n",
    "    for i in range(1, n):\n",
    "        # odd length palindrome\n",
    "        low = i-1\n",
    "        high = i+1\n",
    "        while low >= 0 and high < n and string[low] == string[high]:\n",
    "            if high - low + 1 > maxlen:\n",
    "                start = low\n",
    "                maxlen = high - low + 1\n",
    "            low -= 1\n",
    "            high += 1\n",
    "        \n",
    "        # even length palindrome\n",
    "        low = i-1\n",
    "        high = i\n",
    "        while low >= 0 and high < n and string[low] == string[high]:\n",
    "            if high - low + 1 > maxlen:\n",
    "                start = low\n",
    "                maxlen = high - low + 1\n",
    "            low -= 1\n",
    "            high += 1\n",
    "        \n",
    "    print(string[start:(start + maxlen)])\n",
    "        \n",
    "    \n",
    "string = \"babad\"\n",
    "# string = \"forgeeksskeegfor\"\n",
    "longest_palindromic_substring(string)"
   ]
  },
  {
   "cell_type": "markdown",
   "metadata": {},
   "source": [
    "### square submatrix with all 1s"
   ]
  },
  {
   "cell_type": "code",
   "execution_count": 14,
   "metadata": {},
   "outputs": [
    {
     "name": "stdout",
     "output_type": "stream",
     "text": [
      "3 4\n",
      "[0, 1, 1, 0, 1]\n",
      "[1, 1, 0, 1, 0]\n",
      "[0, 1, 1, 1, 0]\n",
      "[1, 1, 2, 2, 0]\n",
      "[1, 2, 2, 3, 1]\n",
      "[0, 0, 0, 0, 0]\n",
      "3\n"
     ]
    }
   ],
   "source": [
    "def square_submatrix(mat, rows, cols):\n",
    "    dp_mat = [[0 for i in range(cols)] for j in range(rows)]\n",
    "    for i in range(rows):\n",
    "        dp_mat[i][0] = mat[i][0]\n",
    "        \n",
    "    for j in range(cols):\n",
    "        dp_mat[0][j] = mat[0][j]\n",
    "\n",
    "    submatrix_row = 0\n",
    "    submatrix_col = 0\n",
    "    submatrix_order = 0\n",
    "    \n",
    "    for i in range(1, rows):\n",
    "        for j in range(1, cols):\n",
    "            if mat[i][j] == 1:\n",
    "                val = min(dp_mat[i-1][j-1], dp_mat[i][j-1], dp_mat[i-1][j]) + 1\n",
    "                if val > submatrix_order:\n",
    "                    submatrix_col = j\n",
    "                    submatrix_row = i\n",
    "                    submatrix_order = val\n",
    "                dp_mat[i][j] = val\n",
    "            else:\n",
    "                dp_mat[i][j] = 0\n",
    "                \n",
    "    print(submatrix_col, submatrix_row)\n",
    "    for i in range(rows):\n",
    "        print(dp_mat[i], end=\"\\n\")\n",
    "    return submatrix_order\n",
    "\n",
    "\n",
    "\n",
    "def ss(mat, rows, cols):\n",
    "    dp_mat = [[0 for i in range(cols)] for j in range(rows)]\n",
    "    for i in range(rows):\n",
    "        dp_mat[i][0] = mat[i][0]\n",
    "        \n",
    "    for j in range(cols):\n",
    "        dp_mat[0][j] = mat[0][j]\n",
    "        \n",
    "    s_row = 0\n",
    "    s_col = 0\n",
    "    s_order = 0\n",
    "        \n",
    "        \n",
    "    for i in range(1, rows):\n",
    "        for j in range(1, cols):\n",
    "            if mat[i][j] == 1:\n",
    "                val = min(dp_mat[i-1][j-1], dp_mat[i][j-1], dp_mat[i-1][j]) + 1\n",
    "                if val > s_order:\n",
    "                    s_row = i\n",
    "                    s_col = j\n",
    "                    s_order = val\n",
    "                dp_mat[i][j] = val\n",
    "            else:\n",
    "                dp_mat[i][j] = 0\n",
    "        \n",
    "        \n",
    "        \n",
    "# def square_submatrix_v1(mat, rows, cols):\n",
    "#     dp_mat = [[0 for i in range(cols + 1)] for j in range(rows + 1)]\n",
    "#     submatrix_order = 0\n",
    "#     submatrix_row = 0\n",
    "#     submatrix_col = 0\n",
    "    \n",
    "#     for i in range(1, rows + 1):\n",
    "#         for j in range(cols + 1):        \n",
    "#             if mat[i-2][j-2] == mat[i-2][j-1] and mat[i-2][j-2] == mat[i-1][j-2] and mat[i-1][j-1] == 1 and mat[i-2][j-2] == 1:\n",
    "#                 dp_mat[i][j] = dp_mat[i - 1][j - 1] + 1\n",
    "#                 if dp_mat[i][j] > submatrix_order:\n",
    "#                     submatrix_order = dp_mat[i][j]\n",
    "#                     submatrix_row = i\n",
    "#                     submatrix_col = j\n",
    "#             else:\n",
    "#                 dp_mat[i][j] = 0\n",
    "            \n",
    "#     print(submatrix_order, submatrix_row, submatrix_col)\n",
    "#     for i in range(rows):\n",
    "#         print(dp_mat[i], end=\"\\n\")\n",
    "#     return\n",
    "\n",
    "rows = 6\n",
    "cols = 5\n",
    "mat = [[0, 1, 1, 0, 1],\n",
    "       [1, 1, 0, 1, 0],\n",
    "       [0, 1, 1, 1, 0],\n",
    "       [1, 1, 1, 1, 0],\n",
    "       [1, 1, 1, 1, 1],\n",
    "       [0, 0, 0, 0, 0]]\n",
    "print(square_submatrix(mat, rows, cols))"
   ]
  },
  {
   "cell_type": "markdown",
   "metadata": {},
   "source": [
    "### Maximize The Cut Segments"
   ]
  },
  {
   "cell_type": "code",
   "execution_count": 1,
   "metadata": {},
   "outputs": [
    {
     "name": "stdout",
     "output_type": "stream",
     "text": [
      "4\n"
     ]
    }
   ],
   "source": [
    "def rod_cutting(x, y, z, n):\n",
    "    if n == 0:\n",
    "        return 0\n",
    "    if n < 0:\n",
    "        return -1\n",
    "    return max(rod_cutting(x, y, z, n - x), rod_cutting(x, y, z, n - y), \n",
    "            rod_cutting(x, y, z, n - z)) + 1\n",
    "            \n",
    "            \n",
    "def rod_cutting_dp(x, y, z, n):\n",
    "    mat = [-1 for i in range(n+1)]\n",
    "    mat[0] = 0\n",
    "    \n",
    "    for i in range(n+1):\n",
    "        if mat[i] == -1:\n",
    "            continue\n",
    "        if i+x <= n:\n",
    "            mat[i+x] = max(mat[i+x], mat[i] + 1)\n",
    "        if i+y <= n:\n",
    "            mat[i+y] = max(mat[i+y], mat[i] + 1)\n",
    "        if i+z <= n:\n",
    "            mat[i+z] = max(mat[i+z], mat[i] + 1)\n",
    "    # print(mat)\n",
    "    return mat[n]\n",
    "\n",
    "n = 4\n",
    "x = 2\n",
    "y = 1\n",
    "z = 1\n",
    "print(rod_cutting_dp(x, y, z, n))"
   ]
  },
  {
   "cell_type": "markdown",
   "metadata": {},
   "source": [
    "### min sum partition"
   ]
  },
  {
   "cell_type": "code",
   "execution_count": 25,
   "metadata": {},
   "outputs": [
    {
     "name": "stdout",
     "output_type": "stream",
     "text": [
      "[True, True, True, True, True]\n",
      "[False, True, True, True, True]\n",
      "[False, False, False, False, False]\n",
      "[False, False, False, False, False]\n",
      "[False, False, False, False, False]\n",
      "[False, False, False, True, True]\n",
      "[False, False, True, True, True]\n",
      "[False, False, True, True, True]\n",
      "[False, False, False, False, False]\n",
      "[False, False, False, False, False]\n",
      "[False, False, False, False, False]\n",
      "[False, False, False, True, True]\n",
      "[False, False, False, True, True]\n",
      "[False, False, False, False, False]\n",
      "[False, False, False, False, False]\n",
      "[False, False, False, False, False]\n",
      "[False, False, False, False, True]\n",
      "[False, False, False, False, True]\n",
      "[False, False, False, False, True]\n",
      "[False, False, False, False, False]\n",
      "[False, False, False, False, False]\n",
      "[False, False, False, False, False]\n",
      "[False, False, False, False, True]\n",
      "[False, False, False, False, True]\n",
      "1\n",
      "[True, None, None, None, None]\n",
      "[False, True, None, None, None]\n",
      "[None, None, None, None, None]\n",
      "[None, None, None, None, None]\n",
      "[None, None, None, None, None]\n",
      "[False, None, None, None, None]\n",
      "[False, False, None, None, None]\n",
      "[False, None, True, None, None]\n",
      "[None, None, None, None, None]\n",
      "[None, None, None, None, None]\n",
      "[None, None, None, None, None]\n",
      "[False, None, None, None, None]\n",
      "[False, False, False, True, None]\n",
      "[None, None, None, None, None]\n",
      "[None, None, None, None, None]\n",
      "[None, None, None, None, None]\n",
      "[False, None, None, None, None]\n",
      "[False, False, None, None, None]\n",
      "[False, None, False, None, None]\n",
      "[None, None, None, None, None]\n",
      "[None, None, None, None, None]\n",
      "[None, None, None, None, None]\n",
      "[False, None, None, None, None]\n",
      "[False, False, False, False, True]\n",
      "-1\n"
     ]
    }
   ],
   "source": [
    "#code\n",
    "def min_sum_partition_tabulation(arr, n):\n",
    "    arr_sum = sum(arr)\n",
    "    dp_mat = [[None for i in range(n + 1)] for j in range(arr_sum+1)]\n",
    "    \n",
    "    for j in range(n+1):\n",
    "        dp_mat[0][j] = True\n",
    "        \n",
    "    for i in range(1, arr_sum + 1):\n",
    "        dp_mat[i][0] = False\n",
    "        \n",
    "    for i in range(1, arr_sum + 1):\n",
    "        for j in range(1, n + 1):\n",
    "            dp_mat[i][j] = dp_mat[i][j-1]\n",
    "            if arr[j-1] <= i:\n",
    "                dp_mat[i][j] = dp_mat[i][j] or dp_mat[i - arr[j-1]][j-1]\n",
    "    half_sum = arr_sum // 2\n",
    "    for i in range(arr_sum + 1):\n",
    "        print(dp_mat[i])\n",
    "    while half_sum >= 0:\n",
    "        if dp_mat[half_sum][n] == True:\n",
    "            diff = arr_sum - (2*half_sum)\n",
    "            break\n",
    "        half_sum -= 1\n",
    "    return diff\n",
    "    \n",
    "\n",
    "def min_sum_partition_memoize(arr, n):\n",
    "    arr_sum = sum(arr)\n",
    "    dp_mat = [[None for i in range(n + 1)] for j in range(arr_sum + 1)]\n",
    "    msp_recur(dp_mat, arr, arr_sum , n)\n",
    "                \n",
    "    half_sum = arr_sum // 2 + 1\n",
    "    for i in range(arr_sum + 1):\n",
    "        print(dp_mat[i])\n",
    "    while half_sum >= 0:\n",
    "        if dp_mat[half_sum][n] == True:\n",
    "            diff = arr_sum - (2 * half_sum)\n",
    "            return diff\n",
    "        half_sum -= 1\n",
    "    return -1\n",
    "\n",
    "def msp_recur(dp_mat, arr, s, j):\n",
    "    if dp_mat[s][j] == None:\n",
    "        if s == 0:\n",
    "            dp_mat[s][j] = True\n",
    "        elif j == 0:\n",
    "            dp_mat[s][j] = False\n",
    "        else:\n",
    "            dp_mat[s][j] = msp_recur(dp_mat, arr, s, j-1)\n",
    "            # either check True or do || operation. \n",
    "            if arr[j-1] <= s:\n",
    "                dp_mat[s][j] = dp_mat[s][j] or msp_recur(dp_mat, arr, s - arr[j - 1], j - 1)\n",
    "        return dp_mat[s][j]\n",
    "    \n",
    "arr = [36, 7, 46, 40]\n",
    "arr = [1, 6, 5, 11]\n",
    "n = len(arr)\n",
    "print(min_sum_partition_tabulation(arr, n))\n",
    "print(min_sum_partition_memoize(arr, n))"
   ]
  },
  {
   "cell_type": "markdown",
   "metadata": {},
   "source": [
    "### longest path in a matrix  (Count number of ways to cover a distance)\n",
    "    TC - O(n^2)"
   ]
  },
  {
   "cell_type": "code",
   "execution_count": 16,
   "metadata": {},
   "outputs": [
    {
     "name": "stdout",
     "output_type": "stream",
     "text": [
      "4\n"
     ]
    }
   ],
   "source": [
    "def path_in_matrix_dfs(mat, n):\n",
    "    max_path = -float(\"inf\")\n",
    "    for i in range(n):\n",
    "        for j in range(n):\n",
    "            visited = [[False for i in range(n)] for j in range(n)]\n",
    "            max_path = max(max_path, bfs_traverse(mat, visited, n, i, j, 0) + 1)\n",
    "    return max_path\n",
    "    \n",
    "            \n",
    "def bfs_traverse(mat, visited, n, i, j, d):\n",
    "    ele = mat[i][j]\n",
    "    row_nbrs = [-1, 0, 0, 1]\n",
    "    col_nbrs = [0, -1, 1, 0]\n",
    "    for k in range(4):\n",
    "        r = row_nbrs[k] + i\n",
    "        c = col_nbrs[k] + j\n",
    "        if r >= 0 and r < n and c >= 0 and c < n and visited[r][c] == False and mat[r][c] - ele == 1:\n",
    "            d += 1\n",
    "            d = bfs_traverse(mat, visited, n, r, c, d)\n",
    "    return d\n",
    "    \n",
    "mat = [[1, 2, 9],\n",
    "       [5, 3, 8],\n",
    "       [4, 6, 7]]\n",
    "print(path_in_matrix_dfs(mat, 3))"
   ]
  },
  {
   "cell_type": "markdown",
   "metadata": {},
   "source": [
    "### Egg drop puzzle"
   ]
  },
  {
   "cell_type": "code",
   "execution_count": 12,
   "metadata": {},
   "outputs": [
    {
     "name": "stdout",
     "output_type": "stream",
     "text": [
      "6\n"
     ]
    }
   ],
   "source": [
    "import sys\n",
    "\n",
    "def egg_drop_puzzle(n, k):\n",
    "    if (k == 1 or k == 0):\n",
    "        return k\n",
    "\n",
    "    if (n==1):\n",
    "        return k\n",
    "    min_drops = sys.maxsize\n",
    "    for i in range(1, k + 1):\n",
    "        res = max(egg_drop_puzzle(n - 1, i - 1), egg_drop_puzzle(n, k - i))\n",
    "        if res < min_drops:\n",
    "            min_drops = res    \n",
    "    return min_drops + 1\n",
    "\n",
    "#binary_seacrh O(nlogk)\n",
    "def binomial_coeff(trials, n, k):\n",
    "    sum = 0\n",
    "    val = 1\n",
    "    i = 1\n",
    "    while i <= n and sum < k:\n",
    "        val = val * (trials - i + 1)\n",
    "        val = val/i\n",
    "        sum += val\n",
    "        i += 1\n",
    "    return sum\n",
    "    \n",
    "\n",
    "def egg_drop_puzzle_bs(n, k):\n",
    "    low = 1\n",
    "    high = k\n",
    "    while low < high:\n",
    "        mid = low + (high - low)//2\n",
    "        if (binomial_coeff(mid, n, k) < k):\n",
    "            low = mid + 1\n",
    "        else:\n",
    "            high = mid\n",
    "    return low\n",
    "\n",
    "# for i in range(int(input())):\n",
    "#     inp = list(map(int, input().split()))\n",
    "inp = [4, 37]\n",
    "print(egg_drop_puzzle_bs(inp[0], inp[1]))"
   ]
  },
  {
   "cell_type": "code",
   "execution_count": 13,
   "metadata": {},
   "outputs": [
    {
     "name": "stdout",
     "output_type": "stream",
     "text": [
      "6\n"
     ]
    }
   ],
   "source": [
    "import sys\n",
    "\n",
    "def egg_drop_puzzle_dp(n, k):\n",
    "    dp_mat = [[0 for i in range(k + 1)] for i in range (n + 1)]\n",
    "    \n",
    "    for i in range(1, n + 1):\n",
    "        dp_mat[i][0] = 0 # 0 trials for 0th floor\n",
    "        dp_mat[i][1] = 1 # 1 trial for 1st floor\n",
    "        \n",
    "    for j in range(1, k + 1):\n",
    "        dp_mat[1][j] = i # i trials if we have 1 egg\n",
    "        \n",
    "    for i in range(2, n+1):\n",
    "        for j in range(2, k + 1):\n",
    "            dp_mat[i][j] = sys.maxsize\n",
    "            for floor in range(1, j + 1):\n",
    "                # if egg breaks, consider floor - 1 floors else consider remaining floors i.e., j-floor\n",
    "                res = 1 + max(dp_mat[i - 1][floor - 1], dp_mat[i][j - floor])\n",
    "                if res < dp_mat[i][j]:\n",
    "                    dp_mat[i][j] = res\n",
    "                    \n",
    "    return dp_mat[n][k]\n",
    "\n",
    "                \n",
    "inp = [4, 37]\n",
    "print(egg_drop_puzzle_dp(inp[0], inp[1]))"
   ]
  },
  {
   "cell_type": "markdown",
   "metadata": {},
   "source": [
    "### optimal strategy of game"
   ]
  },
  {
   "cell_type": "code",
   "execution_count": 39,
   "metadata": {},
   "outputs": [
    {
     "name": "stdout",
     "output_type": "stream",
     "text": [
      "[0, 5, 5, 15]\n",
      "[0, 0, 7, 7]\n",
      "[0, 0, 0, 10]\n",
      "[0, 0, 0, 0]\n"
     ]
    },
    {
     "data": {
      "text/plain": [
       "15"
      ]
     },
     "execution_count": 39,
     "metadata": {},
     "output_type": "execute_result"
    }
   ],
   "source": [
    "def optimal_strategy_of_game(arr, n):\n",
    "    mat = [[0 for i in range(n)] for j in range(n)]\n",
    "    myTurn = True\n",
    "    v = strategy(arr, mat, n, 0, n-1, myTurn)\n",
    "    for i in range(n):\n",
    "        print(mat[i])\n",
    "    return v\n",
    "\n",
    "def strategy(arr, mat, n ,start, end, myTurn):\n",
    "    if start >= n or end < 0 or start > end:\n",
    "        return 0\n",
    "    if mat[start][end] != 0:\n",
    "        return mat[start][end]\n",
    "\n",
    "    if myTurn:\n",
    "        pickedFromStart = arr[start] + strategy(arr, mat, n, start + 1, end, False)\n",
    "        pickedFromEnd = arr[end] + strategy(arr, mat, n, start, end - 1, False)\n",
    "        mat[start][end] = max(pickedFromStart, pickedFromEnd)\n",
    "    else:  #opponent willl choose coin such that you'll have min value.\n",
    "        pickedFromStart = strategy(arr, mat, n, start + 1, end, True)\n",
    "        pickedFromEnd = strategy(arr, mat, n, start, end - 1, True)\n",
    "        mat[start][end] = min(pickedFromStart, pickedFromEnd)\n",
    "    return mat[start][end]\n",
    "\n",
    "\n",
    "arr = [5, 3, 7, 10]\n",
    "n = len(arr)\n",
    "optimal_strategy_of_game(arr, n)\n"
   ]
  },
  {
   "cell_type": "markdown",
   "metadata": {},
   "source": [
    "### shortest common supersequence"
   ]
  },
  {
   "cell_type": "code",
   "execution_count": 2,
   "metadata": {},
   "outputs": [
    {
     "name": "stdout",
     "output_type": "stream",
     "text": [
      "6\n"
     ]
    }
   ],
   "source": [
    "def shortest_common_supersequence(str1, str2):\n",
    "    n1 = len(str1)\n",
    "    n2 = len(str2)\n",
    "    mat = [[0 for i in range(n2 + 1)] for j in range(n1 + 1)]\n",
    "    \n",
    "    for i in range(1, n1+1):\n",
    "        for j in range(1, n2+1):\n",
    "            if str1[i-1] == str2[j-1]:\n",
    "                mat[i][j] = mat[i-1][j-1] + 1\n",
    "            else:\n",
    "                mat[i][j] = max(mat[i][j-1], mat[i-1][j])\n",
    "    return n1 + n2 - mat[n1][n2]\n",
    "\n",
    "\n",
    "str1, str2 = \"abcd\", \"xycd\"\n",
    "print(shortest_common_supersequence(str1, str2))"
   ]
  },
  {
   "cell_type": "code",
   "execution_count": 9,
   "metadata": {},
   "outputs": [
    {
     "ename": "SyntaxError",
     "evalue": "invalid syntax (<ipython-input-9-7010d68abd89>, line 3)",
     "output_type": "error",
     "traceback": [
      "\u001b[0;36m  File \u001b[0;32m\"<ipython-input-9-7010d68abd89>\"\u001b[0;36m, line \u001b[0;32m3\u001b[0m\n\u001b[0;31m    c ||= True\u001b[0m\n\u001b[0m        ^\u001b[0m\n\u001b[0;31mSyntaxError\u001b[0m\u001b[0;31m:\u001b[0m invalid syntax\n"
     ]
    }
   ],
   "source": [
    "c = True\n",
    "c = not c\n",
    "c ||= True\n",
    "c"
   ]
  },
  {
   "cell_type": "code",
   "execution_count": null,
   "metadata": {},
   "outputs": [],
   "source": []
  }
 ],
 "metadata": {
  "kernelspec": {
   "display_name": "Python 3",
   "language": "python",
   "name": "python3"
  },
  "language_info": {
   "codemirror_mode": {
    "name": "ipython",
    "version": 3
   },
   "file_extension": ".py",
   "mimetype": "text/x-python",
   "name": "python",
   "nbconvert_exporter": "python",
   "pygments_lexer": "ipython3",
   "version": "3.7.3"
  }
 },
 "nbformat": 4,
 "nbformat_minor": 2
}
