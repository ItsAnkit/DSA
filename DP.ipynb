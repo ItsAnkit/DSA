{
 "cells": [
  {
   "cell_type": "code",
   "execution_count": 6,
   "metadata": {},
   "outputs": [
    {
     "data": {
      "text/plain": [
       "4"
      ]
     },
     "execution_count": 6,
     "metadata": {},
     "output_type": "execute_result"
    }
   ],
   "source": [
    "def longest_common_substring(str1, str2, size1, size2):\n",
    "    dp_mat = [[0 for i in range(size2 + 1)] for j in range(size1 + 1)]\n",
    "    longest = 0\n",
    "    \n",
    "    for i in range(size1 + 1):\n",
    "        for j in range(size2 + 1):\n",
    "            if i == 0 or j == 0:\n",
    "                dp_mat[i][j] = 0\n",
    "            elif str1[i - 1] == str2[j - 1]:\n",
    "                dp_mat[i][j] = dp_mat[i - 1][j - 1] + 1\n",
    "                longest = max(longest, dp_mat[i][j])\n",
    "                \n",
    "    return longest\n",
    "\n",
    "longest_common_substring(\"ABCDGH\", \"ACDGHR\", 6, 6)"
   ]
  },
  {
   "cell_type": "code",
   "execution_count": 10,
   "metadata": {},
   "outputs": [
    {
     "data": {
      "text/plain": [
       "3"
      ]
     },
     "execution_count": 10,
     "metadata": {},
     "output_type": "execute_result"
    }
   ],
   "source": [
    "def longest_common_subsequence(str1, str2, size1, size2):\n",
    "    mat = [[0 for i in range(size2 + 1)] for j in range(size1 + 1)]\n",
    "\n",
    "    for i in range(size1 + 1):\n",
    "        for j in range(size2 + 1):\n",
    "            if i == 0 or j == 0:\n",
    "                mat[i][j] = 0\n",
    "            elif str1[i - 1] == str2[j - 1]:\n",
    "                mat[i][j] = mat[i - 1][j - 1] + 1\n",
    "            else:\n",
    "                mat[i][j] = max(mat[i - 1][j], mat[i][j - 1])\n",
    "    \n",
    "    return mat[size1][size2]\n",
    "\n",
    "longest_common_subsequence(\"ABCDGH\", \"AEDFHR\", 6, 6)"
   ]
  },
  {
   "cell_type": "code",
   "execution_count": 22,
   "metadata": {},
   "outputs": [
    {
     "data": {
      "text/plain": [
       "9"
      ]
     },
     "execution_count": 22,
     "metadata": {},
     "output_type": "execute_result"
    }
   ],
   "source": [
    "# C is capacity and n is no. of items\n",
    "def knapsack(weights, values, n, C):\n",
    "    mat = [[0 for i in range(C + 1)] for j in range(n + 1)]\n",
    "    \n",
    "    for i in range(n + 1):\n",
    "        for w in range(C + 1):\n",
    "            if i == 0 or w == 0:\n",
    "                mat[i][w] = 0\n",
    "            elif weights[i - 1] <= w:\n",
    "                # first one is sum of value of last item + mat value of capacity reduced because of last item \n",
    "                # and number of items reduced by 1\n",
    "                # i -1 =  last item\n",
    "                # w - weights[i - 1] = remaining capacity after adding last item to knapsack\n",
    "                mat[i][w] = max( mat[i - 1][w - weights[i - 1]] + values[i - 1] , mat[i - 1][w] )\n",
    "            else:\n",
    "                mat[i][w] = mat[i - 1][w]\n",
    "            \n",
    "    return mat[n][C]\n",
    "\n",
    "weights = [1,2,3]\n",
    "values = [4, 5, 1]\n",
    "C = 4\n",
    "n = 3\n",
    "knapsack(weights, values, n, C)"
   ]
  },
  {
   "cell_type": "code",
   "execution_count": 17,
   "metadata": {},
   "outputs": [
    {
     "name": "stdout",
     "output_type": "stream",
     "text": [
      "3\n"
     ]
    }
   ],
   "source": [
    "def longest_increasing_subsequence(arr, size):\n",
    "    lis = [1] * size\n",
    "    \n",
    "    for i in range(1, size):\n",
    "        # check for values smaller than current element before it\n",
    "        for j in range(i):\n",
    "            if arr[i] > arr[j] and lis[i] <= lis[j]:\n",
    "                lis[i] = lis[j] + 1\n",
    "    \n",
    "    return max(lis)\n",
    "    \n",
    "arr = [5, 8, 3, 7, 9, 1]\n",
    "n = 6\n",
    "print(longest_increasing_subsequence(arr, n))"
   ]
  },
  {
   "cell_type": "code",
   "execution_count": 1,
   "metadata": {},
   "outputs": [
    {
     "name": "stdout",
     "output_type": "stream",
     "text": [
      "3\n"
     ]
    }
   ],
   "source": [
    "import sys\n",
    "\n",
    "def min_number_of_coins(coins, value):\n",
    "    if value == 0:\n",
    "        return 0\n",
    "    \n",
    "    res = sys.maxsize\n",
    "\n",
    "    for i in range(len(coins)):\n",
    "        if coins[i] <= value:\n",
    "            sub_res = min_number_of_coins(coins, value - coins[i])\n",
    "\n",
    "            if sub_res != sys.maxsize and sub_res + 1 < res:\n",
    "                res = sub_res + 1\n",
    "\n",
    "    return res\n",
    "\n",
    "def dp_min_number_of_coins(coins, value):\n",
    "    if value == 0:\n",
    "        return 0\n",
    "\n",
    "    val_arr = [sys.maxsize] * (value + 1)\n",
    "    val_arr[0] = 0\n",
    "\n",
    "    for val in range(1, value + 1):\n",
    "        for coin in coins:\n",
    "            if coin <= val:\n",
    "                sub_res = val_arr[val - coin]\n",
    "                if sub_res != sys.maxsize and sub_res + 1 < val_arr[val]:\n",
    "                    val_arr[val] = sub_res + 1\n",
    "                    \n",
    "    return val_arr[value]\n",
    "                \n",
    "\n",
    "coins = [9, 5, 6, 1]\n",
    "value = 23\n",
    "print(dp_min_number_of_coins(coins, value))"
   ]
  },
  {
   "cell_type": "markdown",
   "metadata": {},
   "source": [
    "### edit distance        "
   ]
  },
  {
   "cell_type": "code",
   "execution_count": 1,
   "metadata": {},
   "outputs": [
    {
     "name": "stdout",
     "output_type": "stream",
     "text": [
      "[0, 1, 2, 3, 4, 5, 6, 7, 8]\n",
      "[1, 0, 1, 2, 3, 4, 5, 6, 7]\n",
      "[2, 1, 1, 2, 2, 3, 4, 5, 6]\n",
      "[3, 2, 2, 2, 3, 3, 4, 5, 6]\n",
      "[4, 3, 3, 3, 3, 4, 3, 4, 5]\n",
      "[5, 4, 3, 4, 4, 4, 4, 3, 4]\n",
      "[6, 5, 4, 4, 5, 5, 5, 4, 3]\n",
      "3\n"
     ]
    }
   ],
   "source": [
    "def edit_distance(str1, str2):\n",
    "    len1 = len(str1)\n",
    "    len2 = len(str2)\n",
    "    dp = [[0 for i in range(len2 + 1)] for j in range(len1 + 1)]\n",
    "    \n",
    "    for i in range(len1 + 1):\n",
    "        for j in range(len2 + 1):\n",
    "            if i == 0:\n",
    "                dp[i][j] = j\n",
    "            elif j == 0:\n",
    "                dp[i][j] = i\n",
    "            elif str1[i - 1] == str2[j - 1]:\n",
    "                dp[i][j] = dp[i - 1][j - 1]\n",
    "            else:\n",
    "                dp[i][j] = 1 + min(dp[i][j - 1], # insert \n",
    "                                   dp[i - 1][j], # delete\n",
    "                                   dp[i - 1][j - 1] #replace\n",
    "                                  )\n",
    "    \n",
    "    for i in range(len1 + 1):\n",
    "        print(dp[i])\n",
    "       \n",
    "    return dp[len1][len2]\n",
    "            \n",
    "    \n",
    "str1 = \"sunday\"\n",
    "str2 = \"saturday\"\n",
    "\n",
    "print(edit_distance(str1, str2))"
   ]
  },
  {
   "cell_type": "markdown",
   "metadata": {},
   "source": [
    "### min number of jumps"
   ]
  },
  {
   "cell_type": "code",
   "execution_count": 5,
   "metadata": {},
   "outputs": [],
   "source": [
    "from sys import maxsize\n",
    "\n",
    "def min_number_of_jumps(arr, size):\n",
    "    jump_arr = [maxsize for i in range(size)]\n",
    "    if size == 0 or arr[0] == 0:\n",
    "        return -1\n",
    "    jump_arr[0] = 0\n",
    "    \n",
    "    for i in range(size):\n",
    "        end = min(size, i + arr[i] + 1)\n",
    "        for j in range(i + 1, end):\n",
    "            jump_arr[j] = min(jump_arr[j], jump_arr[i] + 1)\n",
    "    return jump_arr[size - 1] if jump_arr[size - 1] != maxsize else -1\n",
    "\n",
    "\n",
    "# for t in range(int(input())):\n",
    "#     size = int(input())\n",
    "#     arr = list(map(int, input().split()))\n",
    "#     print(min_number_of_jumps(arr, size))\n",
    "\n",
    "    \n",
    "# 2\n",
    "# 11\n",
    "# 1 3 5 8 9 2 6 7 6 8 9\n",
    "# 4\n",
    "# 2 1 0 3"
   ]
  },
  {
   "cell_type": "markdown",
   "metadata": {},
   "source": [
    "### subset sum problem"
   ]
  },
  {
   "cell_type": "code",
   "execution_count": 17,
   "metadata": {},
   "outputs": [
    {
     "name": "stdout",
     "output_type": "stream",
     "text": [
      "[True, True, True, True, True]\n",
      "[False, True, True, True, True]\n",
      "[False, False, True, True, True]\n",
      "[False, False, True, True, True]\n",
      "[False, False, False, True, True]\n",
      "[False, False, False, True, True]\n",
      "True\n"
     ]
    }
   ],
   "source": [
    "# O(sum * size)\n",
    "\n",
    "def partition_subset_equal_sum(arr):\n",
    "    size = len(arr)\n",
    "    arr_sum = sum(arr)\n",
    "    half_sum = arr_sum//2 + 1\n",
    "    if (arr_sum%2) != 0:\n",
    "        return False\n",
    "    dp_mat = [[True for i in range(size + 1)] for j in range(half_sum) ]\n",
    "    \n",
    "    for i in range(1, half_sum):\n",
    "        dp_mat[i][0] = False\n",
    "    \n",
    "    for i in range(1, half_sum):\n",
    "        for j in range(1, size + 1):\n",
    "            dp_mat[i][j] = dp_mat[i][j-1]\n",
    "            if i >= arr[j - 1]:\n",
    "                dp_mat[i][j] = dp_mat[i][j] or dp_mat[i - arr[j-1]][j-1]\n",
    "    \n",
    "    for i in range(half_sum):\n",
    "        print(dp_mat[i], end= \"\\n\")           \n",
    "    return dp_mat[half_sum - 1][size]\n",
    "                \n",
    "# arr = [3, 1, 5, 9, 12]\n",
    "arr = [1,2,3,4]\n",
    "print(partition_subset_equal_sum(arr))"
   ]
  },
  {
   "cell_type": "code",
   "execution_count": null,
   "metadata": {},
   "outputs": [],
   "source": []
  }
 ],
 "metadata": {
  "kernelspec": {
   "display_name": "Python 3",
   "language": "python",
   "name": "python3"
  },
  "language_info": {
   "codemirror_mode": {
    "name": "ipython",
    "version": 3
   },
   "file_extension": ".py",
   "mimetype": "text/x-python",
   "name": "python",
   "nbconvert_exporter": "python",
   "pygments_lexer": "ipython3",
   "version": "3.7.3"
  }
 },
 "nbformat": 4,
 "nbformat_minor": 2
}
