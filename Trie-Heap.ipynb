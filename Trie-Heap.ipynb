{
 "cells": [
  {
   "cell_type": "markdown",
   "metadata": {},
   "source": [
    "## Trie"
   ]
  },
  {
   "cell_type": "markdown",
   "metadata": {},
   "source": [
    "#### infinite monkey problem"
   ]
  },
  {
   "cell_type": "code",
   "execution_count": 2,
   "metadata": {},
   "outputs": [
    {
     "name": "stdout",
     "output_type": "stream",
     "text": [
      "res ['314', '15926535897', '9323']\n"
     ]
    }
   ],
   "source": [
    "class TrieNode:\n",
    "    def __init__(self):\n",
    "        self.children = [None] * 10\n",
    "        self.ending = False\n",
    "\n",
    "def construct_trie(root, val):\n",
    "    node = root\n",
    "    for i in val:\n",
    "        if node.children[int(i)] is None:\n",
    "            node.children[int(i)] = TrieNode()\n",
    "        node = node.children[int(i)]\n",
    "    \n",
    "        \n",
    "def infinite_monkey_problem(pi_str, arr):\n",
    "    root = TrieNode()\n",
    "    for ele in arr:\n",
    "        construct_trie(root, ele)\n",
    "    i = 0\n",
    "    substr_start = 0\n",
    "    node = root\n",
    "    res = []\n",
    "    while i < len(pi_str):\n",
    "        number = int(pi_str[i])\n",
    "        if node and node.children[number] is not None:\n",
    "            node = node.children[number]\n",
    "            i += 1\n",
    "        else:\n",
    "            res.append(pi_str[substr_start:i])\n",
    "            substr_start = i\n",
    "            node = root\n",
    "    print(\"res\", res)\n",
    "\n",
    "\n",
    "pi = '3141592653589793238462643383279'\n",
    "arr = ['314', '49', '9001', '15926535897', '14', '9323', '8462643383279', '4', '793']\n",
    "infinite_monkey_problem(pi, arr)"
   ]
  },
  {
   "cell_type": "markdown",
   "metadata": {},
   "source": [
    "#### Trie implementation for finding strings which are not prefixes"
   ]
  },
  {
   "cell_type": "code",
   "execution_count": 4,
   "metadata": {},
   "outputs": [
    {
     "name": "stdout",
     "output_type": "stream",
     "text": [
      "apple\n",
      "there\n",
      "xyz\n"
     ]
    }
   ],
   "source": [
    "import pdb\n",
    "\n",
    "class TrieNode:\n",
    "    def __init__(self):\n",
    "        self.children = [None] * 26\n",
    "        self.isStringEnd = False\n",
    "\n",
    "def insert_node(key, node):\n",
    "    for i in range(len(key)):\n",
    "        index = ord(key[i]) - 97\n",
    "        if node.children[index] is None:\n",
    "            node.children[index] = TrieNode()\n",
    "        node = node.children[index]\n",
    "\n",
    "    # check for prefix\n",
    "    for i in range(26):\n",
    "        if node.children[i]:\n",
    "            break\n",
    "\n",
    "    # it's reference array is empty and reached end of String\n",
    "    if i == 25:\n",
    "        node.isStringEnd = True\n",
    "\n",
    "def display(node, arr, level):\n",
    "    if node.isStringEnd:\n",
    "        arr[level:] = \"\"\n",
    "        print(\"\".join(arr))\n",
    "\n",
    "    # We go through one char at a time and proceed with word of that letter by incrementing level and accrodngly storing it in array \n",
    "    for i in range(26):\n",
    "        if node.children[i] is not None:\n",
    "            char = chr(97 + i)\n",
    "            arr[level] = char\n",
    "            display(node.children[i], arr, level + 1)\n",
    "\n",
    "keys = [\"apple\", \"app\", \"there\", \"the\", \"xyz\"]\n",
    "\n",
    "root = TrieNode()\n",
    "\n",
    "for key in keys:\n",
    "    insert_node(key, root)\n",
    "\n",
    "level = 0\n",
    "arr = [\"\"] * 50\n",
    "display(root, arr, level)"
   ]
  },
  {
   "cell_type": "markdown",
   "metadata": {},
   "source": [
    "#### longest prefix corresponding to all phone numbers"
   ]
  },
  {
   "cell_type": "code",
   "execution_count": 6,
   "metadata": {},
   "outputs": [
    {
     "name": "stdout",
     "output_type": "stream",
     "text": [
      "213\n",
      "12\n",
      "1234\n"
     ]
    }
   ],
   "source": [
    "class TrieNode:\n",
    "    def __init__(self):\n",
    "        self.children = [None] * 10\n",
    "        self.isStringEnd = False\n",
    "        \n",
    "def insert_node(key, node):\n",
    "    for i in key:\n",
    "        if node.children[int(i)] is None:\n",
    "            node.children[int(i)] = TrieNode()\n",
    "        node = node.children[int(i)]\n",
    "        \n",
    "    node.isStringEnd = True\n",
    "    \n",
    "def search(area_codes, phones):\n",
    "    root = TrieNode()\n",
    "    for area_code in area_codes:\n",
    "        insert_node(area_code, root)\n",
    "\n",
    "    for phone in phones:\n",
    "        prefix = []\n",
    "        node = root\n",
    "        for i in phone:\n",
    "            if node.children[int(i)] is None:\n",
    "                break\n",
    "            else:\n",
    "                prefix.append(i)\n",
    "                node = node.children[int(i)]\n",
    "        print(\"\".join(prefix), end = \"\\n\")\n",
    "                \n",
    "\n",
    "area_codes = [\"213\", \"21358\", \"1234\", \"12\"]\n",
    "phones = [\"21349049\", \"1204539492\", \"123490485904\"]\n",
    "search(area_codes, phones)"
   ]
  },
  {
   "cell_type": "markdown",
   "metadata": {},
   "source": [
    "## Heap"
   ]
  },
  {
   "cell_type": "markdown",
   "metadata": {},
   "source": [
    "#### heap sort"
   ]
  },
  {
   "cell_type": "code",
   "execution_count": 8,
   "metadata": {},
   "outputs": [
    {
     "name": "stdout",
     "output_type": "stream",
     "text": [
      "[1, 3, 4, 5, 7, 8, 9, 11]\n"
     ]
    }
   ],
   "source": [
    "# heap application in k largest elements in array\n",
    "\n",
    "import math\n",
    "\n",
    "def max_heapify(arr, i, heapsize):\n",
    "    # O(lgn)\n",
    "    l = 2*i + 1\n",
    "    r = 2*i + 2\n",
    "    largest = i\n",
    "    if l < heapsize and arr[l] > arr[largest]:\n",
    "        largest = l\n",
    "    if r < heapsize and arr[r] > arr[largest]:\n",
    "        largest = r\n",
    "    if largest != i:\n",
    "        arr[largest], arr[i] = arr[i], arr[largest]\n",
    "        max_heapify(arr, largest, heapsize)\n",
    "    \n",
    "\n",
    "def heap_sort(arr):\n",
    "    length = len(arr)\n",
    "    heapsize = length\n",
    "    # build max heap\n",
    "    # we are considering length/2 as we have to consider it's left and right child i.e., 2i + 1 and 2i + 2\n",
    "    # so elements are after length/2 doesn't have any left and right child for heapify procedure\n",
    "    for i in range(length//2 - 1, -1, -1):\n",
    "        max_heapify(arr, i, heapsize)\n",
    "    \n",
    "    # O(n)\n",
    "    for i in range(length - 1, 0, -1):\n",
    "        # replace max element at root with the last heap element\n",
    "        arr[i], arr[0] = arr[0], arr[i]\n",
    "        heapsize = i\n",
    "        max_heapify(arr, 0, heapsize)\n",
    "        \n",
    "arr = [9, 5, 1, 4, 3, 8, 11, 7]\n",
    "heap_sort(arr)\n",
    "print(arr)"
   ]
  },
  {
   "cell_type": "markdown",
   "metadata": {},
   "source": [
    "#### min heap"
   ]
  },
  {
   "cell_type": "code",
   "execution_count": 10,
   "metadata": {},
   "outputs": [
    {
     "name": "stdout",
     "output_type": "stream",
     "text": [
      "3\n",
      "7\n"
     ]
    }
   ],
   "source": [
    "from heapq import heappush, heappop, heapify\n",
    "\n",
    "# class Item:\n",
    "#     def __init__(self, data, priority): \n",
    "#         self.data = data\n",
    "#         self.priority = priority\n",
    "#     end\n",
    "    \n",
    "class MinHeap:\n",
    "    def __init__(self):\n",
    "        self.heap = []\n",
    "    \n",
    "    def insert(self, data):\n",
    "        heappush(self.heap, data)\n",
    "    \n",
    "    def parent(self, i):\n",
    "        return i // 2\n",
    "    \n",
    "    def extractMin(self):\n",
    "        heappop(self.heap) \n",
    "    \n",
    "    def get_min(self):\n",
    "        return self.heap[0]\n",
    "    \n",
    "    def delete(self, i):\n",
    "        self.heap[i] = float(\"-inf\")\n",
    "        heapify(self.heap)\n",
    "        self.extractMin()\n",
    "    \n",
    "heap = MinHeap()\n",
    "heap.insert(10)\n",
    "heap.insert(4)\n",
    "heap.insert(13)\n",
    "heap.insert(7)\n",
    "heap.insert(3)\n",
    "print(heap.get_min())\n",
    "heap.delete(0)\n",
    "heap.delete(0)\n",
    "print(heap.get_min())\n",
    "    "
   ]
  },
  {
   "cell_type": "markdown",
   "metadata": {},
   "source": [
    "#### priority queue"
   ]
  },
  {
   "cell_type": "code",
   "execution_count": 12,
   "metadata": {},
   "outputs": [
    {
     "name": "stdout",
     "output_type": "stream",
     "text": [
      "e\n"
     ]
    }
   ],
   "source": [
    "class PriorityQueue:\n",
    "    def __init__(self):\n",
    "        self.heap = []\n",
    "        \n",
    "    def get_max(self):\n",
    "        return self.heap[0][1]   \n",
    "        \n",
    "    def insert(self, data):\n",
    "        self.heap.append(data)\n",
    "        self.build_heap()\n",
    "        \n",
    "    def build_heap(self):\n",
    "        heap_size = len(self.heap)\n",
    "        for i in range(heap_size//2 - 1, -1, -1):\n",
    "            self.heapify(i, heap_size)\n",
    "        \n",
    "    def heapify(self, i, heap_size):\n",
    "        left = 2 * i + 1\n",
    "        right = 2 * i + 2\n",
    "        largest = i\n",
    "        if left < heap_size and self.heap[left][0] > self.heap[i][0]:\n",
    "            largest = left\n",
    "        if right < heap_size and self.heap[right][0] > self.heap[i][0]:\n",
    "            largest = right\n",
    "        if largest != i:\n",
    "            self.heap[i], self.heap[largest] = self.heap[largest], self.heap[i]\n",
    "            self.heapify(largest, heap_size)\n",
    "        \n",
    "    def pop(self):\n",
    "        if (len(self.heap) == 0):\n",
    "            return -1\n",
    "        else:\n",
    "            self.heap.pop(0)\n",
    "            self.build_heap()\n",
    "    \n",
    "pq = PriorityQueue()\n",
    "pq.insert([1, \"a\"])\n",
    "pq.insert([4, \"b\"])\n",
    "\n",
    "pq.insert([7, \"c\"])\n",
    "pq.insert([6, \"d\"])\n",
    "pq.insert([5, \"e\"])\n",
    "pq.insert([3, \"f\"])\n",
    "pq.insert([2, \"g\"])\n",
    "\n",
    "pq.pop()\n",
    "pq.pop()\n",
    "print(pq.get_max())"
   ]
  },
  {
   "cell_type": "markdown",
   "metadata": {},
   "source": [
    "#### kth smallest in matrix"
   ]
  },
  {
   "cell_type": "code",
   "execution_count": 13,
   "metadata": {},
   "outputs": [
    {
     "name": "stdout",
     "output_type": "stream",
     "text": [
      "32\n"
     ]
    }
   ],
   "source": [
    "# kth smallest in matrix\n",
    "from sys import maxsize\n",
    "\n",
    "class HeapNode:\n",
    "    def __init__(self, val, row, col):\n",
    "        self.val = val\n",
    "        self.row = row\n",
    "        self.col = col\n",
    "        \n",
    "def min_heapify(harr, i, heap_size):\n",
    "    left = 2*i + 1\n",
    "    right = 2*i + 2\n",
    "    smallest = i\n",
    "    if left < heap_size and harr[left].val < harr[smallest].val:\n",
    "        smallest = left\n",
    "    if right < heap_size and harr[right].val < harr[smallest].val:\n",
    "        smallest = right\n",
    "    if smallest != i:\n",
    "        harr[i], harr[smallest] = harr[smallest], harr[i]\n",
    "        min_heapify(harr, smallest, heap_size)\n",
    "    \n",
    "def build_heap(harr, heap_size):\n",
    "    i = (heap_size - 1) // 2\n",
    "    while i >= 0:\n",
    "        min_heapify(harr, i, heap_size)\n",
    "        i -= 1\n",
    "    \n",
    "def kth_smallest_in_matrix(matrix, size, k):\n",
    "    if k <= 0 and k > size * size:\n",
    "        return maxsize\n",
    "    harr = [0] * size\n",
    "    \n",
    "    # build heap for first row...\n",
    "    for i in range(size):\n",
    "        harr[i] = HeapNode(matrix[0][i], 0, i)    \n",
    "    build_heap(harr, size)\n",
    "    \n",
    "    h_root = HeapNode(0, 0, 0)\n",
    "\n",
    "    for i in range(k): \n",
    "        h_root = harr[0]\n",
    "        \n",
    "        node_val = matrix[h_root.row + 1][h_root.col] if h_root.row < (size - 1) else maxsize\n",
    "        \n",
    "        harr[0] = HeapNode(node_val, h_root.row + 1, h_root.col)\n",
    "        min_heapify(harr, 0, size)\n",
    "        \n",
    "    return h_root.val\n",
    "        \n",
    "matrix = [[10, 20, 30, 40],  \n",
    "          [15, 25, 35, 45],  \n",
    "          [25, 29, 37, 48], \n",
    "          [32, 33, 39, 50]] \n",
    "print(kth_smallest_in_matrix(matrix, 4, 8))"
   ]
  },
  {
   "cell_type": "code",
   "execution_count": 31,
   "metadata": {},
   "outputs": [
    {
     "name": "stdout",
     "output_type": "stream",
     "text": [
      "r 2 1\n",
      "mat 1 1 2 1 0\n",
      "mat 0 1 1 1 0\n",
      "mat 1 0 1 1 1\n",
      "mat 1 2 1 1 2\n",
      "mat 0 2 1 2 0\n",
      "mat 1 3 1 2 2\n",
      "mat 2 2 1 2 3\n",
      "mat 2 0 2 1 1\n",
      "mat 2 2 2 1 2\n",
      "mat 3 1 2 1 3\n"
     ]
    },
    {
     "data": {
      "text/plain": [
       "1"
      ]
     },
     "execution_count": 31,
     "metadata": {},
     "output_type": "execute_result"
    }
   ],
   "source": [
    "#code\n",
    "def path_exist(mat, dim):\n",
    "    for i in range(dim):\n",
    "        for j in range(dim):\n",
    "            if mat[i][j] == 1:\n",
    "                visited = [[False for m in range(dim)] for n in range(dim)]\n",
    "                print('r', i, j)\n",
    "                if traverse(visited, mat, dim, i, j):\n",
    "                    return 1\n",
    "                else:\n",
    "                    return 0\n",
    "    return 0\n",
    "    \n",
    "def traverse(visited, mat, dim, i, j):\n",
    "    visited[i][j] = True\n",
    "    row_nbrs = [-1, 0, 0, 1]\n",
    "    col_nbrs = [0, -1, 1, 0]\n",
    "    for k in range(4):\n",
    "        r = row_nbrs[k] + i\n",
    "        c = col_nbrs[k] + j\n",
    "        if r >= 0 and r < dim and c >= 0 and c < dim and visited[r][c] == False:\n",
    "            if mat[r][c] == 2:\n",
    "                return True\n",
    "            elif mat[r][c] == 3:\n",
    "                if traverse(visited, mat, dim, r, c):\n",
    "                    return True\n",
    "    return False\n",
    "                \n",
    "    \n",
    "mat = [[3, 0, 0, 0],\n",
    "       [0, 3, 3, 0],\n",
    "       [0, 1, 0, 3],\n",
    "       [0, 2, 3, 3]]\n",
    "dim = 4\n",
    "path_exist(mat, dim)"
   ]
  },
  {
   "cell_type": "code",
   "execution_count": null,
   "metadata": {},
   "outputs": [],
   "source": []
  }
 ],
 "metadata": {
  "kernelspec": {
   "display_name": "Python 3",
   "language": "python",
   "name": "python3"
  },
  "language_info": {
   "codemirror_mode": {
    "name": "ipython",
    "version": 3
   },
   "file_extension": ".py",
   "mimetype": "text/x-python",
   "name": "python",
   "nbconvert_exporter": "python",
   "pygments_lexer": "ipython3",
   "version": "3.7.3"
  }
 },
 "nbformat": 4,
 "nbformat_minor": 2
}
