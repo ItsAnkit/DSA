{
 "cells": [
  {
   "cell_type": "code",
   "execution_count": 1,
   "metadata": {},
   "outputs": [],
   "source": [
    "class Node:\n",
    "    def __init__(self, data):\n",
    "        self.data = data\n",
    "        self.left = None\n",
    "        self.right = None\n",
    "        \n",
    "root = Node(10)\n",
    "root.left = Node(5)\n",
    "root.right = Node(20)\n",
    "root.left.left = Node(3)\n",
    "root.left.right = Node(8)\n",
    "root.left.right.left = Node(6)\n",
    "root.right.right = Node(30)\n"
   ]
  },
  {
   "cell_type": "markdown",
   "metadata": {},
   "source": [
    "#### left view"
   ]
  },
  {
   "cell_type": "code",
   "execution_count": 2,
   "metadata": {},
   "outputs": [
    {
     "name": "stdout",
     "output_type": "stream",
     "text": [
      "10 5 3 6 "
     ]
    }
   ],
   "source": [
    "level = -1\n",
    "\n",
    "def left_view(root, depth = 0):\n",
    "    global level\n",
    "    if root is None:\n",
    "        return\n",
    "    \n",
    "    if depth > level:\n",
    "        print(root.data, end = \" \")\n",
    "        level = depth\n",
    "    \n",
    "    left_view(root.left, depth + 1)\n",
    "    left_view(root.right, depth + 1)\n",
    "\n",
    "left_view(root)"
   ]
  },
  {
   "cell_type": "markdown",
   "metadata": {},
   "source": [
    "#### Level Order Traversal"
   ]
  },
  {
   "cell_type": "code",
   "execution_count": 10,
   "metadata": {},
   "outputs": [
    {
     "name": "stdout",
     "output_type": "stream",
     "text": [
      "10 5 20 3 8 15 "
     ]
    }
   ],
   "source": [
    "def level_order_traversal(root):\n",
    "    queue = [root]\n",
    "\n",
    "    while len(queue) > 0:\n",
    "        node = queue.pop(0)\n",
    "        print(node.data, end = \" \")\n",
    "        if node.left is not None:\n",
    "            queue.append(node.left)\n",
    "        if node.right is not None:\n",
    "            queue.append(node.right)\n",
    "\n",
    "level_order_traversal(root)"
   ]
  },
  {
   "cell_type": "markdown",
   "metadata": {},
   "source": [
    "#### Spiral Level Order Traversal"
   ]
  },
  {
   "cell_type": "code",
   "execution_count": 67,
   "metadata": {},
   "outputs": [
    {
     "name": "stdout",
     "output_type": "stream",
     "text": [
      "10 5 20 8 3 15 "
     ]
    }
   ],
   "source": [
    "def level_order_traversal_spiral(root):\n",
    "    queue1 = [root]\n",
    "    queue2 = []\n",
    "    \n",
    "    while (len(queue1) > 0 or len(queue2) > 0):\n",
    "        # traverse left to right\n",
    "        while len(queue1) > 0:\n",
    "            node = queue1.pop(0)\n",
    "            print(node.data, end = \" \")\n",
    "            if node.left is not None:\n",
    "                queue2.append(node.left)\n",
    "            if node.right is not None:\n",
    "                queue2.append(node.right)\n",
    "\n",
    "        # traverse right to left\n",
    "        while len(queue2) > 0:\n",
    "            node = queue2.pop(0)\n",
    "            print(node.data, end = \" \")\n",
    "            if node.right is not None:\n",
    "                queue1.append(node.right)\n",
    "            if node.left is not None:\n",
    "                queue1.append(node.left)\n",
    "\n",
    "level_order_traversal_spiral(root)"
   ]
  },
  {
   "cell_type": "markdown",
   "metadata": {},
   "source": [
    "### Vertical Traversal"
   ]
  },
  {
   "cell_type": "code",
   "execution_count": 3,
   "metadata": {},
   "outputs": [
    {
     "name": "stdout",
     "output_type": "stream",
     "text": [
      "3 5 6 10 8 20 30 "
     ]
    }
   ],
   "source": [
    "def vertical_traversal(root):\n",
    "    h = {}\n",
    "    traverse(root, h, 0)\n",
    "    for key in sorted(h.keys()):\n",
    "        for ele in h[key]:\n",
    "            print(ele, end = \" \")\n",
    "    \n",
    "def traverse(node, h, vertical_dist):\n",
    "    if node is None:\n",
    "        return\n",
    "    \n",
    "    if vertical_dist in h:\n",
    "        h[vertical_dist].append(node.data)\n",
    "    else:\n",
    "        h[vertical_dist] = [node.data]\n",
    "\n",
    "    traverse(node.left, h , vertical_dist - 1)\n",
    "    traverse(node.right, h, vertical_dist + 1)\n",
    "    \n",
    "vertical_traversal(root)"
   ]
  },
  {
   "cell_type": "markdown",
   "metadata": {},
   "source": [
    "### connect nodes at same level"
   ]
  },
  {
   "cell_type": "code",
   "execution_count": 81,
   "metadata": {},
   "outputs": [],
   "source": [
    "def connect_node(root, depth = 0):\n",
    "    queue = [root, None]\n",
    "    connect(queue)\n",
    "\n",
    "def connect(queue):\n",
    "    if len(queue) == 0:\n",
    "        return\n",
    "\n",
    "    node = queue.pop(0)\n",
    "    # traversing each level\n",
    "    while node is not None:\n",
    "        if node.left is not None:\n",
    "            queue.append(node.left)\n",
    "        if node.right is not None:\n",
    "            queue.append(node.right)\n",
    "        nextNode = queue.pop(0)\n",
    "        node.nextRight = nextNode\n",
    "        node = nextNode\n",
    "        \n",
    "    if len(queue) > 0:\n",
    "        queue.append(None)\n",
    "    connect(queue)        \n",
    "    \n",
    "connect_node(root)   "
   ]
  },
  {
   "cell_type": "markdown",
   "metadata": {},
   "source": [
    "### Lowest Common Ancestor"
   ]
  },
  {
   "cell_type": "code",
   "execution_count": 8,
   "metadata": {},
   "outputs": [
    {
     "name": "stdout",
     "output_type": "stream",
     "text": [
      "3\n"
     ]
    }
   ],
   "source": [
    "def lca(root, value1, value2):\n",
    "    while root is not None:\n",
    "        if root.data > value1 and root.data > value2:\n",
    "            root = root.left\n",
    "        elif root.data < value1 and root.data < value2:\n",
    "            root = root.right\n",
    "        else:\n",
    "            break\n",
    "    if root is None:\n",
    "        return -1\n",
    "    return root.data\n",
    "\n",
    "# root = Node(1) \n",
    "# root.left = Node(2) \n",
    "# root.right = Node(3) \n",
    "# root.left.left = Node(4) \n",
    "# root.left.right = Node(5) \n",
    "# root.right.left = Node(6) \n",
    "# root.right.right = Node(7) \n",
    "\n",
    "# print(lca(root, 4, 5))\n",
    "print(lca(root, 3, 6))\n",
    "    "
   ]
  },
  {
   "cell_type": "markdown",
   "metadata": {},
   "source": [
    "### Bottom View of Binary tree"
   ]
  },
  {
   "cell_type": "code",
   "execution_count": 85,
   "metadata": {},
   "outputs": [
    {
     "name": "stdout",
     "output_type": "stream",
     "text": [
      "3 6 8 20 30 "
     ]
    }
   ],
   "source": [
    "def bottom_view(root):\n",
    "    hash = {}\n",
    "    vert_traverse(root, hash, 0, 0)\n",
    "    for key in sorted(hash.keys()):\n",
    "        print(hash[key][0], end = \" \")\n",
    "    \n",
    "def vert_traverse(node, hash, dist, height):\n",
    "    if node is None:\n",
    "        return\n",
    "    \n",
    "    if dist in hash:\n",
    "        if height >= hash[dist][1]:\n",
    "            hash[dist] = [node.data, height]\n",
    "    else:\n",
    "        hash[dist] = [node.data, height]\n",
    "    \n",
    "    vert_traverse(node.left, hash, dist - 1, height + 1)\n",
    "    vert_traverse(node.right, hash, dist + 1, height + 1)\n",
    "    \n",
    "    \n",
    "bottom_view(root)"
   ]
  },
  {
   "cell_type": "markdown",
   "metadata": {},
   "source": [
    "### symmetric tree"
   ]
  },
  {
   "cell_type": "code",
   "execution_count": 89,
   "metadata": {},
   "outputs": [
    {
     "name": "stdout",
     "output_type": "stream",
     "text": [
      "False\n",
      "True\n"
     ]
    }
   ],
   "source": [
    "def is_symmetric(root):\n",
    "    print(check(root.left, root.right))\n",
    "\n",
    "def check(node1, node2):\n",
    "    if node1 is None and node2 is None:\n",
    "        return True\n",
    "    \n",
    "    if node1 and node2 and node1.data == node2.data:\n",
    "        return check(node1.left, node2.right) and check(node1.right, node2.left )\n",
    "    \n",
    "    return False\n",
    "\n",
    "is_symmetric(root)\n",
    "\n",
    "sym_root = Node(10)\n",
    "sym_root.left = Node(5)\n",
    "sym_root.right = Node(5)\n",
    "sym_root.left.left = Node(15)\n",
    "sym_root.left.right = Node(20)\n",
    "sym_root.right.left = Node(20)\n",
    "sym_root.right.right = Node(15)\n",
    "is_symmetric(sym_root)"
   ]
  },
  {
   "cell_type": "markdown",
   "metadata": {},
   "source": [
    "### height of binary tree"
   ]
  },
  {
   "cell_type": "code",
   "execution_count": 9,
   "metadata": {},
   "outputs": [
    {
     "data": {
      "text/plain": [
       "4"
      ]
     },
     "execution_count": 9,
     "metadata": {},
     "output_type": "execute_result"
    }
   ],
   "source": [
    "def height(root):\n",
    "    if root is None:\n",
    "        return 0\n",
    "    \n",
    "    lh = height(root.left)\n",
    "    rh = height(root.right)\n",
    "        \n",
    "#     if lh > rh:\n",
    "#         return lh + 1\n",
    "#     else:\n",
    "#         return rh + 1\n",
    "\n",
    "    return 1 + max(lh, rh)\n",
    "\n",
    "height(root)"
   ]
  },
  {
   "cell_type": "markdown",
   "metadata": {},
   "source": [
    "### binary tree to doubly linked list"
   ]
  },
  {
   "cell_type": "code",
   "execution_count": 95,
   "metadata": {},
   "outputs": [],
   "source": [
    "def binary_to_dll(root):\n",
    "    obj = {\"prev_node\": None, \"head\": None}\n",
    "    convert(root, obj)\n",
    "    return obj[\"head\"]\n",
    "\n",
    "def convert(node, obj):\n",
    "    if node is None:\n",
    "        return\n",
    "    \n",
    "    convert(node.left, obj)\n",
    "    if head is None:\n",
    "        obj[\"head\"] = node\n",
    "        obj[\"head\"].left = None\n",
    "    else:\n",
    "        obj[\"prev_node\"].right = node\n",
    "        node.left = obj[\"prev_node\"]\n",
    "    \n",
    "    obj[\"prev_node\"] = node\n",
    "    convert(node.right, obj)"
   ]
  },
  {
   "cell_type": "markdown",
   "metadata": {},
   "source": [
    "### diameter of binary tree"
   ]
  },
  {
   "cell_type": "code",
   "execution_count": 6,
   "metadata": {},
   "outputs": [
    {
     "data": {
      "text/plain": [
       "6"
      ]
     },
     "execution_count": 6,
     "metadata": {},
     "output_type": "execute_result"
    }
   ],
   "source": [
    "def height(root, diameter):\n",
    "    if root is None:\n",
    "        return 0\n",
    "    lh = height(root.left, diameter)\n",
    "    rh = height(root.right, diameter)\n",
    "    \n",
    "    diameter[0] = max(diameter[0], lh + rh + 1)\n",
    "    return 1 + max(lh, rh)\n",
    "        \n",
    "def calc_diameter(root):\n",
    "    if root is None:\n",
    "        return 0\n",
    "    \n",
    "    diameter = [0]\n",
    "    \n",
    "    h = height(root, diameter)\n",
    "    return diameter[0]\n",
    "\n",
    "calc_diameter(root)"
   ]
  },
  {
   "cell_type": "markdown",
   "metadata": {},
   "source": [
    "### number of leaf nodes"
   ]
  },
  {
   "cell_type": "code",
   "execution_count": 104,
   "metadata": {},
   "outputs": [
    {
     "name": "stdout",
     "output_type": "stream",
     "text": [
      "3\n"
     ]
    }
   ],
   "source": [
    "def leaf_nodes(root):\n",
    "    count = []\n",
    "    compute(root, count)\n",
    "    print(len(count))\n",
    "    \n",
    "def compute(root, count):\n",
    "    if root is None:\n",
    "        return\n",
    "    \n",
    "    compute(root.left, count)\n",
    "    if root.left is None and root.right is None:\n",
    "        count.append(root)\n",
    "    compute(root.right, count)\n",
    "    \n",
    "leaf_nodes(root)"
   ]
  },
  {
   "cell_type": "markdown",
   "metadata": {},
   "source": [
    "### identical trees"
   ]
  },
  {
   "cell_type": "code",
   "execution_count": 16,
   "metadata": {},
   "outputs": [
    {
     "name": "stdout",
     "output_type": "stream",
     "text": [
      "False\n"
     ]
    }
   ],
   "source": [
    "def is_identical(root1, root2):\n",
    "    if root1 is None and root2 is None:\n",
    "        return True\n",
    "    \n",
    "    if root1 and root2 and root1.data == root2.data:\n",
    "        return is_identical(root1.left, root2.left) and is_identical(root1.right, root2.right)\n",
    "        \n",
    "    return False\n",
    "\n",
    "copy_root = Node(10)\n",
    "copy_root.left = Node(5)\n",
    "copy_root.right = Node(20)\n",
    "copy_root.left.left = Node(3)\n",
    "copy_root.left.right = Node(8)\n",
    "copy_root.left.right.left = Node(6)\n",
    "copy_root.right.right = Node(30)\n",
    "\n",
    "print(is_identical(root, copy_root))"
   ]
  },
  {
   "cell_type": "markdown",
   "metadata": {},
   "source": [
    "### min height of binary tree"
   ]
  },
  {
   "cell_type": "code",
   "execution_count": 21,
   "metadata": {},
   "outputs": [
    {
     "name": "stdout",
     "output_type": "stream",
     "text": [
      "2\n",
      "3\n"
     ]
    }
   ],
   "source": [
    "def min_height(root):\n",
    "    if root is None:\n",
    "        return 0\n",
    "    \n",
    "    if root.left is None:\n",
    "        return min_height(root.right) + 1\n",
    "    \n",
    "    if root.right is None:\n",
    "        return min_height(root.left) + 1\n",
    "    \n",
    "    lh = min_height(root.left)\n",
    "    rh = min_height(root.right)\n",
    "    return 1 + min(lh, rh)\n",
    "\n",
    "root1 = Node(1) \n",
    "root1.left = Node(2)\n",
    "root1.right = Node(3) \n",
    "root1.left.left = Node(4) \n",
    "root1.left.right = Node(5) \n",
    "print(min_height(root1)) \n",
    "print(min_height(copy_root)) "
   ]
  },
  {
   "cell_type": "markdown",
   "metadata": {},
   "source": [
    "### max difference between node and its ancestor"
   ]
  },
  {
   "cell_type": "code",
   "execution_count": 13,
   "metadata": {},
   "outputs": [
    {
     "name": "stdout",
     "output_type": "stream",
     "text": [
      "8 2 6\n",
      "5 2 3\n",
      "20 2 30\n",
      "10 7 3\n",
      "7\n"
     ]
    }
   ],
   "source": [
    "from sys import maxsize\n",
    "\n",
    "MIN = - maxsize - 1\n",
    "\n",
    "def max_diff_node_ancestor(node, max_diff):\n",
    "    if node is None:\n",
    "        return maxsize, max_diff\n",
    "\n",
    "    if node.left is None and node.right is None:\n",
    "        return node.data, max_diff\n",
    "    \n",
    "    ln, max_diff = max_diff_node_ancestor(node.left, max_diff)\n",
    "    rn, max_diff = max_diff_node_ancestor(node.right, max_diff)\n",
    "    \n",
    "    min_val = min(ln, rn)\n",
    "    \n",
    "    max_diff = max(max_diff, node.data - min_val)\n",
    "    print(node.data, max_diff, min_val, end = \"\\n\")\n",
    "    return min(min_val, node.data), max_diff\n",
    "    \n",
    "def calc_max_diff(root):\n",
    "    max_diff = MIN\n",
    "    z, max_diff = max_diff_node_ancestor(root, max_diff)\n",
    "    print(max_diff)\n",
    "    \n",
    "    \n",
    "# def max_diff(node, max_diff):\n",
    "#     if node is None:\n",
    "#         return maxsize, max_diff\n",
    "    \n",
    "#     if node.left is None and node.right is None:\n",
    "#         return node.data, max_diff\n",
    "    \n",
    "#     ln, max_diff = max_diff(node.left, max_diff)\n",
    "#     rn, max_diff = max_diff(node.right, max_diff)\n",
    "    \n",
    "#     min_node = min(ln, rn)\n",
    "#     max_diff = max(max_diff, node.data - min_node)\n",
    "#     new_min_node = min(min_node, node.data)\n",
    "#     return new_min_node, max_diff\n",
    "     \n",
    "calc_max_diff(root)"
   ]
  },
  {
   "cell_type": "markdown",
   "metadata": {},
   "source": [
    "### max path sum"
   ]
  },
  {
   "cell_type": "code",
   "execution_count": 14,
   "metadata": {},
   "outputs": [
    {
     "name": "stdout",
     "output_type": "stream",
     "text": [
      "79\n"
     ]
    }
   ],
   "source": [
    "from sys import maxsize\n",
    "\n",
    "def max_path_sum(root):\n",
    "    max_path = [- maxsize - 1]\n",
    "    compute(root, max_path)\n",
    "    print(max_path[0])\n",
    "    \n",
    "def compute(node, max_path):\n",
    "    if node is None:\n",
    "        return - maxsize - 1\n",
    "    \n",
    "    if node.left is None and node.right is None:\n",
    "        return node.data\n",
    "    \n",
    "    left_sum = compute(node.left, max_path)\n",
    "    right_sum = compute(node.right, max_path)\n",
    "    \n",
    "    if node.left is not None and node.right is not None:\n",
    "        max_path[0] = max(max_path[0], left_sum + right_sum + node.data)    \n",
    "        return max(left_sum, right_sum) + node.data\n",
    "    \n",
    "    if node.left is not None:\n",
    "        return left_sum + node.data\n",
    "    else:\n",
    "        return right_sum + node.data\n",
    "\n",
    "max_path_sum(root)"
   ]
  },
  {
   "cell_type": "markdown",
   "metadata": {},
   "source": [
    "### convert binary tree to it's mirror form"
   ]
  },
  {
   "cell_type": "code",
   "execution_count": 2,
   "metadata": {},
   "outputs": [],
   "source": [
    "def mirror(root):\n",
    "    # Code here\n",
    "\n",
    "    if root.left is None and root.right is None:\n",
    "        return\n",
    "\n",
    "    temp = root.left\n",
    "    root.left = root.right\n",
    "    root.right = temp\n",
    "    if root.left is not None:\n",
    "        mirror(root.left)\n",
    "    if root.right is not None:\n",
    "        mirror(root.right)\n",
    "\n",
    "    return"
   ]
  },
  {
   "cell_type": "markdown",
   "metadata": {},
   "source": [
    "### kth ancestor node in binary tree"
   ]
  },
  {
   "cell_type": "code",
   "execution_count": 20,
   "metadata": {},
   "outputs": [
    {
     "name": "stdout",
     "output_type": "stream",
     "text": [
      "[10, 5, 20, 3, 8, 30, 6] 10\n"
     ]
    }
   ],
   "source": [
    "# generate ancestor array using level order traversal and find ancestors using that array \n",
    "\n",
    "def kth_ancestor(root, k, val):\n",
    "    ancestor_arr = level_order_traverse(root)\n",
    "    print(ancestor_arr, end= \" \")\n",
    "    i = 0\n",
    "    while i < len(ancestor_arr): # children of ith node are 2*i+1 and 2*i+2 and parent is (i-1)//2\n",
    "        if ancestor_arr[i] == val:\n",
    "            while i >= 0 and k != 0:\n",
    "                i = (i - 1) // 2\n",
    "                k -= 1\n",
    "            return -1 if i < 0 else ancestor_arr[i]\n",
    "        else:\n",
    "            i += 1\n",
    "    return -1\n",
    "    \n",
    "def level_order_traverse(root):\n",
    "    ancestor_arr = [root.data]\n",
    "    queue = [root]\n",
    "    while len(queue) > 0:\n",
    "        node = queue.pop(0)\n",
    "        if node.left is not None:\n",
    "            queue.append(node.left)\n",
    "            ancestor_arr.append(node.left.data)\n",
    "#         else:\n",
    "#             ancestor_arr.append(None)\n",
    "        if node.right is not None:\n",
    "            queue.append(node.right)\n",
    "            ancestor_arr.append(node.right.data)\n",
    "#         else:\n",
    "#             ancestor_arr.append(None)\n",
    "    return ancestor_arr\n",
    "            \n",
    "    \n",
    "k = 2\n",
    "val = 6\n",
    "root = Node(10)\n",
    "root.left = Node(5)\n",
    "root.right = Node(20)\n",
    "root.left.left = Node(3)\n",
    "root.left.right = Node(8)\n",
    "root.left.right.left = Node(6)\n",
    "root.right.right = Node(30)\n",
    "print(kth_ancestor(root, k, val))"
   ]
  },
  {
   "cell_type": "code",
   "execution_count": 15,
   "metadata": {},
   "outputs": [
    {
     "data": {
      "text/plain": [
       "-1"
      ]
     },
     "execution_count": 15,
     "metadata": {},
     "output_type": "execute_result"
    }
   ],
   "source": [
    "def connect_nodes_at_same_level(root):\n",
    "    q = [root, None]\n",
    "    traverse(root, q):\n",
    "        \n",
    "def traverse(q):\n",
    "    if len(q) == 0:\n",
    "        return\n",
    "    \n",
    "    node = q.pop(0)\n",
    "    \n",
    "    while node is not None:\n",
    "        if node.left is not None:\n",
    "            q.append(node.left)\n",
    "        if node.right is not None:\n",
    "            q.append(node.right)\n",
    "            \n",
    "        nextNode = q.pop(0)\n",
    "        node.nextRight = nextNode\n",
    "        node = nextNode\n",
    "        \n",
    "    if q:\n",
    "        q.append(None)\n",
    "    traverse(q)\n",
    "        \n",
    "        \n",
    "    "
   ]
  },
  {
   "cell_type": "code",
   "execution_count": 5,
   "metadata": {},
   "outputs": [
    {
     "name": "stdout",
     "output_type": "stream",
     "text": [
      "1\n"
     ]
    }
   ],
   "source": [
    "def findTriplets(arr,n):\n",
    "    #code here\n",
    "    k = n-1\n",
    "    arr.sort()\n",
    "    \n",
    "    while k > 1:\n",
    "        i = 0\n",
    "        j = k-1\n",
    "        while j>i:\n",
    "            if arr[i] + arr[j] + arr[k] == 0:\n",
    "                return 1\n",
    "            if arr[i] + arr[j] + arr[k] > 0:\n",
    "                j -= 1\n",
    "            else:\n",
    "                i += 1\n",
    "        k -= 1\n",
    "    return 0\n",
    "\n",
    "n = 6\n",
    "arr = [60, -65, 5, -21, 8, 93]\n",
    "print(findTriplets(arr, n))"
   ]
  },
  {
   "cell_type": "markdown",
   "metadata": {},
   "source": [
    "#### Duplicate subtree in Binary Tree"
   ]
  },
  {
   "cell_type": "code",
   "execution_count": 7,
   "metadata": {},
   "outputs": [],
   "source": [
    "def dupSub(node):\n",
    "    # Code here\n",
    "    h = {}\n",
    "    s = inorder(node, h)\n",
    "    res = 0\n",
    "    for k in h.keys():\n",
    "        if h[k] > 1 and len(k) > 3:\n",
    "            return 1\n",
    "\n",
    "    return 0\n",
    "    \n",
    "def inorder(node, h):\n",
    "    s = ''\n",
    "    if node is None:\n",
    "        return s + '*'\n",
    "    s += inorder(node.left, h)\n",
    "    s += node.data\n",
    "    s += inorder(node.right, h)\n",
    "    if s in h:\n",
    "        h[s] += 1\n",
    "    else:\n",
    "        h[s] = 1\n",
    "    return s"
   ]
  },
  {
   "cell_type": "markdown",
   "metadata": {},
   "source": [
    "### infinite monkey problem"
   ]
  },
  {
   "cell_type": "code",
   "execution_count": 21,
   "metadata": {},
   "outputs": [
    {
     "name": "stdout",
     "output_type": "stream",
     "text": [
      "res ['314', '15926535897', '9323']\n"
     ]
    }
   ],
   "source": [
    "class TrieNode:\n",
    "    def __init__(self):\n",
    "        self.children = [None] * 10\n",
    "        self.ending = False\n",
    "\n",
    "def construct_trie(root, val):\n",
    "    node = root\n",
    "    for i in val:\n",
    "        if node.children[int(i)] is None:\n",
    "            node.children[int(i)] = TrieNode()\n",
    "        node = node.children[int(i)]\n",
    "    \n",
    "        \n",
    "def infinite_monkey_problem(pi_str, arr):\n",
    "    root = TrieNode()\n",
    "    for ele in arr:\n",
    "        construct_trie(root, ele)\n",
    "    i = 0\n",
    "    substr_start = 0\n",
    "    node = root\n",
    "    res = []\n",
    "    while i < len(pi_str):\n",
    "        number = int(pi_str[i])\n",
    "        if node and node.children[number] is not None:\n",
    "            node = node.children[number]\n",
    "            i += 1\n",
    "        else:\n",
    "            res.append(pi_str[substr_start:i])\n",
    "            substr_start = i\n",
    "            node = root\n",
    "    print(\"res\", res)\n",
    "\n",
    "\n",
    "pi = '3141592653589793238462643383279'\n",
    "arr = ['314', '49', '9001', '15926535897', '14', '9323', '8462643383279', '4', '793']\n",
    "infinite_monkey_problem(pi, arr)"
   ]
  },
  {
   "cell_type": "markdown",
   "metadata": {},
   "source": [
    "### segment tree\n",
    "\n",
    "    Can be used to solve range min/max queries, sum queries and range update queries in O(logn)"
   ]
  },
  {
   "cell_type": "code",
   "execution_count": 35,
   "metadata": {},
   "outputs": [
    {
     "name": "stdout",
     "output_type": "stream",
     "text": [
      "24\n"
     ]
    }
   ],
   "source": [
    "# Time Complexity of construction - O(n)\n",
    "# Leaf nodes = 2^h\n",
    "# Total nodes =  2*leaf_nodes - 1\n",
    "# Sum TC = O(logn)\n",
    "# Update TC = O(lgn)\n",
    "\n",
    "import math\n",
    "\n",
    "def sum_helper(st, low, high, rs, re, i):\n",
    "    if rs <= low and re >= high:\n",
    "        return st[i]\n",
    "\n",
    "    if rs > high or re < low:\n",
    "        return 0\n",
    "    mid = (low + high) // 2\n",
    "\n",
    "    return sum_helper(st,   low,   mid,  rs, re, 2*i + 1) + \\\n",
    "           sum_helper(st, mid + 1, high, rs, re, 2*i + 2)\n",
    "\n",
    "\n",
    "def calc_sum(st, n, start, end):\n",
    "    if start < 0 or end >= n or start > end:\n",
    "        return -1\n",
    "\n",
    "    return sum_helper(st, 0, n-1, start, end, 0)\n",
    "\n",
    "# def update(st, n, index, value):\n",
    "\n",
    "\n",
    "def construct_helper(arr, st, low, high, i):\n",
    "    if low == high:\n",
    "        st[i] = arr[high]\n",
    "        return st[i]\n",
    "    mid = (low + high) // 2\n",
    "    st[i] = construct_helper(arr, st, low, mid, 2*i + 1) + construct_helper(arr, st, mid + 1, high, 2*i + 2)\n",
    "    return st[i]\n",
    "    \n",
    "\n",
    "def construct_segment_tree(arr, n):\n",
    "    height = int(math.ceil(math.log2(n)))\n",
    "    total_nodes = 2 * (2 ** height) - 1\n",
    "    st = [0] * total_nodes\n",
    "    low = 0\n",
    "    construct_helper(arr, st, low, n-1, 0)\n",
    "    return st\n",
    "    \n",
    "    \n",
    "arr = [1, 3, 5, 7, 9, 11, 15, 16];  \n",
    "n = len(arr)\n",
    "st = construct_segment_tree(arr, n)\n",
    "start = 1\n",
    "end = 4\n",
    "# print(st)\n",
    "print(calc_sum(st, n, start, end))\n",
    "\n",
    "index = 3\n",
    "value = 17\n",
    "update(st, n, index, value)\n",
    "\n",
    "# print(st)\n",
    "print(calc_sum(st, n, start, end))"
   ]
  },
  {
   "cell_type": "code",
   "execution_count": null,
   "metadata": {},
   "outputs": [],
   "source": []
  }
 ],
 "metadata": {
  "kernelspec": {
   "display_name": "Python 3",
   "language": "python",
   "name": "python3"
  },
  "language_info": {
   "codemirror_mode": {
    "name": "ipython",
    "version": 3
   },
   "file_extension": ".py",
   "mimetype": "text/x-python",
   "name": "python",
   "nbconvert_exporter": "python",
   "pygments_lexer": "ipython3",
   "version": "3.7.3"
  }
 },
 "nbformat": 4,
 "nbformat_minor": 2
}
